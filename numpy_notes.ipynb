{
 "cells": [
  {
   "cell_type": "code",
   "execution_count": 1,
   "id": "4daf8dd3",
   "metadata": {},
   "outputs": [],
   "source": [
    "import numpy as np"
   ]
  },
  {
   "cell_type": "markdown",
   "id": "5c950d0e",
   "metadata": {},
   "source": [
    "# Создание одномерного массива"
   ]
  },
  {
   "cell_type": "code",
   "execution_count": 3,
   "id": "cddb6240",
   "metadata": {},
   "outputs": [
    {
     "name": "stdout",
     "output_type": "stream",
     "text": [
      "[5 5 5]\n",
      "[1 2 7 8 9]\n"
     ]
    }
   ],
   "source": [
    "np.array([1, 2, 3, 4])\n",
    "np.array( (1, 2, 3, 4) )\n",
    "np.array([1,2,3,4], 'float64')\n",
    "np.array([1, 2, 3, 4]).dtype\n",
    "np.array([1, 2, \"3\", True])\n",
    "a = np.array([1,2,3,4,5,6,7,8,9])\n",
    "print(a[ [4,4,4] ])\n",
    "print(a[ [True, True, False, False, False, False, True, True, True] ])"
   ]
  },
  {
   "cell_type": "markdown",
   "id": "7205d65c",
   "metadata": {},
   "source": [
    "# Создание многомерного массива"
   ]
  },
  {
   "cell_type": "code",
   "execution_count": 4,
   "id": "e637fa16",
   "metadata": {},
   "outputs": [
    {
     "data": {
      "text/plain": [
       "array([[[ 1,  2],\n",
       "        [ 3,  4]],\n",
       "\n",
       "       [[ 5,  6],\n",
       "        [ 7,  8]],\n",
       "\n",
       "       [[ 9, 10],\n",
       "        [11, 12]]])"
      ]
     },
     "execution_count": 4,
     "metadata": {},
     "output_type": "execute_result"
    }
   ],
   "source": [
    "np.array([[1, 2], [3, 4], [5, 6]])\n",
    "np.array([[[1, 2], [3, 4]], [[5, 6], [7, 8]], [[9, 10], [11, 12]]])"
   ]
  },
  {
   "cell_type": "markdown",
   "id": "6f0480b7",
   "metadata": {},
   "source": [
    "# Функции автозаполнения элементов массива"
   ]
  },
  {
   "cell_type": "code",
   "execution_count": 5,
   "id": "41378134",
   "metadata": {},
   "outputs": [
    {
     "data": {
      "text/plain": [
       "array([1, 0, 2, 0, 7, 0, 8, 0, 9, 0], dtype=int16)"
      ]
     },
     "execution_count": 5,
     "metadata": {},
     "output_type": "execute_result"
    }
   ],
   "source": [
    "np.empty(10, dtype='int16')"
   ]
  },
  {
   "cell_type": "code",
   "execution_count": 6,
   "id": "038b6cfa",
   "metadata": {},
   "outputs": [
    {
     "data": {
      "text/plain": [
       "array([[1.e-45, 3.e-45],\n",
       "       [4.e-45, 6.e-45],\n",
       "       [7.e-45, 8.e-45]], dtype=float32)"
      ]
     },
     "execution_count": 6,
     "metadata": {},
     "output_type": "execute_result"
    }
   ],
   "source": [
    "np.empty((3, 2), dtype='float32')"
   ]
  },
  {
   "cell_type": "code",
   "execution_count": 7,
   "id": "e1b11c4a",
   "metadata": {},
   "outputs": [
    {
     "data": {
      "text/plain": [
       "array([[1., 0., 0., 0.],\n",
       "       [0., 1., 0., 0.],\n",
       "       [0., 0., 1., 0.],\n",
       "       [0., 0., 0., 1.]])"
      ]
     },
     "execution_count": 7,
     "metadata": {},
     "output_type": "execute_result"
    }
   ],
   "source": [
    "np.eye(4)"
   ]
  },
  {
   "cell_type": "code",
   "execution_count": 8,
   "id": "5aeb261b",
   "metadata": {},
   "outputs": [
    {
     "data": {
      "text/plain": [
       "array([[1., 0.],\n",
       "       [0., 1.],\n",
       "       [0., 0.],\n",
       "       [0., 0.]])"
      ]
     },
     "execution_count": 8,
     "metadata": {},
     "output_type": "execute_result"
    }
   ],
   "source": [
    "np.eye(4, 2)"
   ]
  },
  {
   "cell_type": "code",
   "execution_count": 9,
   "id": "38486154",
   "metadata": {},
   "outputs": [
    {
     "data": {
      "text/plain": [
       "array([[1., 0., 0., 0., 0.],\n",
       "       [0., 1., 0., 0., 0.],\n",
       "       [0., 0., 1., 0., 0.],\n",
       "       [0., 0., 0., 1., 0.],\n",
       "       [0., 0., 0., 0., 1.]])"
      ]
     },
     "execution_count": 9,
     "metadata": {},
     "output_type": "execute_result"
    }
   ],
   "source": [
    "np.identity(5)"
   ]
  },
  {
   "cell_type": "code",
   "execution_count": 10,
   "id": "6aec0995",
   "metadata": {},
   "outputs": [
    {
     "data": {
      "text/plain": [
       "array([[[[0., 0., 0., 0., 0.],\n",
       "         [0., 0., 0., 0., 0.],\n",
       "         [0., 0., 0., 0., 0.],\n",
       "         [0., 0., 0., 0., 0.]],\n",
       "\n",
       "        [[0., 0., 0., 0., 0.],\n",
       "         [0., 0., 0., 0., 0.],\n",
       "         [0., 0., 0., 0., 0.],\n",
       "         [0., 0., 0., 0., 0.]],\n",
       "\n",
       "        [[0., 0., 0., 0., 0.],\n",
       "         [0., 0., 0., 0., 0.],\n",
       "         [0., 0., 0., 0., 0.],\n",
       "         [0., 0., 0., 0., 0.]]],\n",
       "\n",
       "\n",
       "       [[[0., 0., 0., 0., 0.],\n",
       "         [0., 0., 0., 0., 0.],\n",
       "         [0., 0., 0., 0., 0.],\n",
       "         [0., 0., 0., 0., 0.]],\n",
       "\n",
       "        [[0., 0., 0., 0., 0.],\n",
       "         [0., 0., 0., 0., 0.],\n",
       "         [0., 0., 0., 0., 0.],\n",
       "         [0., 0., 0., 0., 0.]],\n",
       "\n",
       "        [[0., 0., 0., 0., 0.],\n",
       "         [0., 0., 0., 0., 0.],\n",
       "         [0., 0., 0., 0., 0.],\n",
       "         [0., 0., 0., 0., 0.]]]])"
      ]
     },
     "execution_count": 10,
     "metadata": {},
     "output_type": "execute_result"
    }
   ],
   "source": [
    "np.zeros( (2, 3, 4, 5) ) # нулевая матрица размерностью 2x3x4"
   ]
  },
  {
   "cell_type": "code",
   "execution_count": 11,
   "id": "594f6dc5",
   "metadata": {},
   "outputs": [
    {
     "data": {
      "text/plain": [
       "array([[1, 1, 1],\n",
       "       [1, 1, 1],\n",
       "       [1, 1, 1],\n",
       "       [1, 1, 1]], dtype=int8)"
      ]
     },
     "execution_count": 11,
     "metadata": {},
     "output_type": "execute_result"
    }
   ],
   "source": [
    "np.ones( [4, 3], dtype='int8')"
   ]
  },
  {
   "cell_type": "code",
   "execution_count": 12,
   "id": "7aee1d72",
   "metadata": {},
   "outputs": [
    {
     "data": {
      "text/plain": [
       "array([[-6, -6],\n",
       "       [-6, -6],\n",
       "       [-6, -6]])"
      ]
     },
     "execution_count": 12,
     "metadata": {},
     "output_type": "execute_result"
    }
   ],
   "source": [
    "np.full((3, 2), -6)"
   ]
  },
  {
   "cell_type": "markdown",
   "id": "5ab8f460",
   "metadata": {},
   "source": [
    "# Создание матриц"
   ]
  },
  {
   "cell_type": "code",
   "execution_count": 13,
   "id": "6acb8cd6",
   "metadata": {
    "scrolled": true
   },
   "outputs": [
    {
     "data": {
      "text/plain": [
       "matrix([[1, 2, 3, 4]])"
      ]
     },
     "execution_count": 13,
     "metadata": {},
     "output_type": "execute_result"
    }
   ],
   "source": [
    "np.mat('1 2 3 4') # создает матрицу 1x4 из строки"
   ]
  },
  {
   "cell_type": "code",
   "execution_count": 14,
   "id": "4dee5481",
   "metadata": {},
   "outputs": [
    {
     "data": {
      "text/plain": [
       "matrix([[1, 2, 3, 4]])"
      ]
     },
     "execution_count": 14,
     "metadata": {},
     "output_type": "execute_result"
    }
   ],
   "source": [
    "np.mat('1, 2, 3, 4') # то же самое: создает матрицу 1x4 из строки"
   ]
  },
  {
   "cell_type": "code",
   "execution_count": 15,
   "id": "b697b4a4",
   "metadata": {},
   "outputs": [
    {
     "data": {
      "text/plain": [
       "matrix([[1, 2],\n",
       "        [3, 4]])"
      ]
     },
     "execution_count": 15,
     "metadata": {},
     "output_type": "execute_result"
    }
   ],
   "source": [
    "np.mat('1 2; 3 4') # возвращает матрицу 2x2"
   ]
  },
  {
   "cell_type": "code",
   "execution_count": 16,
   "id": "fe323176",
   "metadata": {},
   "outputs": [
    {
     "data": {
      "text/plain": [
       "matrix([[1, 2, 3],\n",
       "        [4, 5, 6]])"
      ]
     },
     "execution_count": 16,
     "metadata": {},
     "output_type": "execute_result"
    }
   ],
   "source": [
    "np.mat([5, 4, 3])\n",
    "np.mat( [(1,2,3), (4,5,6)])"
   ]
  },
  {
   "cell_type": "code",
   "execution_count": 17,
   "id": "4255edf5",
   "metadata": {},
   "outputs": [
    {
     "data": {
      "text/plain": [
       "array([[1, 0, 0],\n",
       "       [0, 2, 0],\n",
       "       [0, 0, 3]])"
      ]
     },
     "execution_count": 17,
     "metadata": {},
     "output_type": "execute_result"
    }
   ],
   "source": [
    "np.diag([1, 2, 3])"
   ]
  },
  {
   "cell_type": "code",
   "execution_count": 18,
   "id": "41cf5b0f",
   "metadata": {},
   "outputs": [
    {
     "data": {
      "text/plain": [
       "array([1, 5, 9])"
      ]
     },
     "execution_count": 18,
     "metadata": {},
     "output_type": "execute_result"
    }
   ],
   "source": [
    "np.diag([(1,2,3), (4,5,6), (7,8,9)]) # вычленение элементов из главной диагонали"
   ]
  },
  {
   "cell_type": "code",
   "execution_count": 19,
   "id": "6f731671",
   "metadata": {},
   "outputs": [
    {
     "data": {
      "text/plain": [
       "array([[1, 0, 0, 0, 0, 0, 0, 0, 0],\n",
       "       [0, 2, 0, 0, 0, 0, 0, 0, 0],\n",
       "       [0, 0, 3, 0, 0, 0, 0, 0, 0],\n",
       "       [0, 0, 0, 4, 0, 0, 0, 0, 0],\n",
       "       [0, 0, 0, 0, 5, 0, 0, 0, 0],\n",
       "       [0, 0, 0, 0, 0, 6, 0, 0, 0],\n",
       "       [0, 0, 0, 0, 0, 0, 7, 0, 0],\n",
       "       [0, 0, 0, 0, 0, 0, 0, 8, 0],\n",
       "       [0, 0, 0, 0, 0, 0, 0, 0, 9]])"
      ]
     },
     "execution_count": 19,
     "metadata": {},
     "output_type": "execute_result"
    }
   ],
   "source": [
    "np.diagflat([(1,2,3), (4,5,6), (7,8,9)]) # эл-ты воспринимаются как единый список"
   ]
  },
  {
   "cell_type": "code",
   "execution_count": 20,
   "id": "d5fcf9f7",
   "metadata": {},
   "outputs": [
    {
     "data": {
      "text/plain": [
       "array([[1., 0., 0.],\n",
       "       [1., 1., 0.],\n",
       "       [1., 1., 1.],\n",
       "       [1., 1., 1.]])"
      ]
     },
     "execution_count": 20,
     "metadata": {},
     "output_type": "execute_result"
    }
   ],
   "source": [
    "np.tri(4) # треугольная матрица 4x4\n",
    "np.tri(4, 3) # треугольная матрица 4x2"
   ]
  },
  {
   "cell_type": "code",
   "execution_count": 21,
   "id": "e0e469ec",
   "metadata": {},
   "outputs": [
    {
     "data": {
      "text/plain": [
       "array([[1, 2, 3],\n",
       "       [0, 5, 6],\n",
       "       [0, 0, 9]])"
      ]
     },
     "execution_count": 21,
     "metadata": {},
     "output_type": "execute_result"
    }
   ],
   "source": [
    "a = np.array( [(1,2,3), (4,5,6), (7,8,9)] )\n",
    "np.tril(a) # нижняя треугольная матрица размером 3x3\n",
    "np.triu(a) # верхняя треугольная матрица размером 3x3"
   ]
  },
  {
   "cell_type": "code",
   "execution_count": 22,
   "id": "9ffd63d2",
   "metadata": {},
   "outputs": [
    {
     "data": {
      "text/plain": [
       "array([[1, 0, 0],\n",
       "       [1, 2, 0],\n",
       "       [1, 2, 3]])"
      ]
     },
     "execution_count": 22,
     "metadata": {},
     "output_type": "execute_result"
    }
   ],
   "source": [
    "np.tril([1,2,3])"
   ]
  },
  {
   "cell_type": "code",
   "execution_count": 23,
   "id": "4e55f14a",
   "metadata": {},
   "outputs": [
    {
     "data": {
      "text/plain": [
       "array([[[  1,   0,   0],\n",
       "        [  4,   5,   0],\n",
       "        [  7,   8,   9]],\n",
       "\n",
       "       [[ 10,   0,   0],\n",
       "        [ 40,  50,   0],\n",
       "        [ 70,  80,  90]],\n",
       "\n",
       "       [[100,   0,   0],\n",
       "        [400, 500,   0],\n",
       "        [700, 800, 900]]])"
      ]
     },
     "execution_count": 23,
     "metadata": {},
     "output_type": "execute_result"
    }
   ],
   "source": [
    "np.tril([[[1,2,3], [4,5,6], [7,8,9]], [[10,20,30], [40,50,60], [70,80,90]], [[100,200,300], [400,500,600], [700,800,900]]])"
   ]
  },
  {
   "cell_type": "markdown",
   "id": "4419adbf",
   "metadata": {},
   "source": [
    "# Функции формирования числовых диапазонов"
   ]
  },
  {
   "cell_type": "code",
   "execution_count": 24,
   "id": "0c26410a",
   "metadata": {},
   "outputs": [
    {
     "data": {
      "text/plain": [
       "array([1. , 1.5, 2. , 2.5, 3. , 3.5, 4. , 4.5])"
      ]
     },
     "execution_count": 24,
     "metadata": {},
     "output_type": "execute_result"
    }
   ],
   "source": [
    "np.arange(5)         # интервал [0; 5) с шагом 1\n",
    "np.arange(1, 5)      # интервал [1; 5) с шагом 1\n",
    "np.arange(1, 5, 0.5) # интервал [1; 5) с шагом 0,5"
   ]
  },
  {
   "cell_type": "code",
   "execution_count": 25,
   "id": "8de85f33",
   "metadata": {},
   "outputs": [
    {
     "data": {
      "text/plain": [
       "array([0. , 0.1, 0.2, 0.3, 0.4, 0.5, 0.6, 0.7, 0.8, 0.9, 1. , 1.1, 1.2,\n",
       "       1.3, 1.4, 1.5, 1.6, 1.7, 1.8, 1.9, 2. , 2.1, 2.2, 2.3, 2.4, 2.5,\n",
       "       2.6, 2.7, 2.8, 2.9, 3. , 3.1])"
      ]
     },
     "execution_count": 25,
     "metadata": {},
     "output_type": "execute_result"
    }
   ],
   "source": [
    "np.arange(0, np.pi, 0.1)"
   ]
  },
  {
   "cell_type": "code",
   "execution_count": 26,
   "id": "b8d0343c",
   "metadata": {},
   "outputs": [
    {
     "data": {
      "text/plain": [
       "array([ 1.        ,  0.99500417,  0.98006658,  0.95533649,  0.92106099,\n",
       "        0.87758256,  0.82533561,  0.76484219,  0.69670671,  0.62160997,\n",
       "        0.54030231,  0.45359612,  0.36235775,  0.26749883,  0.16996714,\n",
       "        0.0707372 , -0.02919952, -0.12884449, -0.22720209, -0.32328957,\n",
       "       -0.41614684, -0.5048461 , -0.58850112, -0.66627602, -0.73739372,\n",
       "       -0.80114362, -0.85688875, -0.90407214, -0.94222234, -0.97095817,\n",
       "       -0.9899925 , -0.99913515])"
      ]
     },
     "execution_count": 26,
     "metadata": {},
     "output_type": "execute_result"
    }
   ],
   "source": [
    "np.cos(np.arange(0, np.pi, 0.1)) # без циклов"
   ]
  },
  {
   "cell_type": "code",
   "execution_count": 27,
   "id": "0be981ac",
   "metadata": {},
   "outputs": [
    {
     "data": {
      "text/plain": [
       "array([0.        , 1.57079633, 3.14159265])"
      ]
     },
     "execution_count": 27,
     "metadata": {},
     "output_type": "execute_result"
    }
   ],
   "source": [
    "np.linspace(0, np.pi, 0) # пустой массив\n",
    "np.linspace(0, np.pi, 1) # одно значение 0\n",
    "np.linspace(0, np.pi, 2) # два значения: 0 и pi\n",
    "np.linspace(0, np.pi, 3) # три значения: 0, pi/2, pi"
   ]
  },
  {
   "cell_type": "code",
   "execution_count": 28,
   "id": "7b66a208",
   "metadata": {},
   "outputs": [
    {
     "data": {
      "text/plain": [
       "array([1.e+00, 1.e+02, 1.e+04])"
      ]
     },
     "execution_count": 28,
     "metadata": {},
     "output_type": "execute_result"
    }
   ],
   "source": [
    "np.logspace(0, 4, 3) # значения: 10^0, 10^2, 10^4"
   ]
  },
  {
   "cell_type": "code",
   "execution_count": 29,
   "id": "2c809097",
   "metadata": {},
   "outputs": [
    {
     "data": {
      "text/plain": [
       "array([ 1.,  2.,  4.,  8., 16.])"
      ]
     },
     "execution_count": 29,
     "metadata": {},
     "output_type": "execute_result"
    }
   ],
   "source": [
    "np.geomspace(1, 16, 5) # значения: 1, 2, 4, 8, 16"
   ]
  },
  {
   "cell_type": "markdown",
   "id": "d3b5158c",
   "metadata": {},
   "source": [
    "# Функции формирования массивов на основе данных"
   ]
  },
  {
   "cell_type": "code",
   "execution_count": 30,
   "id": "1708e976",
   "metadata": {},
   "outputs": [
    {
     "name": "stdout",
     "output_type": "stream",
     "text": [
      "1830963938960 1830963808464\n"
     ]
    }
   ],
   "source": [
    "a = np.array( [(1, 2), (3, 4)] )\n",
    "b = np.copy(a)\n",
    "print(id(a), id(b))"
   ]
  },
  {
   "cell_type": "code",
   "execution_count": 31,
   "id": "80507188",
   "metadata": {},
   "outputs": [
    {
     "data": {
      "text/plain": [
       "array([[  0.,   1.,   2.],\n",
       "       [100., 101., 102.],\n",
       "       [200., 201., 202.]])"
      ]
     },
     "execution_count": 31,
     "metadata": {},
     "output_type": "execute_result"
    }
   ],
   "source": [
    "np.fromfunction(lambda x, y: x*100+y, (3, 3))"
   ]
  },
  {
   "cell_type": "code",
   "execution_count": 32,
   "id": "33c5a625",
   "metadata": {},
   "outputs": [
    {
     "data": {
      "text/plain": [
       "array(['h', 'e', 'l', 'l', 'o'], dtype='<U1')"
      ]
     },
     "execution_count": 32,
     "metadata": {},
     "output_type": "execute_result"
    }
   ],
   "source": [
    "np.fromiter(\"hello\", dtype='U1') # массив на основе итерируемого объекта"
   ]
  },
  {
   "cell_type": "code",
   "execution_count": 33,
   "id": "e4b3dde9",
   "metadata": {},
   "outputs": [
    {
     "data": {
      "text/plain": [
       "array([1, 2, 3], dtype=int16)"
      ]
     },
     "execution_count": 33,
     "metadata": {},
     "output_type": "execute_result"
    }
   ],
   "source": [
    "np.fromstring('1 2 3', dtype='int16', sep= ' ')"
   ]
  },
  {
   "cell_type": "code",
   "execution_count": 34,
   "id": "234808e2",
   "metadata": {},
   "outputs": [
    {
     "data": {
      "text/plain": [
       "array([1, 2, 3], dtype=int16)"
      ]
     },
     "execution_count": 34,
     "metadata": {},
     "output_type": "execute_result"
    }
   ],
   "source": [
    "np.fromstring('1, 2, 3', dtype='int16', sep= ',')"
   ]
  },
  {
   "cell_type": "markdown",
   "id": "c990f29d",
   "metadata": {},
   "source": [
    "# Свойства, представления и копии массивов"
   ]
  },
  {
   "cell_type": "code",
   "execution_count": 35,
   "id": "07987109",
   "metadata": {},
   "outputs": [
    {
     "data": {
      "text/plain": [
       "dtype('float64')"
      ]
     },
     "execution_count": 35,
     "metadata": {},
     "output_type": "execute_result"
    }
   ],
   "source": [
    "a = np.array([0.1, 0.2, 0.3, 0.4, 0.5, 0.6, 0.7, 0.8, 0.9])\n",
    "a.dtype"
   ]
  },
  {
   "cell_type": "code",
   "execution_count": 36,
   "id": "9152d541",
   "metadata": {},
   "outputs": [
    {
     "data": {
      "text/plain": [
       "array([-1.58818684e-23,  1.44999993e+00, -1.58818684e-23,  1.57499993e+00,\n",
       "        4.17232506e-08,  1.64999998e+00, -1.58818684e-23,  1.69999993e+00,\n",
       "        0.00000000e+00,  1.75000000e+00,  4.17232506e-08,  1.77499998e+00,\n",
       "        2.72008302e+23,  1.79999995e+00, -1.58818684e-23,  1.82499993e+00,\n",
       "       -1.07374184e+08,  1.84999990e+00], dtype=float32)"
      ]
     },
     "execution_count": 36,
     "metadata": {},
     "output_type": "execute_result"
    }
   ],
   "source": [
    "a.dtype = np.float32()\n",
    "a"
   ]
  },
  {
   "cell_type": "code",
   "execution_count": 37,
   "id": "385e0672",
   "metadata": {},
   "outputs": [
    {
     "data": {
      "text/plain": [
       "18"
      ]
     },
     "execution_count": 37,
     "metadata": {},
     "output_type": "execute_result"
    }
   ],
   "source": [
    "a.size"
   ]
  },
  {
   "cell_type": "code",
   "execution_count": 38,
   "id": "715d93e2",
   "metadata": {},
   "outputs": [
    {
     "data": {
      "text/plain": [
       "4"
      ]
     },
     "execution_count": 38,
     "metadata": {},
     "output_type": "execute_result"
    }
   ],
   "source": [
    "a.itemsize # 32 bit == 4 byte"
   ]
  },
  {
   "cell_type": "code",
   "execution_count": 39,
   "id": "8c8414fd",
   "metadata": {},
   "outputs": [
    {
     "data": {
      "text/plain": [
       "72"
      ]
     },
     "execution_count": 39,
     "metadata": {},
     "output_type": "execute_result"
    }
   ],
   "source": [
    "a.size*a.itemsize # (байта)"
   ]
  },
  {
   "cell_type": "code",
   "execution_count": 40,
   "id": "4fa89e2b",
   "metadata": {},
   "outputs": [],
   "source": [
    "b = np.ones( (3, 4, 5) )"
   ]
  },
  {
   "cell_type": "code",
   "execution_count": 41,
   "id": "91f34f43",
   "metadata": {},
   "outputs": [
    {
     "data": {
      "text/plain": [
       "3"
      ]
     },
     "execution_count": 41,
     "metadata": {},
     "output_type": "execute_result"
    }
   ],
   "source": [
    "b.ndim # Количество осей массива"
   ]
  },
  {
   "cell_type": "code",
   "execution_count": 42,
   "id": "6eca546d",
   "metadata": {},
   "outputs": [
    {
     "data": {
      "text/plain": [
       "(3, 4, 5)"
      ]
     },
     "execution_count": 42,
     "metadata": {},
     "output_type": "execute_result"
    }
   ],
   "source": [
    "b.shape # вернет кортеж (3, 4, 5)"
   ]
  },
  {
   "cell_type": "code",
   "execution_count": 43,
   "id": "66927b06",
   "metadata": {},
   "outputs": [],
   "source": [
    "b.shape = 60 # все 60 элементов вытянутся в строку\n",
    "b.shape = (12, 5) # массив размерностью 12x5"
   ]
  },
  {
   "cell_type": "code",
   "execution_count": 44,
   "id": "23771964",
   "metadata": {},
   "outputs": [
    {
     "data": {
      "text/plain": [
       "array([[1., 1., 1., 1., 1.],\n",
       "       [1., 1., 1., 1., 1.],\n",
       "       [1., 1., 1., 1., 1.],\n",
       "       [1., 1., 1., 1., 1.],\n",
       "       [1., 1., 1., 1., 1.],\n",
       "       [1., 1., 1., 1., 1.],\n",
       "       [1., 1., 1., 1., 1.],\n",
       "       [1., 1., 1., 1., 1.],\n",
       "       [1., 1., 1., 1., 1.],\n",
       "       [1., 1., 1., 1., 1.],\n",
       "       [1., 1., 1., 1., 1.],\n",
       "       [1., 1., 1., 1., 1.]])"
      ]
     },
     "execution_count": 44,
     "metadata": {},
     "output_type": "execute_result"
    }
   ],
   "source": [
    "b"
   ]
  },
  {
   "cell_type": "code",
   "execution_count": 45,
   "id": "9f73ac67",
   "metadata": {},
   "outputs": [
    {
     "data": {
      "text/plain": [
       "array([[[99.,  1.,  1.,  1.,  1.,  1.,  1.,  1.,  1.,  1.],\n",
       "        [ 1.,  1.,  1.,  1.,  1.,  1.,  1.,  1.,  1.,  1.]],\n",
       "\n",
       "       [[ 1.,  1.,  1.,  1.,  1.,  1.,  1.,  1.,  1.,  1.],\n",
       "        [ 1.,  1.,  1.,  1.,  1.,  1.,  1.,  1.,  1.,  1.]],\n",
       "\n",
       "       [[ 1.,  1.,  1.,  1.,  1.,  1.,  1.,  1.,  1.,  1.],\n",
       "        [ 1.,  1.,  1.,  1.,  1.,  1.,  1.,  1.,  1.,  1.]]])"
      ]
     },
     "execution_count": 45,
     "metadata": {},
     "output_type": "execute_result"
    }
   ],
   "source": [
    "c = b.reshape(3,2,10) # ссылка на новый! массив\n",
    "b[0][0] = 99 # но данные в массиве те же самые\n",
    "c"
   ]
  },
  {
   "cell_type": "code",
   "execution_count": 46,
   "id": "7fce77a8",
   "metadata": {},
   "outputs": [
    {
     "data": {
      "text/plain": [
       "array([[1, 2, 3],\n",
       "       [4, 5, 6],\n",
       "       [7, 8, 9]])"
      ]
     },
     "execution_count": 46,
     "metadata": {},
     "output_type": "execute_result"
    }
   ],
   "source": [
    "a = np.array([1,2,3,4,5,6,7,8,9])\n",
    "b = a\n",
    "a.shape = 3,3\n",
    "b # представление b тоже изменится"
   ]
  },
  {
   "cell_type": "code",
   "execution_count": 47,
   "id": "34ba43e2",
   "metadata": {},
   "outputs": [
    {
     "data": {
      "text/plain": [
       "array([1, 2, 3, 4, 5, 6, 7, 8, 9])"
      ]
     },
     "execution_count": 47,
     "metadata": {},
     "output_type": "execute_result"
    }
   ],
   "source": [
    "a = np.array([1,2,3,4,5,6,7,8,9])\n",
    "b = a.view() # создание копии представления\n",
    "a.shape = 3,3\n",
    "b # представление b НЕ изменится"
   ]
  },
  {
   "cell_type": "code",
   "execution_count": 48,
   "id": "16bfde24",
   "metadata": {},
   "outputs": [],
   "source": [
    "a = np.array([1,2,3])\n",
    "b = np.array( a ) # создание копии\n",
    "b = np.copy(a) # тоже создание копии"
   ]
  },
  {
   "cell_type": "markdown",
   "id": "fd62befc",
   "metadata": {},
   "source": [
    "# Изменение размерности массивов"
   ]
  },
  {
   "cell_type": "code",
   "execution_count": 49,
   "id": "b7ca6c5a",
   "metadata": {},
   "outputs": [],
   "source": [
    "a = np.arange(10)  # [0, 1, 2, 3, 4, 5, 6, 7, 8, 9]\n",
    "a.shape = 2, 5   # массив размерностью 2x5\n",
    "b = a.reshape(10)  # массив [0, 1, 2, 3, 4, 5, 6, 7, 8, 9]"
   ]
  },
  {
   "cell_type": "code",
   "execution_count": 50,
   "id": "85b51761",
   "metadata": {},
   "outputs": [],
   "source": [
    "a.shape = -1, 2 # Количество столбцов = 2, количество строк = сколько останется (10 / 2 = 5)"
   ]
  },
  {
   "cell_type": "code",
   "execution_count": 51,
   "id": "58371a91",
   "metadata": {},
   "outputs": [
    {
     "data": {
      "text/plain": [
       "array([[0, 1],\n",
       "       [2, 3],\n",
       "       [4, 5],\n",
       "       [6, 7],\n",
       "       [8, 9]])"
      ]
     },
     "execution_count": 51,
     "metadata": {},
     "output_type": "execute_result"
    }
   ],
   "source": [
    "a"
   ]
  },
  {
   "cell_type": "code",
   "execution_count": 52,
   "id": "6677ba68",
   "metadata": {},
   "outputs": [
    {
     "data": {
      "text/plain": [
       "array([0, 1, 2, 3, 4, 5, 6, 7, 8, 9])"
      ]
     },
     "execution_count": 52,
     "metadata": {},
     "output_type": "execute_result"
    }
   ],
   "source": [
    "a.ravel() # преобразовать в одномерный массив"
   ]
  },
  {
   "cell_type": "code",
   "execution_count": 53,
   "id": "72f1b5a1",
   "metadata": {},
   "outputs": [
    {
     "data": {
      "text/plain": [
       "array([[0, 1],\n",
       "       [2, 3],\n",
       "       [4, 5],\n",
       "       [6, 7],\n",
       "       [8, 9]])"
      ]
     },
     "execution_count": 53,
     "metadata": {},
     "output_type": "execute_result"
    }
   ],
   "source": [
    "a"
   ]
  },
  {
   "cell_type": "code",
   "execution_count": 54,
   "id": "237c2c6c",
   "metadata": {},
   "outputs": [],
   "source": [
    "a.shape = -1 # преобразовать в одномерный массив (создает копию)"
   ]
  },
  {
   "cell_type": "code",
   "execution_count": 55,
   "id": "75924f12",
   "metadata": {},
   "outputs": [
    {
     "data": {
      "text/plain": [
       "array([0, 1, 2, 3, 4, 5, 6, 7, 8, 9])"
      ]
     },
     "execution_count": 55,
     "metadata": {},
     "output_type": "execute_result"
    }
   ],
   "source": [
    "a"
   ]
  },
  {
   "cell_type": "code",
   "execution_count": 56,
   "id": "e0974813",
   "metadata": {},
   "outputs": [],
   "source": [
    "a.resize(2,5)"
   ]
  },
  {
   "cell_type": "code",
   "execution_count": 57,
   "id": "c55c11ad",
   "metadata": {},
   "outputs": [
    {
     "data": {
      "text/plain": [
       "array([[0, 1, 2, 3, 4],\n",
       "       [5, 6, 7, 8, 9]])"
      ]
     },
     "execution_count": 57,
     "metadata": {},
     "output_type": "execute_result"
    }
   ],
   "source": [
    "a"
   ]
  },
  {
   "cell_type": "code",
   "execution_count": 58,
   "id": "302353d1",
   "metadata": {},
   "outputs": [],
   "source": [
    "a.resize(5,5, refcheck=False)"
   ]
  },
  {
   "cell_type": "code",
   "execution_count": 59,
   "id": "d1581f23",
   "metadata": {},
   "outputs": [
    {
     "data": {
      "text/plain": [
       "array([[0, 1, 2, 3, 4],\n",
       "       [5, 6, 7, 8, 9],\n",
       "       [0, 0, 0, 0, 0],\n",
       "       [0, 0, 0, 0, 0],\n",
       "       [0, 0, 0, 0, 0]])"
      ]
     },
     "execution_count": 59,
     "metadata": {},
     "output_type": "execute_result"
    }
   ],
   "source": [
    "a"
   ]
  },
  {
   "cell_type": "code",
   "execution_count": 10,
   "id": "61a41306",
   "metadata": {},
   "outputs": [
    {
     "data": {
      "text/plain": [
       "15"
      ]
     },
     "metadata": {},
     "output_type": "display_data"
    },
    {
     "data": {
      "text/plain": [
       "(5, 0)"
      ]
     },
     "metadata": {},
     "output_type": "display_data"
    }
   ],
   "source": [
    "a = np.random.randint(1,101, size=(10,3))\n",
    "display(  np.argmax(a)  )\n",
    "display(  np.unravel_index(np.argmax(a), a.shape)  ) # перевод абсолютного индекса макс элемента в tuple исходного размера"
   ]
  },
  {
   "cell_type": "markdown",
   "id": "766c2930",
   "metadata": {},
   "source": [
    "# Транспонирование матриц и векторов"
   ]
  },
  {
   "cell_type": "code",
   "execution_count": 60,
   "id": "3db3ba69",
   "metadata": {},
   "outputs": [
    {
     "data": {
      "text/plain": [
       "array([[ 1,  2,  3],\n",
       "       [ 1,  4,  9],\n",
       "       [ 1,  8, 27]])"
      ]
     },
     "execution_count": 60,
     "metadata": {},
     "output_type": "execute_result"
    }
   ],
   "source": [
    "a = np.array([(1, 2, 3), (1, 4, 9), (1, 8, 27)])\n",
    "a"
   ]
  },
  {
   "cell_type": "code",
   "execution_count": 61,
   "id": "bf4ab381",
   "metadata": {},
   "outputs": [
    {
     "data": {
      "text/plain": [
       "array([[ 1,  1,  1],\n",
       "       [ 2,  4,  8],\n",
       "       [ 3,  9, 27]])"
      ]
     },
     "execution_count": 61,
     "metadata": {},
     "output_type": "execute_result"
    }
   ],
   "source": [
    "b = a.T # новое представление, но старый массив\n",
    "b"
   ]
  },
  {
   "cell_type": "code",
   "execution_count": 62,
   "id": "a574db02",
   "metadata": {},
   "outputs": [
    {
     "data": {
      "text/plain": [
       "array([1, 2, 3, 4, 5, 6, 7, 8, 9])"
      ]
     },
     "execution_count": 62,
     "metadata": {},
     "output_type": "execute_result"
    }
   ],
   "source": [
    "x = np.arange(1, 10)\n",
    "x"
   ]
  },
  {
   "cell_type": "code",
   "execution_count": 63,
   "id": "cbd1e6de",
   "metadata": {},
   "outputs": [
    {
     "data": {
      "text/plain": [
       "array([1, 2, 3, 4, 5, 6, 7, 8, 9])"
      ]
     },
     "execution_count": 63,
     "metadata": {},
     "output_type": "execute_result"
    }
   ],
   "source": [
    "x.T"
   ]
  },
  {
   "cell_type": "code",
   "execution_count": 64,
   "id": "e49078bf",
   "metadata": {},
   "outputs": [],
   "source": [
    "x.shape = 1, -1 # [] -> [[]]"
   ]
  },
  {
   "cell_type": "code",
   "execution_count": 65,
   "id": "2b8f4645",
   "metadata": {},
   "outputs": [
    {
     "data": {
      "text/plain": [
       "array([[1],\n",
       "       [2],\n",
       "       [3],\n",
       "       [4],\n",
       "       [5],\n",
       "       [6],\n",
       "       [7],\n",
       "       [8],\n",
       "       [9]])"
      ]
     },
     "execution_count": 65,
     "metadata": {},
     "output_type": "execute_result"
    }
   ],
   "source": [
    "x.T"
   ]
  },
  {
   "cell_type": "markdown",
   "id": "f633edad",
   "metadata": {},
   "source": [
    "# Добавление и удаление осей"
   ]
  },
  {
   "cell_type": "code",
   "execution_count": 66,
   "id": "af1669e2",
   "metadata": {},
   "outputs": [],
   "source": [
    "x_test = np.arange(32).reshape(8, 2, 2) # массив 8x2x2"
   ]
  },
  {
   "cell_type": "code",
   "execution_count": 67,
   "id": "9ed407e3",
   "metadata": {},
   "outputs": [
    {
     "data": {
      "text/plain": [
       "array([[[ 0,  1],\n",
       "        [ 2,  3]],\n",
       "\n",
       "       [[ 4,  5],\n",
       "        [ 6,  7]],\n",
       "\n",
       "       [[ 8,  9],\n",
       "        [10, 11]],\n",
       "\n",
       "       [[12, 13],\n",
       "        [14, 15]],\n",
       "\n",
       "       [[16, 17],\n",
       "        [18, 19]],\n",
       "\n",
       "       [[20, 21],\n",
       "        [22, 23]],\n",
       "\n",
       "       [[24, 25],\n",
       "        [26, 27]],\n",
       "\n",
       "       [[28, 29],\n",
       "        [30, 31]]])"
      ]
     },
     "execution_count": 67,
     "metadata": {},
     "output_type": "execute_result"
    }
   ],
   "source": [
    "x_test"
   ]
  },
  {
   "cell_type": "code",
   "execution_count": 68,
   "id": "c21c8be4",
   "metadata": {},
   "outputs": [
    {
     "data": {
      "text/plain": [
       "(8, 2, 2)"
      ]
     },
     "execution_count": 68,
     "metadata": {},
     "output_type": "execute_result"
    }
   ],
   "source": [
    "x_test.shape"
   ]
  },
  {
   "cell_type": "code",
   "execution_count": 69,
   "id": "14b01b96",
   "metadata": {},
   "outputs": [
    {
     "data": {
      "text/plain": [
       "array([[[[ 0,  1],\n",
       "         [ 2,  3]],\n",
       "\n",
       "        [[ 4,  5],\n",
       "         [ 6,  7]],\n",
       "\n",
       "        [[ 8,  9],\n",
       "         [10, 11]],\n",
       "\n",
       "        [[12, 13],\n",
       "         [14, 15]],\n",
       "\n",
       "        [[16, 17],\n",
       "         [18, 19]],\n",
       "\n",
       "        [[20, 21],\n",
       "         [22, 23]],\n",
       "\n",
       "        [[24, 25],\n",
       "         [26, 27]],\n",
       "\n",
       "        [[28, 29],\n",
       "         [30, 31]]]])"
      ]
     },
     "execution_count": 69,
     "metadata": {},
     "output_type": "execute_result"
    }
   ],
   "source": [
    "x_test4 = np.expand_dims(x_test, axis=0)\n",
    "x_test4"
   ]
  },
  {
   "cell_type": "code",
   "execution_count": 70,
   "id": "7352522f",
   "metadata": {},
   "outputs": [
    {
     "data": {
      "text/plain": [
       "(1, 8, 2, 2)"
      ]
     },
     "execution_count": 70,
     "metadata": {},
     "output_type": "execute_result"
    }
   ],
   "source": [
    "x_test4.shape"
   ]
  },
  {
   "cell_type": "code",
   "execution_count": 71,
   "id": "adaa3669",
   "metadata": {},
   "outputs": [],
   "source": [
    "x_test4[0,0,0,0] = 999"
   ]
  },
  {
   "cell_type": "code",
   "execution_count": 72,
   "id": "3fd9d97c",
   "metadata": {},
   "outputs": [
    {
     "data": {
      "text/plain": [
       "array([[[999,   1],\n",
       "        [  2,   3]],\n",
       "\n",
       "       [[  4,   5],\n",
       "        [  6,   7]],\n",
       "\n",
       "       [[  8,   9],\n",
       "        [ 10,  11]],\n",
       "\n",
       "       [[ 12,  13],\n",
       "        [ 14,  15]],\n",
       "\n",
       "       [[ 16,  17],\n",
       "        [ 18,  19]],\n",
       "\n",
       "       [[ 20,  21],\n",
       "        [ 22,  23]],\n",
       "\n",
       "       [[ 24,  25],\n",
       "        [ 26,  27]],\n",
       "\n",
       "       [[ 28,  29],\n",
       "        [ 30,  31]]])"
      ]
     },
     "execution_count": 72,
     "metadata": {},
     "output_type": "execute_result"
    }
   ],
   "source": [
    "x_test"
   ]
  },
  {
   "cell_type": "code",
   "execution_count": 73,
   "id": "febc5e5c",
   "metadata": {},
   "outputs": [],
   "source": [
    "a = np.append(x_test4, x_test4, axis=0) # размерность (2, 8, 2, 2)"
   ]
  },
  {
   "cell_type": "code",
   "execution_count": 74,
   "id": "06722c02",
   "metadata": {},
   "outputs": [
    {
     "data": {
      "text/plain": [
       "array([[[[999,   1],\n",
       "         [  2,   3]],\n",
       "\n",
       "        [[  4,   5],\n",
       "         [  6,   7]],\n",
       "\n",
       "        [[  8,   9],\n",
       "         [ 10,  11]],\n",
       "\n",
       "        [[ 12,  13],\n",
       "         [ 14,  15]],\n",
       "\n",
       "        [[ 16,  17],\n",
       "         [ 18,  19]],\n",
       "\n",
       "        [[ 20,  21],\n",
       "         [ 22,  23]],\n",
       "\n",
       "        [[ 24,  25],\n",
       "         [ 26,  27]],\n",
       "\n",
       "        [[ 28,  29],\n",
       "         [ 30,  31]]],\n",
       "\n",
       "\n",
       "       [[[999,   1],\n",
       "         [  2,   3]],\n",
       "\n",
       "        [[  4,   5],\n",
       "         [  6,   7]],\n",
       "\n",
       "        [[  8,   9],\n",
       "         [ 10,  11]],\n",
       "\n",
       "        [[ 12,  13],\n",
       "         [ 14,  15]],\n",
       "\n",
       "        [[ 16,  17],\n",
       "         [ 18,  19]],\n",
       "\n",
       "        [[ 20,  21],\n",
       "         [ 22,  23]],\n",
       "\n",
       "        [[ 24,  25],\n",
       "         [ 26,  27]],\n",
       "\n",
       "        [[ 28,  29],\n",
       "         [ 30,  31]]]])"
      ]
     },
     "execution_count": 74,
     "metadata": {},
     "output_type": "execute_result"
    }
   ],
   "source": [
    "a"
   ]
  },
  {
   "cell_type": "code",
   "execution_count": 75,
   "id": "635448c0",
   "metadata": {},
   "outputs": [],
   "source": [
    "b = np.delete(a, 0, axis=0)"
   ]
  },
  {
   "cell_type": "code",
   "execution_count": 76,
   "id": "df4f4271",
   "metadata": {},
   "outputs": [
    {
     "data": {
      "text/plain": [
       "array([[[[999,   1],\n",
       "         [  2,   3]],\n",
       "\n",
       "        [[  4,   5],\n",
       "         [  6,   7]],\n",
       "\n",
       "        [[  8,   9],\n",
       "         [ 10,  11]],\n",
       "\n",
       "        [[ 12,  13],\n",
       "         [ 14,  15]],\n",
       "\n",
       "        [[ 16,  17],\n",
       "         [ 18,  19]],\n",
       "\n",
       "        [[ 20,  21],\n",
       "         [ 22,  23]],\n",
       "\n",
       "        [[ 24,  25],\n",
       "         [ 26,  27]],\n",
       "\n",
       "        [[ 28,  29],\n",
       "         [ 30,  31]]]])"
      ]
     },
     "execution_count": 76,
     "metadata": {},
     "output_type": "execute_result"
    }
   ],
   "source": [
    "b"
   ]
  },
  {
   "cell_type": "code",
   "execution_count": 77,
   "id": "ddb4b65e",
   "metadata": {},
   "outputs": [],
   "source": [
    "b = np.expand_dims(x_test4, axis=-1) # размерность (1, 8, 2, 2, 1)"
   ]
  },
  {
   "cell_type": "code",
   "execution_count": 78,
   "id": "65319a19",
   "metadata": {},
   "outputs": [],
   "source": [
    "c = np.squeeze(b) # удаляет оси с одним элементов"
   ]
  },
  {
   "cell_type": "code",
   "execution_count": 79,
   "id": "6d4fdfaf",
   "metadata": {},
   "outputs": [
    {
     "data": {
      "text/plain": [
       "array([[[999,   1],\n",
       "        [  2,   3]],\n",
       "\n",
       "       [[  4,   5],\n",
       "        [  6,   7]],\n",
       "\n",
       "       [[  8,   9],\n",
       "        [ 10,  11]],\n",
       "\n",
       "       [[ 12,  13],\n",
       "        [ 14,  15]],\n",
       "\n",
       "       [[ 16,  17],\n",
       "        [ 18,  19]],\n",
       "\n",
       "       [[ 20,  21],\n",
       "        [ 22,  23]],\n",
       "\n",
       "       [[ 24,  25],\n",
       "        [ 26,  27]],\n",
       "\n",
       "       [[ 28,  29],\n",
       "        [ 30,  31]]])"
      ]
     },
     "execution_count": 79,
     "metadata": {},
     "output_type": "execute_result"
    }
   ],
   "source": [
    "c"
   ]
  },
  {
   "cell_type": "code",
   "execution_count": 80,
   "id": "753eb02a",
   "metadata": {},
   "outputs": [],
   "source": [
    "a = np.arange(1,10)"
   ]
  },
  {
   "cell_type": "code",
   "execution_count": 81,
   "id": "a015a69f",
   "metadata": {},
   "outputs": [
    {
     "data": {
      "text/plain": [
       "array([1, 2, 3, 4, 5, 6, 7, 8, 9])"
      ]
     },
     "execution_count": 81,
     "metadata": {},
     "output_type": "execute_result"
    }
   ],
   "source": [
    "a"
   ]
  },
  {
   "cell_type": "code",
   "execution_count": 82,
   "id": "b519c1bf",
   "metadata": {},
   "outputs": [],
   "source": [
    "b = a[np.newaxis, :]"
   ]
  },
  {
   "cell_type": "code",
   "execution_count": 83,
   "id": "f6e31dad",
   "metadata": {},
   "outputs": [
    {
     "data": {
      "text/plain": [
       "array([[1, 2, 3, 4, 5, 6, 7, 8, 9]])"
      ]
     },
     "execution_count": 83,
     "metadata": {},
     "output_type": "execute_result"
    }
   ],
   "source": [
    "b"
   ]
  },
  {
   "cell_type": "code",
   "execution_count": 84,
   "id": "8a501bd1",
   "metadata": {},
   "outputs": [],
   "source": [
    "c = a[:, np.newaxis]"
   ]
  },
  {
   "cell_type": "code",
   "execution_count": 85,
   "id": "b8585557",
   "metadata": {},
   "outputs": [
    {
     "data": {
      "text/plain": [
       "array([[1],\n",
       "       [2],\n",
       "       [3],\n",
       "       [4],\n",
       "       [5],\n",
       "       [6],\n",
       "       [7],\n",
       "       [8],\n",
       "       [9]])"
      ]
     },
     "execution_count": 85,
     "metadata": {},
     "output_type": "execute_result"
    }
   ],
   "source": [
    "c"
   ]
  },
  {
   "cell_type": "markdown",
   "id": "a0881cda",
   "metadata": {},
   "source": [
    "# Объединение и разделение массивов"
   ]
  },
  {
   "cell_type": "code",
   "execution_count": 86,
   "id": "3a20037a",
   "metadata": {},
   "outputs": [],
   "source": [
    "a = np.array([(1, 2), (3, 4)])\n",
    "b = np.array([(5, 6), (7, 8)])"
   ]
  },
  {
   "cell_type": "code",
   "execution_count": 87,
   "id": "45bf0f13",
   "metadata": {},
   "outputs": [
    {
     "data": {
      "text/plain": [
       "array([[1, 2, 5, 6],\n",
       "       [3, 4, 7, 8]])"
      ]
     },
     "execution_count": 87,
     "metadata": {},
     "output_type": "execute_result"
    }
   ],
   "source": [
    "np.hstack([a, b])  # объединение по оси axis1 (размерность 2x4)"
   ]
  },
  {
   "cell_type": "code",
   "execution_count": 88,
   "id": "a68903f7",
   "metadata": {},
   "outputs": [
    {
     "data": {
      "text/plain": [
       "array([[1, 2],\n",
       "       [3, 4],\n",
       "       [5, 6],\n",
       "       [7, 8]])"
      ]
     },
     "execution_count": 88,
     "metadata": {},
     "output_type": "execute_result"
    }
   ],
   "source": [
    "np.vstack([a, b])  # объединение по оси axis0 (размерность 4x2)"
   ]
  },
  {
   "cell_type": "code",
   "execution_count": 89,
   "id": "d88bfdf2",
   "metadata": {},
   "outputs": [],
   "source": [
    "a = np.fromiter(range(18), dtype='int32')\n",
    "b = np.fromiter(range(18, 36), dtype='int32')\n",
    "a.resize(3, 3, 2)\n",
    "b.resize(3, 3, 2)"
   ]
  },
  {
   "cell_type": "code",
   "execution_count": 90,
   "id": "606171cc",
   "metadata": {},
   "outputs": [
    {
     "data": {
      "text/plain": [
       "array([[[ 0,  1],\n",
       "        [ 2,  3],\n",
       "        [ 4,  5]],\n",
       "\n",
       "       [[ 6,  7],\n",
       "        [ 8,  9],\n",
       "        [10, 11]],\n",
       "\n",
       "       [[12, 13],\n",
       "        [14, 15],\n",
       "        [16, 17]]])"
      ]
     },
     "execution_count": 90,
     "metadata": {},
     "output_type": "execute_result"
    }
   ],
   "source": [
    "a"
   ]
  },
  {
   "cell_type": "code",
   "execution_count": 91,
   "id": "0df31f06",
   "metadata": {},
   "outputs": [
    {
     "data": {
      "text/plain": [
       "array([[[18, 19],\n",
       "        [20, 21],\n",
       "        [22, 23]],\n",
       "\n",
       "       [[24, 25],\n",
       "        [26, 27],\n",
       "        [28, 29]],\n",
       "\n",
       "       [[30, 31],\n",
       "        [32, 33],\n",
       "        [34, 35]]])"
      ]
     },
     "execution_count": 91,
     "metadata": {},
     "output_type": "execute_result"
    }
   ],
   "source": [
    "b"
   ]
  },
  {
   "cell_type": "code",
   "execution_count": 92,
   "id": "28b5acd1",
   "metadata": {},
   "outputs": [
    {
     "data": {
      "text/plain": [
       "array([[[ 0,  1],\n",
       "        [ 2,  3],\n",
       "        [ 4,  5],\n",
       "        [18, 19],\n",
       "        [20, 21],\n",
       "        [22, 23]],\n",
       "\n",
       "       [[ 6,  7],\n",
       "        [ 8,  9],\n",
       "        [10, 11],\n",
       "        [24, 25],\n",
       "        [26, 27],\n",
       "        [28, 29]],\n",
       "\n",
       "       [[12, 13],\n",
       "        [14, 15],\n",
       "        [16, 17],\n",
       "        [30, 31],\n",
       "        [32, 33],\n",
       "        [34, 35]]])"
      ]
     },
     "execution_count": 92,
     "metadata": {},
     "output_type": "execute_result"
    }
   ],
   "source": [
    "np.hstack([a, b])  # размерность 3x6x2"
   ]
  },
  {
   "cell_type": "code",
   "execution_count": 93,
   "id": "bc52734e",
   "metadata": {},
   "outputs": [
    {
     "data": {
      "text/plain": [
       "array([[[ 0,  1],\n",
       "        [ 2,  3],\n",
       "        [ 4,  5]],\n",
       "\n",
       "       [[ 6,  7],\n",
       "        [ 8,  9],\n",
       "        [10, 11]],\n",
       "\n",
       "       [[12, 13],\n",
       "        [14, 15],\n",
       "        [16, 17]],\n",
       "\n",
       "       [[18, 19],\n",
       "        [20, 21],\n",
       "        [22, 23]],\n",
       "\n",
       "       [[24, 25],\n",
       "        [26, 27],\n",
       "        [28, 29]],\n",
       "\n",
       "       [[30, 31],\n",
       "        [32, 33],\n",
       "        [34, 35]]])"
      ]
     },
     "execution_count": 93,
     "metadata": {},
     "output_type": "execute_result"
    }
   ],
   "source": [
    "np.vstack([a, b])  # размерность 6x3x2"
   ]
  },
  {
   "cell_type": "code",
   "execution_count": 94,
   "id": "34905c3c",
   "metadata": {},
   "outputs": [],
   "source": [
    "a = np.fromstring('1 2 3 4', sep=' ')\n",
    "b = np.fromstring('5 6 7 8', sep=' ')"
   ]
  },
  {
   "cell_type": "code",
   "execution_count": 95,
   "id": "0c17ff99",
   "metadata": {},
   "outputs": [
    {
     "data": {
      "text/plain": [
       "array([[1., 5.],\n",
       "       [2., 6.],\n",
       "       [3., 7.],\n",
       "       [4., 8.]])"
      ]
     },
     "execution_count": 95,
     "metadata": {},
     "output_type": "execute_result"
    }
   ],
   "source": [
    "np.column_stack([a, b]) # формирование массива 4x2"
   ]
  },
  {
   "cell_type": "code",
   "execution_count": 96,
   "id": "c4df6e38",
   "metadata": {},
   "outputs": [
    {
     "data": {
      "text/plain": [
       "array([[1., 2., 3., 4.],\n",
       "       [5., 6., 7., 8.]])"
      ]
     },
     "execution_count": 96,
     "metadata": {},
     "output_type": "execute_result"
    }
   ],
   "source": [
    "np.row_stack([a, b]) # матрица 2x4"
   ]
  },
  {
   "cell_type": "code",
   "execution_count": 97,
   "id": "4ee6cb85",
   "metadata": {},
   "outputs": [],
   "source": [
    "a = np.arange(1, 13)\n",
    "b = np.arange(13, 26)\n",
    "a.resize(3, 3, 2)\n",
    "b.resize(3, 3, 2)"
   ]
  },
  {
   "cell_type": "code",
   "execution_count": 98,
   "id": "649e2b58",
   "metadata": {},
   "outputs": [],
   "source": [
    "c0 = np.concatenate([a, b], axis=0) # размерность 6x3x2\n",
    "c1 = np.concatenate([a, b], axis=1) # размерность 3x6x2\n",
    "c2 = np.concatenate([a, b], axis=2) # размерность 3x3x4"
   ]
  },
  {
   "cell_type": "code",
   "execution_count": 99,
   "id": "925f785b",
   "metadata": {},
   "outputs": [
    {
     "data": {
      "text/plain": [
       "array([1, 2, 3, 4, 5])"
      ]
     },
     "execution_count": 99,
     "metadata": {},
     "output_type": "execute_result"
    }
   ],
   "source": [
    "np.r_[ [1, 2, 3], 4, 5]  # список + дополнительные элементы"
   ]
  },
  {
   "cell_type": "code",
   "execution_count": 100,
   "id": "d1fa17ee",
   "metadata": {},
   "outputs": [
    {
     "data": {
      "text/plain": [
       "array([  1,   2,   3,   4,   5,   6,   7,   8,  90, 100])"
      ]
     },
     "execution_count": 100,
     "metadata": {},
     "output_type": "execute_result"
    }
   ],
   "source": [
    "np.r_[ 1:9, 90, 100] # срез + два элемента"
   ]
  },
  {
   "cell_type": "code",
   "execution_count": 101,
   "id": "27878182",
   "metadata": {},
   "outputs": [
    {
     "data": {
      "text/plain": [
       "array([1, 2, 3, 4, 5, 6])"
      ]
     },
     "execution_count": 101,
     "metadata": {},
     "output_type": "execute_result"
    }
   ],
   "source": [
    "np.r_[ np.array([1,2,3]), np.array([4,5,6])] # объединение двух массивов"
   ]
  },
  {
   "cell_type": "markdown",
   "id": "8394e7b2",
   "metadata": {},
   "source": [
    "r_ (добавить new rows) с_ (добавить new cols)"
   ]
  },
  {
   "cell_type": "code",
   "execution_count": 4,
   "id": "073ed8b3",
   "metadata": {},
   "outputs": [
    {
     "data": {
      "text/plain": [
       "array([[0, 1, 2, 3, 4],\n",
       "       [5, 6, 7, 8, 9]])"
      ]
     },
     "execution_count": 4,
     "metadata": {},
     "output_type": "execute_result"
    }
   ],
   "source": [
    "a = np.arange(10).reshape(2,5)\n",
    "a"
   ]
  },
  {
   "cell_type": "code",
   "execution_count": 6,
   "id": "e81176a9",
   "metadata": {},
   "outputs": [
    {
     "data": {
      "text/plain": [
       "array([[10, 11, 12, 13, 14],\n",
       "       [15, 16, 17, 18, 19]])"
      ]
     },
     "execution_count": 6,
     "metadata": {},
     "output_type": "execute_result"
    }
   ],
   "source": [
    "b = np.arange(10,20).reshape(2,5)\n",
    "b"
   ]
  },
  {
   "cell_type": "code",
   "execution_count": 8,
   "id": "b11bfdb7",
   "metadata": {},
   "outputs": [
    {
     "data": {
      "text/plain": [
       "array([[ 0,  1,  2,  3,  4],\n",
       "       [ 5,  6,  7,  8,  9],\n",
       "       [10, 11, 12, 13, 14],\n",
       "       [15, 16, 17, 18, 19]])"
      ]
     },
     "execution_count": 8,
     "metadata": {},
     "output_type": "execute_result"
    }
   ],
   "source": [
    "np.r_[a,b]"
   ]
  },
  {
   "cell_type": "code",
   "execution_count": 9,
   "id": "ab735365",
   "metadata": {},
   "outputs": [
    {
     "data": {
      "text/plain": [
       "array([[ 0,  1,  2,  3,  4, 10, 11, 12, 13, 14],\n",
       "       [ 5,  6,  7,  8,  9, 15, 16, 17, 18, 19]])"
      ]
     },
     "execution_count": 9,
     "metadata": {},
     "output_type": "execute_result"
    }
   ],
   "source": [
    "np.c_[a,b]"
   ]
  },
  {
   "cell_type": "code",
   "execution_count": 103,
   "id": "1435df05",
   "metadata": {},
   "outputs": [
    {
     "data": {
      "text/plain": [
       "array([[1],\n",
       "       [2],\n",
       "       [3],\n",
       "       [4]])"
      ]
     },
     "execution_count": 103,
     "metadata": {},
     "output_type": "execute_result"
    }
   ],
   "source": [
    "np.c_[1:5]"
   ]
  },
  {
   "cell_type": "code",
   "execution_count": 104,
   "id": "fc4f7ffb",
   "metadata": {},
   "outputs": [
    {
     "data": {
      "text/plain": [
       "array([[1, 4],\n",
       "       [2, 5],\n",
       "       [3, 6]])"
      ]
     },
     "execution_count": 104,
     "metadata": {},
     "output_type": "execute_result"
    }
   ],
   "source": [
    "np.c_[ [1, 2, 3], [4, 5, 6]]"
   ]
  },
  {
   "cell_type": "code",
   "execution_count": 105,
   "id": "398e80ce",
   "metadata": {},
   "outputs": [
    {
     "data": {
      "text/plain": [
       "array([[1, 2, 3, 7],\n",
       "       [4, 5, 6, 8]])"
      ]
     },
     "execution_count": 105,
     "metadata": {},
     "output_type": "execute_result"
    }
   ],
   "source": [
    "np.c_[ [(1,2,3), (4,5,6)], [[7],[8]] ]"
   ]
  },
  {
   "cell_type": "code",
   "execution_count": 106,
   "id": "89d9ea92",
   "metadata": {},
   "outputs": [],
   "source": [
    "a = np.arange(10)"
   ]
  },
  {
   "cell_type": "code",
   "execution_count": 107,
   "id": "b1ddf217",
   "metadata": {},
   "outputs": [
    {
     "data": {
      "text/plain": [
       "[array([0, 1, 2, 3, 4]), array([5, 6, 7, 8, 9])]"
      ]
     },
     "execution_count": 107,
     "metadata": {},
     "output_type": "execute_result"
    }
   ],
   "source": [
    "np.hsplit(a, 2)"
   ]
  },
  {
   "cell_type": "code",
   "execution_count": 108,
   "id": "45938318",
   "metadata": {},
   "outputs": [],
   "source": [
    "a.shape = 10, -1"
   ]
  },
  {
   "cell_type": "code",
   "execution_count": 109,
   "id": "e1104ae3",
   "metadata": {},
   "outputs": [
    {
     "data": {
      "text/plain": [
       "[array([[0],\n",
       "        [1],\n",
       "        [2],\n",
       "        [3],\n",
       "        [4]]),\n",
       " array([[5],\n",
       "        [6],\n",
       "        [7],\n",
       "        [8],\n",
       "        [9]])]"
      ]
     },
     "execution_count": 109,
     "metadata": {},
     "output_type": "execute_result"
    }
   ],
   "source": [
    "np.vsplit(a, 2)"
   ]
  },
  {
   "cell_type": "code",
   "execution_count": 110,
   "id": "24ff406e",
   "metadata": {
    "scrolled": true
   },
   "outputs": [
    {
     "data": {
      "text/plain": [
       "array([[ 0,  1,  2,  3,  4,  5],\n",
       "       [ 6,  7,  8,  9, 10, 11]])"
      ]
     },
     "execution_count": 110,
     "metadata": {},
     "output_type": "execute_result"
    }
   ],
   "source": [
    "a = np.arange(12)\n",
    "a.resize(2, 6) # двумерный массив 2x6\n",
    "a"
   ]
  },
  {
   "cell_type": "code",
   "execution_count": 111,
   "id": "74ed62eb",
   "metadata": {},
   "outputs": [
    {
     "data": {
      "text/plain": [
       "[array([[0, 1, 2],\n",
       "        [6, 7, 8]]),\n",
       " array([[ 3,  4,  5],\n",
       "        [ 9, 10, 11]])]"
      ]
     },
     "execution_count": 111,
     "metadata": {},
     "output_type": "execute_result"
    }
   ],
   "source": [
    "np.hsplit(a, 2) # разбиение по горизонтали"
   ]
  },
  {
   "cell_type": "code",
   "execution_count": 112,
   "id": "86c80e7f",
   "metadata": {},
   "outputs": [
    {
     "data": {
      "text/plain": [
       "[array([[0, 1, 2, 3, 4, 5]]), array([[ 6,  7,  8,  9, 10, 11]])]"
      ]
     },
     "execution_count": 112,
     "metadata": {},
     "output_type": "execute_result"
    }
   ],
   "source": [
    "np.vsplit(a, 2) # разбиение по вертикали"
   ]
  },
  {
   "cell_type": "code",
   "execution_count": 113,
   "id": "512880f7",
   "metadata": {},
   "outputs": [
    {
     "data": {
      "text/plain": [
       "array([[[ 0,  1],\n",
       "        [ 2,  3],\n",
       "        [ 4,  5]],\n",
       "\n",
       "       [[ 6,  7],\n",
       "        [ 8,  9],\n",
       "        [10, 11]],\n",
       "\n",
       "       [[12, 13],\n",
       "        [14, 15],\n",
       "        [16, 17]]])"
      ]
     },
     "execution_count": 113,
     "metadata": {},
     "output_type": "execute_result"
    }
   ],
   "source": [
    "a = np.arange(18)\n",
    "a.resize(3, 3, 2)\n",
    "a"
   ]
  },
  {
   "cell_type": "code",
   "execution_count": 114,
   "id": "eb78444c",
   "metadata": {},
   "outputs": [
    {
     "data": {
      "text/plain": [
       "[array([[[ 0],\n",
       "         [ 2],\n",
       "         [ 4]],\n",
       " \n",
       "        [[ 6],\n",
       "         [ 8],\n",
       "         [10]],\n",
       " \n",
       "        [[12],\n",
       "         [14],\n",
       "         [16]]]),\n",
       " array([[[ 1],\n",
       "         [ 3],\n",
       "         [ 5]],\n",
       " \n",
       "        [[ 7],\n",
       "         [ 9],\n",
       "         [11]],\n",
       " \n",
       "        [[13],\n",
       "         [15],\n",
       "         [17]]])]"
      ]
     },
     "execution_count": 114,
     "metadata": {},
     "output_type": "execute_result"
    }
   ],
   "source": [
    "np.array_split(a, 2, axis=2)"
   ]
  },
  {
   "cell_type": "markdown",
   "id": "c91e2d93",
   "metadata": {},
   "source": [
    "# Индексация, срезы, итерирование массивов"
   ]
  },
  {
   "cell_type": "markdown",
   "id": "6ddc88c1",
   "metadata": {},
   "source": [
    "срез - это не копия, а представление"
   ]
  },
  {
   "cell_type": "code",
   "execution_count": 115,
   "id": "5d4e0c9e",
   "metadata": {},
   "outputs": [
    {
     "data": {
      "text/plain": [
       "array([999,   3])"
      ]
     },
     "execution_count": 115,
     "metadata": {},
     "output_type": "execute_result"
    }
   ],
   "source": [
    "a = np.arange(12) # array([ 0,  1,  2,  3,  4,  5,  6,  7,  8,  9, 10, 11])\n",
    "b = a[2:4]\n",
    "a[2] = 999\n",
    "b"
   ]
  },
  {
   "cell_type": "code",
   "execution_count": 116,
   "id": "95dc3730",
   "metadata": {},
   "outputs": [
    {
     "data": {
      "text/plain": [
       "array([  0,   1, 999,   3,   4,   5,   6,   7,   8,   9,  10,  11])"
      ]
     },
     "execution_count": 116,
     "metadata": {},
     "output_type": "execute_result"
    }
   ],
   "source": [
    "a"
   ]
  },
  {
   "cell_type": "code",
   "execution_count": 117,
   "id": "2b690137",
   "metadata": {},
   "outputs": [],
   "source": [
    "a[2:4] = [777,888]"
   ]
  },
  {
   "cell_type": "code",
   "execution_count": 118,
   "id": "febf052f",
   "metadata": {},
   "outputs": [
    {
     "data": {
      "text/plain": [
       "array([  0,   1, 777, 888,   4,   5,   6,   7,   8,   9,  10,  11])"
      ]
     },
     "execution_count": 118,
     "metadata": {},
     "output_type": "execute_result"
    }
   ],
   "source": [
    "a"
   ]
  },
  {
   "cell_type": "code",
   "execution_count": 119,
   "id": "3d7bb6bd",
   "metadata": {},
   "outputs": [
    {
     "data": {
      "text/plain": [
       "array([ 0,  1,  2,  3, 10,  5, 20,  7, 30,  9, 40, 11])"
      ]
     },
     "execution_count": 119,
     "metadata": {},
     "output_type": "execute_result"
    }
   ],
   "source": [
    "a = np.arange(12) # array([ 0,  1,  2,  3,  4,  5,  6,  7,  8,  9, 10, 11])\n",
    "a[4::2] = np.array([10, 20, 30, 40]) # присваивание массива NumPy\n",
    "a"
   ]
  },
  {
   "cell_type": "code",
   "execution_count": 120,
   "id": "a7d384fc",
   "metadata": {},
   "outputs": [],
   "source": [
    "x = np.array([(1, 2, 3), (10, 20, 30), (100, 200, 300)])\n"
   ]
  },
  {
   "attachments": {
    "image.png": {
     "image/png": "[encoded data removed]"
    }
   },
   "cell_type": "markdown",
   "id": "1edc30ff",
   "metadata": {},
   "source": [
    "![image.png](attachment:image.png)"
   ]
  },
  {
   "cell_type": "code",
   "execution_count": 121,
   "id": "3664eec4",
   "metadata": {},
   "outputs": [
    {
     "data": {
      "text/plain": [
       "array([1, 2, 3])"
      ]
     },
     "execution_count": 121,
     "metadata": {},
     "output_type": "execute_result"
    }
   ],
   "source": [
    "x[0] # array([1, 2, 3])"
   ]
  },
  {
   "cell_type": "code",
   "execution_count": 122,
   "id": "d18015ca",
   "metadata": {},
   "outputs": [
    {
     "data": {
      "text/plain": [
       "array([1, 2, 3])"
      ]
     },
     "execution_count": 122,
     "metadata": {},
     "output_type": "execute_result"
    }
   ],
   "source": [
    "x[0, :] # array([1, 2, 3])"
   ]
  },
  {
   "cell_type": "code",
   "execution_count": 123,
   "id": "cd6d07a2",
   "metadata": {},
   "outputs": [
    {
     "data": {
      "text/plain": [
       "array([  2,  20, 200])"
      ]
     },
     "execution_count": 123,
     "metadata": {},
     "output_type": "execute_result"
    }
   ],
   "source": [
    "x[:,1] # array([  2,  20, 200])"
   ]
  },
  {
   "cell_type": "code",
   "execution_count": 124,
   "id": "22941a27",
   "metadata": {},
   "outputs": [
    {
     "name": "stdout",
     "output_type": "stream",
     "text": [
      "1 2 3 \n",
      "10 20 30 \n",
      "100 200 300 \n"
     ]
    }
   ],
   "source": [
    "for row in x:\n",
    "    for val in row:\n",
    "        print(val, end=' ')\n",
    "    print()"
   ]
  },
  {
   "cell_type": "code",
   "execution_count": 125,
   "id": "8ecfca42",
   "metadata": {},
   "outputs": [
    {
     "name": "stdout",
     "output_type": "stream",
     "text": [
      "1 2 3 10 20 30 100 200 300 "
     ]
    }
   ],
   "source": [
    "for val in x.flat:\n",
    "    print(val, end=' ')"
   ]
  },
  {
   "cell_type": "code",
   "execution_count": 126,
   "id": "d922c368",
   "metadata": {},
   "outputs": [
    {
     "data": {
      "text/plain": [
       "array([[[[ 1,  2,  3],\n",
       "         [ 4,  5,  6],\n",
       "         [ 7,  8,  9]],\n",
       "\n",
       "        [[10, 11, 12],\n",
       "         [13, 14, 15],\n",
       "         [16, 17, 18]],\n",
       "\n",
       "        [[19, 20, 21],\n",
       "         [22, 23, 24],\n",
       "         [25, 26, 27]]],\n",
       "\n",
       "\n",
       "       [[[28, 29, 30],\n",
       "         [31, 32, 33],\n",
       "         [34, 35, 36]],\n",
       "\n",
       "        [[37, 38, 39],\n",
       "         [40, 41, 42],\n",
       "         [43, 44, 45]],\n",
       "\n",
       "        [[46, 47, 48],\n",
       "         [49, 50, 51],\n",
       "         [52, 53, 54]]],\n",
       "\n",
       "\n",
       "       [[[55, 56, 57],\n",
       "         [58, 59, 60],\n",
       "         [61, 62, 63]],\n",
       "\n",
       "        [[64, 65, 66],\n",
       "         [67, 68, 69],\n",
       "         [70, 71, 72]],\n",
       "\n",
       "        [[73, 74, 75],\n",
       "         [76, 77, 78],\n",
       "         [79, 80, 81]]]])"
      ]
     },
     "execution_count": 126,
     "metadata": {},
     "output_type": "execute_result"
    }
   ],
   "source": [
    "a = np.arange(1, 82).reshape(3, 3, 3, 3)\n",
    "a"
   ]
  },
  {
   "cell_type": "code",
   "execution_count": 127,
   "id": "39f110d8",
   "metadata": {},
   "outputs": [
    {
     "data": {
      "text/plain": [
       "array([[[10, 11, 12],\n",
       "        [13, 14, 15],\n",
       "        [16, 17, 18]],\n",
       "\n",
       "       [[37, 38, 39],\n",
       "        [40, 41, 42],\n",
       "        [43, 44, 45]],\n",
       "\n",
       "       [[64, 65, 66],\n",
       "        [67, 68, 69],\n",
       "        [70, 71, 72]]])"
      ]
     },
     "execution_count": 127,
     "metadata": {},
     "output_type": "execute_result"
    }
   ],
   "source": [
    "a[:, 1, :, :] # матрица 3x3x3"
   ]
  },
  {
   "cell_type": "code",
   "execution_count": 128,
   "id": "78c053c6",
   "metadata": {},
   "outputs": [
    {
     "data": {
      "text/plain": [
       "array([[ 5, 14, 23],\n",
       "       [32, 41, 50],\n",
       "       [59, 68, 77]])"
      ]
     },
     "execution_count": 128,
     "metadata": {},
     "output_type": "execute_result"
    }
   ],
   "source": [
    "a[:, :, 1, 1] # матрица 3x3"
   ]
  },
  {
   "cell_type": "code",
   "execution_count": 129,
   "id": "04b4b3e5",
   "metadata": {},
   "outputs": [
    {
     "data": {
      "text/plain": [
       "array([[ 5, 14, 23],\n",
       "       [32, 41, 50],\n",
       "       [59, 68, 77]])"
      ]
     },
     "execution_count": 129,
     "metadata": {},
     "output_type": "execute_result"
    }
   ],
   "source": [
    "a[..., 1, 1] # эквивалент a[:, :, 1, 1]"
   ]
  },
  {
   "cell_type": "code",
   "execution_count": 130,
   "id": "4e606e7f",
   "metadata": {},
   "outputs": [
    {
     "data": {
      "text/plain": [
       "array([1, 2, 3, 4, 5, 6, 7, 8])"
      ]
     },
     "execution_count": 130,
     "metadata": {},
     "output_type": "execute_result"
    }
   ],
   "source": [
    "a = np.arange(1, 9)\n",
    "a"
   ]
  },
  {
   "cell_type": "code",
   "execution_count": 131,
   "id": "5d53ef2a",
   "metadata": {},
   "outputs": [
    {
     "data": {
      "text/plain": [
       "1"
      ]
     },
     "execution_count": 131,
     "metadata": {},
     "output_type": "execute_result"
    }
   ],
   "source": [
    "b = a[0]\n",
    "b"
   ]
  },
  {
   "cell_type": "code",
   "execution_count": 132,
   "id": "6f9b53f3",
   "metadata": {},
   "outputs": [
    {
     "data": {
      "text/plain": [
       "array([1])"
      ]
     },
     "execution_count": 132,
     "metadata": {},
     "output_type": "execute_result"
    }
   ],
   "source": [
    "b = a[[0]] # копия массива, т.к. находится справа от равно\n",
    "b"
   ]
  },
  {
   "cell_type": "code",
   "execution_count": 133,
   "id": "768d4890",
   "metadata": {},
   "outputs": [
    {
     "data": {
      "text/plain": [
       "array([1, 2, 8, 6])"
      ]
     },
     "execution_count": 133,
     "metadata": {},
     "output_type": "execute_result"
    }
   ],
   "source": [
    "b = a[[0,1,7,5]] # копия массива, т.к. находится справа от равно\n",
    "b"
   ]
  },
  {
   "cell_type": "code",
   "execution_count": 134,
   "id": "8c394a42",
   "metadata": {},
   "outputs": [
    {
     "data": {
      "text/plain": [
       "array([1, 1, 1, 2, 2, 2])"
      ]
     },
     "execution_count": 134,
     "metadata": {},
     "output_type": "execute_result"
    }
   ],
   "source": [
    "a[[0,0,0,1,1,1]] # копия массива, т.к. находится справа от равно"
   ]
  },
  {
   "cell_type": "code",
   "execution_count": 135,
   "id": "e139e728",
   "metadata": {
    "scrolled": true
   },
   "outputs": [
    {
     "data": {
      "text/plain": [
       "array([999, 888,   3,   4,   5, 666,   7, 777])"
      ]
     },
     "execution_count": 135,
     "metadata": {},
     "output_type": "execute_result"
    }
   ],
   "source": [
    "a[[0,1,7,5]] = [999, 888, 777, 666] # НЕ копия, т.к. находится слева от равно\n",
    "a"
   ]
  },
  {
   "cell_type": "code",
   "execution_count": 136,
   "id": "e3bbe962",
   "metadata": {},
   "outputs": [
    {
     "data": {
      "text/plain": [
       "array([999, 999, 888, 888, 888,   3])"
      ]
     },
     "execution_count": 136,
     "metadata": {},
     "output_type": "execute_result"
    }
   ],
   "source": [
    "indx = [0, 0, 1, 1, 1, 2]\n",
    "a[indx] # копия массива"
   ]
  },
  {
   "cell_type": "code",
   "execution_count": 137,
   "id": "5677ff50",
   "metadata": {},
   "outputs": [
    {
     "data": {
      "text/plain": [
       "array([999, 999, 888, 888, 888,   3])"
      ]
     },
     "execution_count": 137,
     "metadata": {},
     "output_type": "execute_result"
    }
   ],
   "source": [
    "indx = np.array([0, 0, 1, 1, 1, 2])\n",
    "a[indx] # копия массива"
   ]
  },
  {
   "cell_type": "code",
   "execution_count": 138,
   "id": "d3981550",
   "metadata": {},
   "outputs": [
    {
     "data": {
      "text/plain": [
       "array([999, 888,   4, 666])"
      ]
     },
     "execution_count": 138,
     "metadata": {},
     "output_type": "execute_result"
    }
   ],
   "source": [
    "bIndx = [True, True, False, True, False, True, False, False] # длина должна быть равна длине массива\n",
    "a[bIndx]"
   ]
  },
  {
   "cell_type": "code",
   "execution_count": 139,
   "id": "33ff7834",
   "metadata": {},
   "outputs": [
    {
     "data": {
      "text/plain": [
       "array([False, False,  True,  True,  True, False,  True, False])"
      ]
     },
     "execution_count": 139,
     "metadata": {},
     "output_type": "execute_result"
    }
   ],
   "source": [
    "i = a < 10\n",
    "i"
   ]
  },
  {
   "cell_type": "code",
   "execution_count": 140,
   "id": "942baab1",
   "metadata": {},
   "outputs": [
    {
     "data": {
      "text/plain": [
       "array([3, 4, 5, 7])"
      ]
     },
     "execution_count": 140,
     "metadata": {},
     "output_type": "execute_result"
    }
   ],
   "source": [
    "a[i]"
   ]
  },
  {
   "cell_type": "code",
   "execution_count": 141,
   "id": "a0969bf3",
   "metadata": {},
   "outputs": [
    {
     "data": {
      "text/plain": [
       "array([999, 888, 666,   7, 777])"
      ]
     },
     "execution_count": 141,
     "metadata": {},
     "output_type": "execute_result"
    }
   ],
   "source": [
    "a[a > 5]"
   ]
  },
  {
   "cell_type": "code",
   "execution_count": 142,
   "id": "5324d27d",
   "metadata": {},
   "outputs": [],
   "source": [
    "a = np.arange(1, 9)\n",
    "i = np.array([[0, 1], [2, 3]]) # определяет элементы и форму"
   ]
  },
  {
   "cell_type": "code",
   "execution_count": 143,
   "id": "7b61260f",
   "metadata": {},
   "outputs": [
    {
     "data": {
      "text/plain": [
       "array([[1, 2],\n",
       "       [3, 4]])"
      ]
     },
     "execution_count": 143,
     "metadata": {},
     "output_type": "execute_result"
    }
   ],
   "source": [
    "a[i]"
   ]
  },
  {
   "cell_type": "code",
   "execution_count": 144,
   "id": "a918e9bf",
   "metadata": {},
   "outputs": [],
   "source": [
    "a = np.arange(1, 13).reshape(3, 4)"
   ]
  },
  {
   "cell_type": "code",
   "execution_count": 145,
   "id": "b676d7eb",
   "metadata": {},
   "outputs": [
    {
     "data": {
      "text/plain": [
       "array([[ 1,  2,  3,  4],\n",
       "       [ 5,  6,  7,  8],\n",
       "       [ 9, 10, 11, 12]])"
      ]
     },
     "execution_count": 145,
     "metadata": {},
     "output_type": "execute_result"
    }
   ],
   "source": [
    "a"
   ]
  },
  {
   "cell_type": "code",
   "execution_count": 146,
   "id": "7fde2033",
   "metadata": {},
   "outputs": [
    {
     "data": {
      "text/plain": [
       "array([[ 9, 10, 11, 12],\n",
       "       [ 5,  6,  7,  8],\n",
       "       [ 1,  2,  3,  4]])"
      ]
     },
     "execution_count": 146,
     "metadata": {},
     "output_type": "execute_result"
    }
   ],
   "source": [
    "indx = [2, 1, 0] # неявно axis = 0\n",
    "a[indx]"
   ]
  },
  {
   "cell_type": "code",
   "execution_count": 147,
   "id": "1e87a3ae",
   "metadata": {},
   "outputs": [
    {
     "data": {
      "text/plain": [
       "array([[[ 5,  6,  7,  8],\n",
       "        [ 1,  2,  3,  4]],\n",
       "\n",
       "       [[ 9, 10, 11, 12],\n",
       "        [ 5,  6,  7,  8]]])"
      ]
     },
     "execution_count": 147,
     "metadata": {},
     "output_type": "execute_result"
    }
   ],
   "source": [
    "indx = np.array([[1, 0], [2, 1]])\n",
    "a[indx]"
   ]
  },
  {
   "cell_type": "code",
   "execution_count": 148,
   "id": "3c649539",
   "metadata": {},
   "outputs": [
    {
     "data": {
      "text/plain": [
       "array([2, 7])"
      ]
     },
     "execution_count": 148,
     "metadata": {},
     "output_type": "execute_result"
    }
   ],
   "source": [
    "i0 = [0, 1]\n",
    "i1 = [1, 2]\n",
    "a[i0, i1] # array([2, 7])"
   ]
  },
  {
   "attachments": {
    "image.png": {
     "image/png": "[encoded data removed]"
    }
   },
   "cell_type": "markdown",
   "id": "0cbd0c67",
   "metadata": {},
   "source": [
    "![image.png](attachment:image.png)"
   ]
  },
  {
   "cell_type": "code",
   "execution_count": 149,
   "id": "80ce9fad",
   "metadata": {},
   "outputs": [
    {
     "data": {
      "text/plain": [
       "array([[ 1,  2,  3,  4],\n",
       "       [ 5,  6,  7,  8],\n",
       "       [ 9, 10, 11, 12]])"
      ]
     },
     "execution_count": 149,
     "metadata": {},
     "output_type": "execute_result"
    }
   ],
   "source": [
    "a"
   ]
  },
  {
   "cell_type": "code",
   "execution_count": 150,
   "id": "0628ef1c",
   "metadata": {},
   "outputs": [
    {
     "data": {
      "text/plain": [
       "array([[ 2,  3],\n",
       "       [ 6,  7],\n",
       "       [10, 11]])"
      ]
     },
     "execution_count": 150,
     "metadata": {},
     "output_type": "execute_result"
    }
   ],
   "source": [
    "a[:, i1]"
   ]
  },
  {
   "cell_type": "code",
   "execution_count": 151,
   "id": "49a1d313",
   "metadata": {},
   "outputs": [
    {
     "data": {
      "text/plain": [
       "array([2, 6])"
      ]
     },
     "execution_count": 151,
     "metadata": {},
     "output_type": "execute_result"
    }
   ],
   "source": [
    "a[i0, 1]"
   ]
  },
  {
   "cell_type": "code",
   "execution_count": 152,
   "id": "e03a84f3",
   "metadata": {},
   "outputs": [],
   "source": [
    "a = np.arange(7) # array([0, 1, 2, 3, 4, 5, 6])"
   ]
  },
  {
   "cell_type": "code",
   "execution_count": 153,
   "id": "6d4aa4fc",
   "metadata": {},
   "outputs": [],
   "source": [
    "a[[0, 4, 6]] = [-1, -2, -3]"
   ]
  },
  {
   "cell_type": "code",
   "execution_count": 154,
   "id": "b0aaeaa6",
   "metadata": {},
   "outputs": [
    {
     "data": {
      "text/plain": [
       "array([-1,  1,  2,  3, -2,  5, -3])"
      ]
     },
     "execution_count": 154,
     "metadata": {},
     "output_type": "execute_result"
    }
   ],
   "source": [
    "a"
   ]
  },
  {
   "cell_type": "code",
   "execution_count": 155,
   "id": "c398c5de",
   "metadata": {},
   "outputs": [
    {
     "data": {
      "text/plain": [
       "array([  3, 100,   2,   3,  -2,   5,  -3])"
      ]
     },
     "execution_count": 155,
     "metadata": {},
     "output_type": "execute_result"
    }
   ],
   "source": [
    "a[[0, 0, 0, 1]] = [1, 2, 3, 100] # перезапись\n",
    "a"
   ]
  },
  {
   "cell_type": "code",
   "execution_count": 156,
   "id": "e0518dad",
   "metadata": {},
   "outputs": [],
   "source": [
    "a[[0, 0, 0]] = a[[0, 0, 0]] + 3"
   ]
  },
  {
   "cell_type": "code",
   "execution_count": 157,
   "id": "f73df327",
   "metadata": {},
   "outputs": [
    {
     "data": {
      "text/plain": [
       "array([  6, 100,   2,   3,  -2,   5,  -3])"
      ]
     },
     "execution_count": 157,
     "metadata": {},
     "output_type": "execute_result"
    }
   ],
   "source": [
    "a"
   ]
  },
  {
   "cell_type": "code",
   "execution_count": 158,
   "id": "3742c36c",
   "metadata": {},
   "outputs": [],
   "source": [
    "a[[0, 0, 1, 2]] += 1"
   ]
  },
  {
   "cell_type": "code",
   "execution_count": 159,
   "id": "46aa3137",
   "metadata": {},
   "outputs": [
    {
     "data": {
      "text/plain": [
       "array([  7, 101,   3,   3,  -2,   5,  -3])"
      ]
     },
     "execution_count": 159,
     "metadata": {},
     "output_type": "execute_result"
    }
   ],
   "source": [
    "a"
   ]
  },
  {
   "cell_type": "markdown",
   "id": "627ed0c5",
   "metadata": {},
   "source": [
    "# Математические операции над массивами"
   ]
  },
  {
   "cell_type": "code",
   "execution_count": 160,
   "id": "712e8dc7",
   "metadata": {},
   "outputs": [],
   "source": [
    "lst = [1, 2, 3]\n",
    "a = np.array([1, 2, 3])"
   ]
  },
  {
   "cell_type": "code",
   "execution_count": 161,
   "id": "c5fb798b",
   "metadata": {},
   "outputs": [
    {
     "data": {
      "text/plain": [
       "[1, 2, 3, 1, 2, 3]"
      ]
     },
     "execution_count": 161,
     "metadata": {},
     "output_type": "execute_result"
    }
   ],
   "source": [
    "lst*2"
   ]
  },
  {
   "cell_type": "code",
   "execution_count": 162,
   "id": "749d164c",
   "metadata": {},
   "outputs": [
    {
     "data": {
      "text/plain": [
       "array([2, 4, 6])"
      ]
     },
     "execution_count": 162,
     "metadata": {},
     "output_type": "execute_result"
    }
   ],
   "source": [
    "a*2"
   ]
  },
  {
   "cell_type": "code",
   "execution_count": 163,
   "id": "96d56db9",
   "metadata": {},
   "outputs": [],
   "source": [
    "a = np.array([1, 2, 3])"
   ]
  },
  {
   "cell_type": "code",
   "execution_count": 164,
   "id": "396cc207",
   "metadata": {},
   "outputs": [
    {
     "data": {
      "text/plain": [
       "array([-1, -2, -3])"
      ]
     },
     "execution_count": 164,
     "metadata": {},
     "output_type": "execute_result"
    }
   ],
   "source": [
    "-a"
   ]
  },
  {
   "cell_type": "code",
   "execution_count": 165,
   "id": "7184b67d",
   "metadata": {},
   "outputs": [
    {
     "data": {
      "text/plain": [
       "array([-2, -1,  0])"
      ]
     },
     "execution_count": 165,
     "metadata": {},
     "output_type": "execute_result"
    }
   ],
   "source": [
    "a-3"
   ]
  },
  {
   "cell_type": "code",
   "execution_count": 166,
   "id": "8002de69",
   "metadata": {},
   "outputs": [
    {
     "data": {
      "text/plain": [
       "array([1, 0, 1], dtype=int32)"
      ]
     },
     "execution_count": 166,
     "metadata": {},
     "output_type": "execute_result"
    }
   ],
   "source": [
    "a % 2"
   ]
  },
  {
   "cell_type": "code",
   "execution_count": 167,
   "id": "32f55e44",
   "metadata": {},
   "outputs": [],
   "source": [
    "a = np.array([1, 2, 3])\n",
    "b = np.array([3, 4, 5])"
   ]
  },
  {
   "cell_type": "code",
   "execution_count": 168,
   "id": "091d5a16",
   "metadata": {},
   "outputs": [
    {
     "data": {
      "text/plain": [
       "array([4, 6, 8])"
      ]
     },
     "execution_count": 168,
     "metadata": {},
     "output_type": "execute_result"
    }
   ],
   "source": [
    "a + b #  поэлементные операции"
   ]
  },
  {
   "cell_type": "code",
   "execution_count": 169,
   "id": "1bba65c6",
   "metadata": {},
   "outputs": [
    {
     "data": {
      "text/plain": [
       "array([ 3,  8, 15])"
      ]
     },
     "execution_count": 169,
     "metadata": {},
     "output_type": "execute_result"
    }
   ],
   "source": [
    "a * b #  поэлементные операции"
   ]
  },
  {
   "cell_type": "code",
   "execution_count": 170,
   "id": "b9afc5aa",
   "metadata": {},
   "outputs": [],
   "source": [
    "a = np.array([1, 2, 6, 8])\n",
    "a += 5"
   ]
  },
  {
   "cell_type": "code",
   "execution_count": 171,
   "id": "3398259a",
   "metadata": {},
   "outputs": [
    {
     "data": {
      "text/plain": [
       "array([ 6,  7, 11, 13])"
      ]
     },
     "execution_count": 171,
     "metadata": {},
     "output_type": "execute_result"
    }
   ],
   "source": [
    "a"
   ]
  },
  {
   "cell_type": "markdown",
   "id": "4e7083d6",
   "metadata": {},
   "source": [
    "# Булевы операции"
   ]
  },
  {
   "cell_type": "code",
   "execution_count": 172,
   "id": "9b255c06",
   "metadata": {},
   "outputs": [],
   "source": [
    "a = np.array([1, 2, 3, 10, 20, 30, 10])"
   ]
  },
  {
   "cell_type": "code",
   "execution_count": 173,
   "id": "bc3d212b",
   "metadata": {},
   "outputs": [
    {
     "data": {
      "text/plain": [
       "array([10, 20, 30, 10])"
      ]
     },
     "execution_count": 173,
     "metadata": {},
     "output_type": "execute_result"
    }
   ],
   "source": [
    "indx = a > 5\n",
    "a[indx]"
   ]
  },
  {
   "cell_type": "code",
   "execution_count": 174,
   "id": "a5827401",
   "metadata": {},
   "outputs": [
    {
     "data": {
      "text/plain": [
       "array([10, 10])"
      ]
     },
     "execution_count": 174,
     "metadata": {},
     "output_type": "execute_result"
    }
   ],
   "source": [
    "a[a==10]"
   ]
  },
  {
   "cell_type": "code",
   "execution_count": 175,
   "id": "afc66f70",
   "metadata": {},
   "outputs": [],
   "source": [
    "b = np.array([1, 2, 3, 4, 5, 6, 10])"
   ]
  },
  {
   "cell_type": "code",
   "execution_count": 176,
   "id": "eb9bf61c",
   "metadata": {},
   "outputs": [
    {
     "data": {
      "text/plain": [
       "array([ True,  True,  True, False, False, False,  True])"
      ]
     },
     "execution_count": 176,
     "metadata": {},
     "output_type": "execute_result"
    }
   ],
   "source": [
    "a == b # возвращает массив"
   ]
  },
  {
   "cell_type": "code",
   "execution_count": 177,
   "id": "b769cdd3",
   "metadata": {},
   "outputs": [
    {
     "data": {
      "text/plain": [
       "array([False, False, False,  True,  True,  True, False])"
      ]
     },
     "execution_count": 177,
     "metadata": {},
     "output_type": "execute_result"
    }
   ],
   "source": [
    "a > b"
   ]
  },
  {
   "cell_type": "code",
   "execution_count": 178,
   "id": "4957a55a",
   "metadata": {},
   "outputs": [
    {
     "data": {
      "text/plain": [
       "array([ True,  True,  True, False, False, False,  True])"
      ]
     },
     "execution_count": 178,
     "metadata": {},
     "output_type": "execute_result"
    }
   ],
   "source": [
    "np.equal(a, b)"
   ]
  },
  {
   "cell_type": "code",
   "execution_count": 179,
   "id": "061cc1b8",
   "metadata": {},
   "outputs": [
    {
     "data": {
      "text/plain": [
       "False"
      ]
     },
     "execution_count": 179,
     "metadata": {},
     "output_type": "execute_result"
    }
   ],
   "source": [
    "np.array_equal(a, b) # равные массивы, возвращает True/False"
   ]
  },
  {
   "cell_type": "code",
   "execution_count": 180,
   "id": "6f7e2f36",
   "metadata": {},
   "outputs": [
    {
     "data": {
      "text/plain": [
       "True"
      ]
     },
     "execution_count": 180,
     "metadata": {},
     "output_type": "execute_result"
    }
   ],
   "source": [
    "np.any(a > 5)"
   ]
  },
  {
   "cell_type": "code",
   "execution_count": 181,
   "id": "b0a4a40d",
   "metadata": {},
   "outputs": [
    {
     "data": {
      "text/plain": [
       "False"
      ]
     },
     "execution_count": 181,
     "metadata": {},
     "output_type": "execute_result"
    }
   ],
   "source": [
    "np.any(a == 5) "
   ]
  },
  {
   "cell_type": "code",
   "execution_count": 182,
   "id": "37f405eb",
   "metadata": {},
   "outputs": [
    {
     "data": {
      "text/plain": [
       "True"
      ]
     },
     "execution_count": 182,
     "metadata": {},
     "output_type": "execute_result"
    }
   ],
   "source": [
    "np.any(a == b)"
   ]
  },
  {
   "cell_type": "code",
   "execution_count": 183,
   "id": "b8829d29",
   "metadata": {},
   "outputs": [
    {
     "data": {
      "text/plain": [
       "False"
      ]
     },
     "execution_count": 183,
     "metadata": {},
     "output_type": "execute_result"
    }
   ],
   "source": [
    "np.all(a == b)"
   ]
  },
  {
   "cell_type": "markdown",
   "id": "5ff1be84",
   "metadata": {},
   "source": [
    "# Значения -inf, inf и nan"
   ]
  },
  {
   "cell_type": "code",
   "execution_count": 184,
   "id": "b3029cb0",
   "metadata": {},
   "outputs": [],
   "source": [
    "a = np.arange(1,10)"
   ]
  },
  {
   "cell_type": "code",
   "execution_count": 185,
   "id": "b2a0a1c8",
   "metadata": {},
   "outputs": [
    {
     "name": "stderr",
     "output_type": "stream",
     "text": [
      "C:\\Users\\Filipp.MI\\AppData\\Local\\Temp\\ipykernel_11672\\1979898162.py:1: RuntimeWarning: divide by zero encountered in true_divide\n",
      "  a / 0\n"
     ]
    },
    {
     "data": {
      "text/plain": [
       "array([inf, inf, inf, inf, inf, inf, inf, inf, inf])"
      ]
     },
     "execution_count": 185,
     "metadata": {},
     "output_type": "execute_result"
    }
   ],
   "source": [
    "a / 0"
   ]
  },
  {
   "cell_type": "code",
   "execution_count": 186,
   "id": "1953ba3a",
   "metadata": {},
   "outputs": [],
   "source": [
    "b = np.array([1, 2, np.inf])"
   ]
  },
  {
   "cell_type": "code",
   "execution_count": 187,
   "id": "727c0b81",
   "metadata": {},
   "outputs": [
    {
     "name": "stderr",
     "output_type": "stream",
     "text": [
      "C:\\Users\\Filipp.MI\\AppData\\Local\\Temp\\ipykernel_11672\\946493483.py:1: RuntimeWarning: invalid value encountered in multiply\n",
      "  b * 0\n"
     ]
    },
    {
     "data": {
      "text/plain": [
       "array([ 0.,  0., nan])"
      ]
     },
     "execution_count": 187,
     "metadata": {},
     "output_type": "execute_result"
    }
   ],
   "source": [
    "b * 0"
   ]
  },
  {
   "cell_type": "code",
   "execution_count": 188,
   "id": "088e8eb8",
   "metadata": {},
   "outputs": [],
   "source": [
    "g = np.array([1, 2, np.nan, np.inf, -np.inf])"
   ]
  },
  {
   "cell_type": "code",
   "execution_count": 189,
   "id": "1adb33b7",
   "metadata": {},
   "outputs": [
    {
     "data": {
      "text/plain": [
       "array([False, False, False,  True,  True])"
      ]
     },
     "execution_count": 189,
     "metadata": {},
     "output_type": "execute_result"
    }
   ],
   "source": [
    "np.isinf(g)"
   ]
  },
  {
   "cell_type": "code",
   "execution_count": 190,
   "id": "3c5df554",
   "metadata": {},
   "outputs": [
    {
     "data": {
      "text/plain": [
       "array([False, False,  True, False, False])"
      ]
     },
     "execution_count": 190,
     "metadata": {},
     "output_type": "execute_result"
    }
   ],
   "source": [
    "np.isnan(g)"
   ]
  },
  {
   "cell_type": "code",
   "execution_count": 191,
   "id": "00486a88",
   "metadata": {},
   "outputs": [
    {
     "data": {
      "text/plain": [
       "array([ 1.,  2., nan])"
      ]
     },
     "execution_count": 191,
     "metadata": {},
     "output_type": "execute_result"
    }
   ],
   "source": [
    "indx = np.isinf(g)\n",
    "g[~indx]              # удалить все что равно inf"
   ]
  },
  {
   "cell_type": "code",
   "execution_count": 192,
   "id": "9f0af846",
   "metadata": {},
   "outputs": [
    {
     "data": {
      "text/plain": [
       "array([ True,  True, False])"
      ]
     },
     "execution_count": 192,
     "metadata": {},
     "output_type": "execute_result"
    }
   ],
   "source": [
    "np.isfinite(b) # фильтр все что конечное (не равно inf, nan)"
   ]
  },
  {
   "cell_type": "code",
   "execution_count": 193,
   "id": "ee0230c3",
   "metadata": {},
   "outputs": [
    {
     "data": {
      "text/plain": [
       "array([ True,  True, False])"
      ]
     },
     "execution_count": 193,
     "metadata": {},
     "output_type": "execute_result"
    }
   ],
   "source": [
    "a = np.array([1+2j, 3-4j, 5.+0.j])  # array([1.+2.j, 3.-4.j, 5])\n",
    "np.iscomplex(a) # array([ True,  True, False])"
   ]
  },
  {
   "cell_type": "code",
   "execution_count": 194,
   "id": "8bab5257",
   "metadata": {},
   "outputs": [
    {
     "data": {
      "text/plain": [
       "array([False, False,  True])"
      ]
     },
     "execution_count": 194,
     "metadata": {},
     "output_type": "execute_result"
    }
   ],
   "source": [
    "np.isreal(a)"
   ]
  },
  {
   "cell_type": "code",
   "execution_count": 195,
   "id": "38ec6d2d",
   "metadata": {},
   "outputs": [
    {
     "data": {
      "text/plain": [
       "array([ True,  True,  True,  True,  True])"
      ]
     },
     "execution_count": 195,
     "metadata": {},
     "output_type": "execute_result"
    }
   ],
   "source": [
    "g = np.array([1, 2, np.nan, np.inf, -np.inf])\n",
    "np.isreal(g)"
   ]
  },
  {
   "cell_type": "code",
   "execution_count": 196,
   "id": "a3e7ac25",
   "metadata": {},
   "outputs": [],
   "source": [
    "X = np.array([True, False, True, False])\n",
    "Y = np.array([True, True, False, False])"
   ]
  },
  {
   "cell_type": "code",
   "execution_count": 197,
   "id": "86974137",
   "metadata": {},
   "outputs": [
    {
     "data": {
      "text/plain": [
       "array([False,  True,  True, False])"
      ]
     },
     "execution_count": 197,
     "metadata": {},
     "output_type": "execute_result"
    }
   ],
   "source": [
    "np.logical_and(X, Y) # логическое И: array([ True, False, False, False])\n",
    "np.logical_or(X, Y) # логическое ИЛИ: array([False,  True, False,  True])\n",
    "np.logical_not(X) # логическое НЕ: array([False,  True, False,  True])\n",
    "np.logical_xor(X, Y) # XOR: array([False,  True,  True, False])"
   ]
  },
  {
   "cell_type": "code",
   "execution_count": 198,
   "id": "2df64b00",
   "metadata": {},
   "outputs": [
    {
     "data": {
      "text/plain": [
       "array([ True, False, False, False])"
      ]
     },
     "execution_count": 198,
     "metadata": {},
     "output_type": "execute_result"
    }
   ],
   "source": [
    "a = np.array([1, 0, 2, 0])\n",
    "b = np.array([3, 4, 0, 0])\n",
    "np.logical_and(a, b)"
   ]
  },
  {
   "cell_type": "markdown",
   "id": "2a3a3207",
   "metadata": {},
   "source": [
    "# Функции sum, mean, min и max"
   ]
  },
  {
   "cell_type": "code",
   "execution_count": 199,
   "id": "f2367d53",
   "metadata": {},
   "outputs": [
    {
     "data": {
      "text/plain": [
       "1"
      ]
     },
     "execution_count": 199,
     "metadata": {},
     "output_type": "execute_result"
    }
   ],
   "source": [
    "a = np.array([ 1,  2,  3, 10, 20, 30])\n",
    "a.sum()    # 66\n",
    "a.mean()  # 11.0\n",
    "a.max()    # 30\n",
    "a.min()    # 1"
   ]
  },
  {
   "cell_type": "code",
   "execution_count": 200,
   "id": "f1a7a987",
   "metadata": {},
   "outputs": [],
   "source": [
    "a.resize(3, 2)"
   ]
  },
  {
   "cell_type": "code",
   "execution_count": 201,
   "id": "40cef3ea",
   "metadata": {},
   "outputs": [
    {
     "data": {
      "text/plain": [
       "array([[ 1,  2],\n",
       "       [ 3, 10],\n",
       "       [20, 30]])"
      ]
     },
     "execution_count": 201,
     "metadata": {},
     "output_type": "execute_result"
    }
   ],
   "source": [
    "a"
   ]
  },
  {
   "cell_type": "code",
   "execution_count": 202,
   "id": "22aa2358",
   "metadata": {},
   "outputs": [
    {
     "data": {
      "text/plain": [
       "66"
      ]
     },
     "execution_count": 202,
     "metadata": {},
     "output_type": "execute_result"
    }
   ],
   "source": [
    "a.sum()"
   ]
  },
  {
   "cell_type": "code",
   "execution_count": 203,
   "id": "173fed28",
   "metadata": {},
   "outputs": [
    {
     "data": {
      "text/plain": [
       "array([24, 42])"
      ]
     },
     "execution_count": 203,
     "metadata": {},
     "output_type": "execute_result"
    }
   ],
   "source": [
    "a.sum(axis=0) # складываем 0-е элементы (1+3+20), складываем 1-е (2+10+30) элементы строк"
   ]
  },
  {
   "cell_type": "code",
   "execution_count": 204,
   "id": "5f5f630b",
   "metadata": {},
   "outputs": [
    {
     "data": {
      "text/plain": [
       "array([ 3, 13, 50])"
      ]
     },
     "execution_count": 204,
     "metadata": {},
     "output_type": "execute_result"
    }
   ],
   "source": [
    "a.sum(axis=1) # складываем 0-е и 1-е столбцов"
   ]
  },
  {
   "cell_type": "code",
   "execution_count": 205,
   "id": "79635a39",
   "metadata": {},
   "outputs": [
    {
     "data": {
      "text/plain": [
       "array([20, 30])"
      ]
     },
     "execution_count": 205,
     "metadata": {},
     "output_type": "execute_result"
    }
   ],
   "source": [
    "a.max(axis=0)"
   ]
  },
  {
   "cell_type": "code",
   "execution_count": 206,
   "id": "1e6fcbc0",
   "metadata": {},
   "outputs": [
    {
     "data": {
      "text/plain": [
       "array([ 1,  3, 20])"
      ]
     },
     "execution_count": 206,
     "metadata": {},
     "output_type": "execute_result"
    }
   ],
   "source": [
    "a.min(axis=1)"
   ]
  },
  {
   "cell_type": "code",
   "execution_count": 207,
   "id": "5271ce24",
   "metadata": {},
   "outputs": [],
   "source": [
    "x = np.array([-1, 1, 5, -44, 32, 2])"
   ]
  },
  {
   "cell_type": "code",
   "execution_count": 208,
   "id": "12852cbd",
   "metadata": {},
   "outputs": [
    {
     "data": {
      "text/plain": [
       "array([ 1,  1,  5, 44, 32,  2])"
      ]
     },
     "execution_count": 208,
     "metadata": {},
     "output_type": "execute_result"
    }
   ],
   "source": [
    "np.abs(x) # xможет быть числом, списком или массивом."
   ]
  },
  {
   "cell_type": "code",
   "execution_count": 209,
   "id": "fa492974",
   "metadata": {},
   "outputs": [
    {
     "name": "stderr",
     "output_type": "stream",
     "text": [
      "C:\\Users\\Filipp.MI\\AppData\\Local\\Temp\\ipykernel_11672\\1277889159.py:1: RuntimeWarning: invalid value encountered in log\n",
      "  np.log(x)\n"
     ]
    },
    {
     "data": {
      "text/plain": [
       "array([       nan, 0.        , 1.60943791,        nan, 3.4657359 ,\n",
       "       0.69314718])"
      ]
     },
     "execution_count": 209,
     "metadata": {},
     "output_type": "execute_result"
    }
   ],
   "source": [
    "np.log(x)"
   ]
  },
  {
   "cell_type": "code",
   "execution_count": 210,
   "id": "9e356856",
   "metadata": {},
   "outputs": [
    {
     "data": {
      "text/plain": [
       "32"
      ]
     },
     "execution_count": 210,
     "metadata": {},
     "output_type": "execute_result"
    }
   ],
   "source": [
    "np.amax(x)"
   ]
  },
  {
   "cell_type": "code",
   "execution_count": 211,
   "id": "63b6fb1a",
   "metadata": {},
   "outputs": [],
   "source": [
    "a.resize(2, 3)"
   ]
  },
  {
   "cell_type": "code",
   "execution_count": 212,
   "id": "e8437ea6",
   "metadata": {},
   "outputs": [
    {
     "data": {
      "text/plain": [
       "array([[ 1,  2,  3],\n",
       "       [10, 20, 30]])"
      ]
     },
     "execution_count": 212,
     "metadata": {},
     "output_type": "execute_result"
    }
   ],
   "source": [
    "a"
   ]
  },
  {
   "cell_type": "code",
   "execution_count": 213,
   "id": "4254c7c6",
   "metadata": {},
   "outputs": [
    {
     "data": {
      "text/plain": [
       "array([10, 20, 30])"
      ]
     },
     "execution_count": 213,
     "metadata": {},
     "output_type": "execute_result"
    }
   ],
   "source": [
    "np.amax(a, axis=0)"
   ]
  },
  {
   "cell_type": "code",
   "execution_count": 214,
   "id": "6fab2a92",
   "metadata": {},
   "outputs": [
    {
     "data": {
      "text/plain": [
       "array([ 3, 30])"
      ]
     },
     "execution_count": 214,
     "metadata": {},
     "output_type": "execute_result"
    }
   ],
   "source": [
    "np.amax(a, axis=1)"
   ]
  },
  {
   "cell_type": "markdown",
   "id": "64349e76",
   "metadata": {},
   "source": [
    "# Тригонометрические функции"
   ]
  },
  {
   "cell_type": "code",
   "execution_count": 215,
   "id": "560db5c5",
   "metadata": {},
   "outputs": [],
   "source": [
    "a = np.linspace(0, np.pi, 10)"
   ]
  },
  {
   "cell_type": "code",
   "execution_count": 216,
   "id": "91ffbce4",
   "metadata": {},
   "outputs": [
    {
     "data": {
      "text/plain": [
       "array([0.00000000e+00, 3.42020143e-01, 6.42787610e-01, 8.66025404e-01,\n",
       "       9.84807753e-01, 9.84807753e-01, 8.66025404e-01, 6.42787610e-01,\n",
       "       3.42020143e-01, 1.22464680e-16])"
      ]
     },
     "execution_count": 216,
     "metadata": {},
     "output_type": "execute_result"
    }
   ],
   "source": [
    "np.sin(a)"
   ]
  },
  {
   "cell_type": "code",
   "execution_count": 217,
   "id": "61aa091b",
   "metadata": {},
   "outputs": [
    {
     "data": {
      "text/plain": [
       "array([0.00000000e+00, 3.49065850e-01, 6.98131701e-01, 1.04719755e+00,\n",
       "       1.39626340e+00, 1.39626340e+00, 1.04719755e+00, 6.98131701e-01,\n",
       "       3.49065850e-01, 1.22464680e-16])"
      ]
     },
     "execution_count": 217,
     "metadata": {},
     "output_type": "execute_result"
    }
   ],
   "source": [
    "np.arcsin(np.sin(a))"
   ]
  },
  {
   "cell_type": "markdown",
   "id": "51a0e005",
   "metadata": {},
   "source": [
    "# Функции генерации псевдослучайных чисел"
   ]
  },
  {
   "cell_type": "code",
   "execution_count": 218,
   "id": "0b1246d6",
   "metadata": {},
   "outputs": [
    {
     "data": {
      "text/plain": [
       "0.7152969761256889"
      ]
     },
     "execution_count": 218,
     "metadata": {},
     "output_type": "execute_result"
    }
   ],
   "source": [
    "np.random.rand() # вещественное случайное число от 0 до 1"
   ]
  },
  {
   "cell_type": "code",
   "execution_count": 219,
   "id": "f70a5568",
   "metadata": {},
   "outputs": [
    {
     "data": {
      "text/plain": [
       "array([0.50172488, 0.07160821, 0.3047754 , 0.76608533, 0.63829207])"
      ]
     },
     "execution_count": 219,
     "metadata": {},
     "output_type": "execute_result"
    }
   ],
   "source": [
    "np.random.rand(5)"
   ]
  },
  {
   "cell_type": "code",
   "execution_count": 220,
   "id": "01dad64d",
   "metadata": {},
   "outputs": [
    {
     "data": {
      "text/plain": [
       "array([[0.01231755, 0.63797203, 0.53975611],\n",
       "       [0.40032594, 0.3973154 , 0.7193013 ]])"
      ]
     },
     "execution_count": 220,
     "metadata": {},
     "output_type": "execute_result"
    }
   ],
   "source": [
    "np.random.rand(2, 3) # массив 2x3"
   ]
  },
  {
   "cell_type": "code",
   "execution_count": 221,
   "id": "ae50ed95",
   "metadata": {},
   "outputs": [
    {
     "data": {
      "text/plain": [
       "8"
      ]
     },
     "execution_count": 221,
     "metadata": {},
     "output_type": "execute_result"
    }
   ],
   "source": [
    "np.random.randint(10) # генерация целых чисел в диапазоне [0; 10)"
   ]
  },
  {
   "cell_type": "code",
   "execution_count": 222,
   "id": "a5fd8bdd",
   "metadata": {},
   "outputs": [
    {
     "data": {
      "text/plain": [
       "8"
      ]
     },
     "execution_count": 222,
     "metadata": {},
     "output_type": "execute_result"
    }
   ],
   "source": [
    "np.random.randint(5, 10)# генерация в диапазоне [5; 10)"
   ]
  },
  {
   "cell_type": "code",
   "execution_count": 223,
   "id": "c0df68bd",
   "metadata": {},
   "outputs": [
    {
     "data": {
      "text/plain": [
       "array([[5, 7, 8],\n",
       "       [7, 9, 6],\n",
       "       [6, 5, 8]])"
      ]
     },
     "execution_count": 223,
     "metadata": {},
     "output_type": "execute_result"
    }
   ],
   "source": [
    "np.random.randint(5, 10, size=(3,3))# генерация в диапазоне [5; 10)"
   ]
  },
  {
   "cell_type": "code",
   "execution_count": 224,
   "id": "9490bb9b",
   "metadata": {},
   "outputs": [
    {
     "data": {
      "text/plain": [
       "array([2, 0, 2, 2])"
      ]
     },
     "execution_count": 224,
     "metadata": {},
     "output_type": "execute_result"
    }
   ],
   "source": [
    "np.random.randint(5, size=4)"
   ]
  },
  {
   "cell_type": "code",
   "execution_count": 225,
   "id": "e3c9a628",
   "metadata": {},
   "outputs": [
    {
     "data": {
      "text/plain": [
       "array([[4, 3, 1, 1, 1],\n",
       "       [1, 1, 8, 4, 7]])"
      ]
     },
     "execution_count": 225,
     "metadata": {},
     "output_type": "execute_result"
    }
   ],
   "source": [
    "np.random.randint(1, 10, size=(2, 5))"
   ]
  },
  {
   "cell_type": "code",
   "execution_count": 226,
   "id": "89ee3d30",
   "metadata": {},
   "outputs": [
    {
     "data": {
      "text/plain": [
       "0.04516427562756645"
      ]
     },
     "execution_count": 226,
     "metadata": {},
     "output_type": "execute_result"
    }
   ],
   "source": [
    "np.random.randn() # нормальная СВ с нулевым средним и единичной дисперсией"
   ]
  },
  {
   "cell_type": "code",
   "execution_count": 227,
   "id": "5fc27b7b",
   "metadata": {},
   "outputs": [
    {
     "data": {
      "text/plain": [
       "array([ 0.09961286,  0.8441622 ,  2.08064646,  1.40670535, -0.75181497])"
      ]
     },
     "execution_count": 227,
     "metadata": {},
     "output_type": "execute_result"
    }
   ],
   "source": [
    "np.random.randn(5)"
   ]
  },
  {
   "cell_type": "code",
   "execution_count": 228,
   "id": "49eb294b",
   "metadata": {},
   "outputs": [
    {
     "data": {
      "text/plain": [
       "array([[-0.54869212,  1.19402329,  0.48778197],\n",
       "       [-0.57221137,  0.22663174,  0.89638585]])"
      ]
     },
     "execution_count": 228,
     "metadata": {},
     "output_type": "execute_result"
    }
   ],
   "source": [
    "np.random.randn(2, 3)"
   ]
  },
  {
   "cell_type": "code",
   "execution_count": 229,
   "id": "53dfa4c7",
   "metadata": {},
   "outputs": [],
   "source": [
    "np.random.seed(13) # начальное значение генератора случайных чисел"
   ]
  },
  {
   "cell_type": "code",
   "execution_count": 230,
   "id": "950c2e9e",
   "metadata": {},
   "outputs": [
    {
     "data": {
      "text/plain": [
       "array([7, 5, 7, 5, 7, 9, 6, 9, 7, 8])"
      ]
     },
     "execution_count": 230,
     "metadata": {},
     "output_type": "execute_result"
    }
   ],
   "source": [
    "np.random.randint(5, 10, size=10)"
   ]
  },
  {
   "cell_type": "code",
   "execution_count": 231,
   "id": "9908fd4d",
   "metadata": {},
   "outputs": [],
   "source": [
    "np.random.seed(13) # начальное значение генератора случайных чисел"
   ]
  },
  {
   "cell_type": "code",
   "execution_count": 232,
   "id": "93213fb1",
   "metadata": {},
   "outputs": [
    {
     "data": {
      "text/plain": [
       "array([7, 5, 7, 5, 7, 9, 6, 9, 7, 8])"
      ]
     },
     "execution_count": 232,
     "metadata": {},
     "output_type": "execute_result"
    }
   ],
   "source": [
    "np.random.randint(5, 10, size=10)"
   ]
  },
  {
   "cell_type": "code",
   "execution_count": 233,
   "id": "2ca4c2b8",
   "metadata": {},
   "outputs": [],
   "source": [
    "a = np.arange(10) # array([0, 1, 2, 3, 4, 5, 6, 7, 8, 9])"
   ]
  },
  {
   "cell_type": "code",
   "execution_count": 234,
   "id": "897913ba",
   "metadata": {},
   "outputs": [
    {
     "data": {
      "text/plain": [
       "array([3, 9, 0, 1, 8, 5, 7, 6, 2, 4])"
      ]
     },
     "execution_count": 234,
     "metadata": {},
     "output_type": "execute_result"
    }
   ],
   "source": [
    "np.random.shuffle(a)\n",
    "a"
   ]
  },
  {
   "cell_type": "code",
   "execution_count": 235,
   "id": "670733ed",
   "metadata": {},
   "outputs": [],
   "source": [
    "a = np.arange(1, 10).reshape(3,3)"
   ]
  },
  {
   "cell_type": "code",
   "execution_count": 236,
   "id": "8509536d",
   "metadata": {},
   "outputs": [],
   "source": [
    "np.random.shuffle(a)"
   ]
  },
  {
   "cell_type": "code",
   "execution_count": 237,
   "id": "447f96a0",
   "metadata": {},
   "outputs": [
    {
     "data": {
      "text/plain": [
       "array([[7, 8, 9],\n",
       "       [4, 5, 6],\n",
       "       [1, 2, 3]])"
      ]
     },
     "execution_count": 237,
     "metadata": {},
     "output_type": "execute_result"
    }
   ],
   "source": [
    "a"
   ]
  },
  {
   "cell_type": "code",
   "execution_count": 238,
   "id": "8db04220",
   "metadata": {},
   "outputs": [
    {
     "data": {
      "text/plain": [
       "array([4, 0, 2, 1, 7, 9, 6, 8, 3, 5])"
      ]
     },
     "execution_count": 238,
     "metadata": {},
     "output_type": "execute_result"
    }
   ],
   "source": [
    "np.random.permutation(10)"
   ]
  },
  {
   "cell_type": "markdown",
   "id": "af8c1885",
   "metadata": {},
   "source": [
    "# Функции математической статистики"
   ]
  },
  {
   "cell_type": "code",
   "execution_count": 239,
   "id": "6a2d58e8",
   "metadata": {},
   "outputs": [],
   "source": [
    "x = np.array([1, 4, 3, 7, 10, 8, 14, 21, 20, 23])\n",
    "y = np.array([4, 1, 6, 9, 13, 11, 16, 19, 15, 22])"
   ]
  },
  {
   "cell_type": "code",
   "execution_count": 240,
   "id": "f8f68322",
   "metadata": {},
   "outputs": [
    {
     "data": {
      "text/plain": [
       "9.0"
      ]
     },
     "execution_count": 240,
     "metadata": {},
     "output_type": "execute_result"
    }
   ],
   "source": [
    "np.median(x)"
   ]
  },
  {
   "cell_type": "code",
   "execution_count": 241,
   "id": "4cf74625",
   "metadata": {},
   "outputs": [
    {
     "data": {
      "text/plain": [
       "57.29"
      ]
     },
     "execution_count": 241,
     "metadata": {},
     "output_type": "execute_result"
    }
   ],
   "source": [
    "np.var(x) # дисперсия СВX на основе реализации x"
   ]
  },
  {
   "cell_type": "code",
   "execution_count": 242,
   "id": "76a1de6b",
   "metadata": {},
   "outputs": [
    {
     "data": {
      "text/plain": [
       "6.359245238233859"
      ]
     },
     "execution_count": 242,
     "metadata": {},
     "output_type": "execute_result"
    }
   ],
   "source": [
    "np.std(y) # СКО СВY на основе реализации y"
   ]
  },
  {
   "cell_type": "code",
   "execution_count": 243,
   "id": "18813d1a",
   "metadata": {},
   "outputs": [],
   "source": [
    "XY = np.vstack([x, y]) # матрица 2x10"
   ]
  },
  {
   "cell_type": "code",
   "execution_count": 244,
   "id": "7ea77378",
   "metadata": {},
   "outputs": [
    {
     "data": {
      "text/plain": [
       "array([[1.        , 0.93158099],\n",
       "       [0.93158099, 1.        ]])"
      ]
     },
     "execution_count": 244,
     "metadata": {},
     "output_type": "execute_result"
    }
   ],
   "source": [
    "np.corrcoef(XY) # коэффициент корреляции Пирсона"
   ]
  },
  {
   "cell_type": "code",
   "execution_count": 245,
   "id": "29911783",
   "metadata": {},
   "outputs": [
    {
     "data": {
      "text/plain": [
       "array([[63.65555556, 49.82222222],\n",
       "       [49.82222222, 44.93333333]])"
      ]
     },
     "execution_count": 245,
     "metadata": {},
     "output_type": "execute_result"
    }
   ],
   "source": [
    "np.cov(XY) # ковариационная матрица размерностью 2x2"
   ]
  },
  {
   "cell_type": "code",
   "execution_count": 246,
   "id": "89aab158",
   "metadata": {},
   "outputs": [
    {
     "data": {
      "text/plain": [
       "array([1736])"
      ]
     },
     "execution_count": 246,
     "metadata": {},
     "output_type": "execute_result"
    }
   ],
   "source": [
    "np.correlate(x, y) # для вычисления взаимной корреляции между двумя векторамиx и y"
   ]
  },
  {
   "cell_type": "markdown",
   "id": "d274aab1",
   "metadata": {},
   "source": [
    "# Матричное умножение"
   ]
  },
  {
   "cell_type": "code",
   "execution_count": 247,
   "id": "d8155a51",
   "metadata": {},
   "outputs": [],
   "source": [
    "A = np.arange(1, 10).reshape(3, 3)\n",
    "B = np.arange(10, 19).reshape(3, 3)"
   ]
  },
  {
   "cell_type": "code",
   "execution_count": 248,
   "id": "a92e5ab2",
   "metadata": {},
   "outputs": [
    {
     "data": {
      "text/plain": [
       "array([[ 10,  22,  36],\n",
       "       [ 52,  70,  90],\n",
       "       [112, 136, 162]])"
      ]
     },
     "execution_count": 248,
     "metadata": {},
     "output_type": "execute_result"
    }
   ],
   "source": [
    "A*B # C11 = A11 * B11 (поэлементное умножение)"
   ]
  },
  {
   "cell_type": "code",
   "execution_count": 249,
   "id": "895f878e",
   "metadata": {},
   "outputs": [
    {
     "data": {
      "text/plain": [
       "array([[ 84,  90,  96],\n",
       "       [201, 216, 231],\n",
       "       [318, 342, 366]])"
      ]
     },
     "execution_count": 249,
     "metadata": {},
     "output_type": "execute_result"
    }
   ],
   "source": [
    "np.dot(A, B)"
   ]
  },
  {
   "attachments": {
    "image.png": {
     "image/png": "[encoded data removed]"
    }
   },
   "cell_type": "markdown",
   "id": "57df96f5",
   "metadata": {},
   "source": [
    "![image.png](attachment:image.png)"
   ]
  },
  {
   "cell_type": "code",
   "execution_count": 250,
   "id": "8cb457ec",
   "metadata": {},
   "outputs": [
    {
     "data": {
      "text/plain": [
       "array([[138, 171, 204],\n",
       "       [174, 216, 258],\n",
       "       [210, 261, 312]])"
      ]
     },
     "execution_count": 250,
     "metadata": {},
     "output_type": "execute_result"
    }
   ],
   "source": [
    "np.dot(B, A)"
   ]
  },
  {
   "cell_type": "code",
   "execution_count": 251,
   "id": "00a13ee2",
   "metadata": {},
   "outputs": [
    {
     "data": {
      "text/plain": [
       "array([[ 84,  90,  96],\n",
       "       [201, 216, 231],\n",
       "       [318, 342, 366]])"
      ]
     },
     "execution_count": 251,
     "metadata": {},
     "output_type": "execute_result"
    }
   ],
   "source": [
    "np.matmul(A, B) # аналог dot"
   ]
  },
  {
   "cell_type": "markdown",
   "id": "28f9a059",
   "metadata": {},
   "source": [
    "# Векторное умножение"
   ]
  },
  {
   "cell_type": "code",
   "execution_count": 252,
   "id": "e60902fa",
   "metadata": {},
   "outputs": [],
   "source": [
    "a = np.arange(1, 10)\n",
    "b = np.ones(9)"
   ]
  },
  {
   "cell_type": "code",
   "execution_count": 253,
   "id": "2ebdab8e",
   "metadata": {},
   "outputs": [
    {
     "data": {
      "text/plain": [
       "45.0"
      ]
     },
     "execution_count": 253,
     "metadata": {},
     "output_type": "execute_result"
    }
   ],
   "source": [
    "np.inner(a, b) # или a @ b"
   ]
  },
  {
   "attachments": {
    "image.png": {
     "image/png": "[encoded data removed]"
    }
   },
   "cell_type": "markdown",
   "id": "18233ec2",
   "metadata": {},
   "source": [
    "![image.png](attachment:image.png)"
   ]
  },
  {
   "cell_type": "code",
   "execution_count": 254,
   "id": "58629875",
   "metadata": {},
   "outputs": [
    {
     "data": {
      "text/plain": [
       "array([[1., 1., 1., 1., 1., 1., 1., 1., 1.],\n",
       "       [2., 2., 2., 2., 2., 2., 2., 2., 2.],\n",
       "       [3., 3., 3., 3., 3., 3., 3., 3., 3.],\n",
       "       [4., 4., 4., 4., 4., 4., 4., 4., 4.],\n",
       "       [5., 5., 5., 5., 5., 5., 5., 5., 5.],\n",
       "       [6., 6., 6., 6., 6., 6., 6., 6., 6.],\n",
       "       [7., 7., 7., 7., 7., 7., 7., 7., 7.],\n",
       "       [8., 8., 8., 8., 8., 8., 8., 8., 8.],\n",
       "       [9., 9., 9., 9., 9., 9., 9., 9., 9.]])"
      ]
     },
     "execution_count": 254,
     "metadata": {},
     "output_type": "execute_result"
    }
   ],
   "source": [
    "np.outer(a, b)"
   ]
  },
  {
   "attachments": {
    "image.png": {
     "image/png": "[encoded data removed]"
    }
   },
   "cell_type": "markdown",
   "id": "ff02d7e9",
   "metadata": {},
   "source": [
    "![image.png](attachment:image.png)"
   ]
  },
  {
   "cell_type": "code",
   "execution_count": 255,
   "id": "81d8296c",
   "metadata": {},
   "outputs": [
    {
     "data": {
      "text/plain": [
       "array([[ 6.,  6.,  6.],\n",
       "       [15., 15., 15.],\n",
       "       [24., 24., 24.]])"
      ]
     },
     "execution_count": 255,
     "metadata": {},
     "output_type": "execute_result"
    }
   ],
   "source": [
    "a.resize(3, 3)\n",
    "b.resize(3, 3)\n",
    "a @ b"
   ]
  },
  {
   "cell_type": "code",
   "execution_count": 256,
   "id": "8a9b79d8",
   "metadata": {},
   "outputs": [
    {
     "data": {
      "text/plain": [
       "array([40, 46])"
      ]
     },
     "execution_count": 256,
     "metadata": {},
     "output_type": "execute_result"
    }
   ],
   "source": [
    "a = np.array([1,2,3])\n",
    "b = np.arange(4,10).reshape(3,2) # матрица 3x2\n",
    "np.dot(a, b)"
   ]
  },
  {
   "attachments": {
    "image.png": {
     "image/png": "[encoded data removed]"
    }
   },
   "cell_type": "markdown",
   "id": "6d875a86",
   "metadata": {},
   "source": [
    "![image.png](attachment:image.png)"
   ]
  },
  {
   "cell_type": "code",
   "execution_count": 257,
   "id": "0e1228cd",
   "metadata": {},
   "outputs": [],
   "source": [
    "# np.dot(b, a) # несогласованность размеров"
   ]
  },
  {
   "attachments": {
    "image.png": {
     "image/png": "[encoded data removed]"
    }
   },
   "cell_type": "markdown",
   "id": "3e41a9be",
   "metadata": {},
   "source": [
    "![image.png](attachment:image.png)"
   ]
  },
  {
   "cell_type": "code",
   "execution_count": 258,
   "id": "8b9bbbc3",
   "metadata": {},
   "outputs": [
    {
     "data": {
      "text/plain": [
       "array([14, 20, 26])"
      ]
     },
     "execution_count": 258,
     "metadata": {},
     "output_type": "execute_result"
    }
   ],
   "source": [
    "a = np.array([1, 2])\n",
    "np.dot(b, a) # array([14, 20, 26])"
   ]
  },
  {
   "attachments": {
    "image.png": {
     "image/png": "[encoded data removed]"
    }
   },
   "cell_type": "markdown",
   "id": "fb8b0f8e",
   "metadata": {},
   "source": [
    "![image.png](attachment:image.png)"
   ]
  },
  {
   "cell_type": "markdown",
   "id": "a884e0c5",
   "metadata": {},
   "source": [
    "# Элементы линейной алгебры"
   ]
  },
  {
   "cell_type": "code",
   "execution_count": 259,
   "id": "5e8cbb7f",
   "metadata": {},
   "outputs": [
    {
     "data": {
      "text/plain": [
       "array([[ 1,  2,  3],\n",
       "       [ 1,  4,  9],\n",
       "       [ 1,  8, 27]])"
      ]
     },
     "execution_count": 259,
     "metadata": {},
     "output_type": "execute_result"
    }
   ],
   "source": [
    "a = np.array([(1, 2, 3), (1, 4, 9), (1, 8, 27)])\n",
    "a"
   ]
  },
  {
   "cell_type": "code",
   "execution_count": 260,
   "id": "6d841448",
   "metadata": {},
   "outputs": [
    {
     "data": {
      "text/plain": [
       "3"
      ]
     },
     "execution_count": 260,
     "metadata": {},
     "output_type": "execute_result"
    }
   ],
   "source": [
    "np.linalg.matrix_rank(a) # рангравен 3"
   ]
  },
  {
   "attachments": {
    "image.png": {
     "image/png": "[encoded data removed]"
    }
   },
   "cell_type": "markdown",
   "id": "9609b261",
   "metadata": {},
   "source": [
    "![image.png](attachment:image.png)"
   ]
  },
  {
   "cell_type": "code",
   "execution_count": 261,
   "id": "7a924240",
   "metadata": {},
   "outputs": [],
   "source": [
    "y = np.array([10, 20, 30])"
   ]
  },
  {
   "cell_type": "code",
   "execution_count": 262,
   "id": "0879321f",
   "metadata": {},
   "outputs": [
    {
     "data": {
      "text/plain": [
       "array([-5.        , 10.        , -1.66666667])"
      ]
     },
     "execution_count": 262,
     "metadata": {},
     "output_type": "execute_result"
    }
   ],
   "source": [
    "np.linalg.solve(a, y) # решение системы из 3 линейных уравнения"
   ]
  },
  {
   "cell_type": "code",
   "execution_count": 263,
   "id": "a88e67fd",
   "metadata": {},
   "outputs": [
    {
     "data": {
      "text/plain": [
       "array([-5.        , 10.        , -1.66666667])"
      ]
     },
     "execution_count": 263,
     "metadata": {},
     "output_type": "execute_result"
    }
   ],
   "source": [
    "invA = np.linalg.inv(a) # вычисление обратной матрицы\n",
    "invA @ y # вычисление корней"
   ]
  },
  {
   "cell_type": "markdown",
   "id": "94f138cf",
   "metadata": {},
   "source": [
    "# Множества (unique) и операции над ними"
   ]
  },
  {
   "cell_type": "code",
   "execution_count": 264,
   "id": "1e87504a",
   "metadata": {},
   "outputs": [],
   "source": [
    "a = np.array([5,6,5,9,3,5,6,1,16])"
   ]
  },
  {
   "cell_type": "code",
   "execution_count": 265,
   "id": "54977649",
   "metadata": {},
   "outputs": [
    {
     "data": {
      "text/plain": [
       "array([ 1,  3,  5,  6,  9, 16])"
      ]
     },
     "execution_count": 265,
     "metadata": {},
     "output_type": "execute_result"
    }
   ],
   "source": [
    "np.unique(a)"
   ]
  },
  {
   "cell_type": "code",
   "execution_count": 266,
   "id": "26069a39",
   "metadata": {},
   "outputs": [
    {
     "data": {
      "text/plain": [
       "(array([ 1,  3,  5,  6,  9, 16]), array([1, 1, 3, 2, 1, 1], dtype=int64))"
      ]
     },
     "execution_count": 266,
     "metadata": {},
     "output_type": "execute_result"
    }
   ],
   "source": [
    "np.unique(a, return_counts=True) # число их вхождений"
   ]
  },
  {
   "cell_type": "code",
   "execution_count": 267,
   "id": "f2b58b5d",
   "metadata": {},
   "outputs": [
    {
     "data": {
      "text/plain": [
       "(array([ 1,  3,  5,  6,  9, 16]), array([7, 4, 0, 1, 3, 8], dtype=int64))"
      ]
     },
     "execution_count": 267,
     "metadata": {},
     "output_type": "execute_result"
    }
   ],
   "source": [
    "np.unique(a, return_index=True) #  индексы первого вхождения"
   ]
  },
  {
   "cell_type": "code",
   "execution_count": 268,
   "id": "88246d00",
   "metadata": {},
   "outputs": [],
   "source": [
    "s, indx = np.unique(a, return_inverse=True) # возвращает кортеж (set, indexes)"
   ]
  },
  {
   "cell_type": "code",
   "execution_count": 269,
   "id": "49ee85c4",
   "metadata": {},
   "outputs": [
    {
     "data": {
      "text/plain": [
       "array([ 1,  3,  5,  6,  9, 16])"
      ]
     },
     "execution_count": 269,
     "metadata": {},
     "output_type": "execute_result"
    }
   ],
   "source": [
    "s"
   ]
  },
  {
   "cell_type": "code",
   "execution_count": 270,
   "id": "d4af0d71",
   "metadata": {},
   "outputs": [
    {
     "data": {
      "text/plain": [
       "array([2, 3, 2, 4, 1, 2, 3, 0, 5], dtype=int64)"
      ]
     },
     "execution_count": 270,
     "metadata": {},
     "output_type": "execute_result"
    }
   ],
   "source": [
    "indx"
   ]
  },
  {
   "cell_type": "code",
   "execution_count": 271,
   "id": "6a5f8f70",
   "metadata": {},
   "outputs": [
    {
     "data": {
      "text/plain": [
       "array([ 5,  6,  5,  9,  3,  5,  6,  1, 16])"
      ]
     },
     "execution_count": 271,
     "metadata": {},
     "output_type": "execute_result"
    }
   ],
   "source": [
    "s[indx] # восстановить исходных массив"
   ]
  },
  {
   "cell_type": "code",
   "execution_count": 272,
   "id": "6b1d7e9c",
   "metadata": {},
   "outputs": [
    {
     "data": {
      "text/plain": [
       "array([[0, 1, 1, 2],\n",
       "       [0, 1, 1, 2],\n",
       "       [9, 1, 1, 2]])"
      ]
     },
     "execution_count": 272,
     "metadata": {},
     "output_type": "execute_result"
    }
   ],
   "source": [
    "x = np.array([[0, 1, 1, 2],[0, 1, 1, 2],[9, 1, 1, 2]])\n",
    "x"
   ]
  },
  {
   "cell_type": "code",
   "execution_count": 273,
   "id": "c6eca0ad",
   "metadata": {},
   "outputs": [
    {
     "data": {
      "text/plain": [
       "array([0, 1, 2, 9])"
      ]
     },
     "execution_count": 273,
     "metadata": {},
     "output_type": "execute_result"
    }
   ],
   "source": [
    "np.unique(x)"
   ]
  },
  {
   "cell_type": "code",
   "execution_count": 274,
   "id": "60bbcc52",
   "metadata": {},
   "outputs": [
    {
     "data": {
      "text/plain": [
       "array([[0, 1, 1, 2],\n",
       "       [9, 1, 1, 2]])"
      ]
     },
     "execution_count": 274,
     "metadata": {},
     "output_type": "execute_result"
    }
   ],
   "source": [
    "np.unique(x, axis=0) # уникальные строки"
   ]
  },
  {
   "cell_type": "code",
   "execution_count": 275,
   "id": "70e347d8",
   "metadata": {},
   "outputs": [
    {
     "data": {
      "text/plain": [
       "array([[0, 1, 2],\n",
       "       [0, 1, 2],\n",
       "       [9, 1, 2]])"
      ]
     },
     "execution_count": 275,
     "metadata": {},
     "output_type": "execute_result"
    }
   ],
   "source": [
    "np.unique(x, axis=1) # Уникальные столбцы"
   ]
  },
  {
   "cell_type": "markdown",
   "id": "1f164202",
   "metadata": {},
   "source": [
    "# Операции над множествами"
   ]
  },
  {
   "cell_type": "code",
   "execution_count": 276,
   "id": "272e84de",
   "metadata": {},
   "outputs": [],
   "source": [
    "x = np.array([0, 1, 2, 3])\n",
    "y = np.array([1, 2, 3, 4, 5, 6, 7, 8])"
   ]
  },
  {
   "cell_type": "code",
   "execution_count": 277,
   "id": "4a037759",
   "metadata": {},
   "outputs": [
    {
     "data": {
      "text/plain": [
       "array([False,  True,  True,  True])"
      ]
     },
     "execution_count": 277,
     "metadata": {},
     "output_type": "execute_result"
    }
   ],
   "source": [
    "np.in1d(x, y) # какие числа из х есть в у"
   ]
  },
  {
   "cell_type": "code",
   "execution_count": 278,
   "id": "768c2580",
   "metadata": {},
   "outputs": [
    {
     "data": {
      "text/plain": [
       "array([1, 2, 3])"
      ]
     },
     "execution_count": 278,
     "metadata": {},
     "output_type": "execute_result"
    }
   ],
   "source": [
    "np.intersect1d(x, y)"
   ]
  },
  {
   "attachments": {
    "image.png": {
     "image/png": "[encoded data removed]"
    }
   },
   "cell_type": "markdown",
   "id": "2a4eff39",
   "metadata": {},
   "source": [
    "![image.png](attachment:image.png)"
   ]
  },
  {
   "cell_type": "code",
   "execution_count": 279,
   "id": "29818e34",
   "metadata": {},
   "outputs": [
    {
     "data": {
      "text/plain": [
       "array([0, 1, 2, 3, 4, 5, 6, 7, 8])"
      ]
     },
     "execution_count": 279,
     "metadata": {},
     "output_type": "execute_result"
    }
   ],
   "source": [
    "np.union1d(x, y)"
   ]
  },
  {
   "attachments": {
    "image.png": {
     "image/png": "[encoded data removed]"
    }
   },
   "cell_type": "markdown",
   "id": "3f1fb134",
   "metadata": {},
   "source": [
    "![image.png](attachment:image.png)"
   ]
  },
  {
   "cell_type": "code",
   "execution_count": 280,
   "id": "7a66d0cb",
   "metadata": {},
   "outputs": [
    {
     "data": {
      "text/plain": [
       "array([0])"
      ]
     },
     "execution_count": 280,
     "metadata": {},
     "output_type": "execute_result"
    }
   ],
   "source": [
    "np.setdiff1d(x, y)"
   ]
  },
  {
   "attachments": {
    "image.png": {
     "image/png": "[encoded data removed]"
    }
   },
   "cell_type": "markdown",
   "id": "4343fff8",
   "metadata": {},
   "source": [
    "![image.png](attachment:image.png)"
   ]
  },
  {
   "cell_type": "code",
   "execution_count": 281,
   "id": "65b9cbd1",
   "metadata": {},
   "outputs": [
    {
     "data": {
      "text/plain": [
       "array([4, 5, 6, 7, 8])"
      ]
     },
     "execution_count": 281,
     "metadata": {},
     "output_type": "execute_result"
    }
   ],
   "source": [
    "np.setdiff1d(y, x)"
   ]
  },
  {
   "attachments": {
    "image.png": {
     "image/png": "[encoded data removed]"
    }
   },
   "cell_type": "markdown",
   "id": "60778b24",
   "metadata": {},
   "source": [
    "![image.png](attachment:image.png)"
   ]
  },
  {
   "cell_type": "code",
   "execution_count": 282,
   "id": "3c6d4588",
   "metadata": {},
   "outputs": [
    {
     "data": {
      "text/plain": [
       "array([0, 4, 5, 6, 7, 8])"
      ]
     },
     "execution_count": 282,
     "metadata": {},
     "output_type": "execute_result"
    }
   ],
   "source": [
    "np.setxor1d(x, y) # XOR"
   ]
  },
  {
   "attachments": {
    "image.png": {
     "image/png": "[encoded data removed]"
    }
   },
   "cell_type": "markdown",
   "id": "2e3abd5c",
   "metadata": {},
   "source": [
    "![image.png](attachment:image.png)"
   ]
  },
  {
   "cell_type": "markdown",
   "id": "c142031f",
   "metadata": {},
   "source": [
    "# Транслирование массивов"
   ]
  },
  {
   "cell_type": "code",
   "execution_count": 283,
   "id": "7a790e5c",
   "metadata": {},
   "outputs": [],
   "source": [
    "a = np.array([1, 2, 3, 10, 20, 30])\n",
    "b = np.array([2]) # b ---> np.array([2, 2, 2, 2, 2, 2])"
   ]
  },
  {
   "cell_type": "code",
   "execution_count": 284,
   "id": "2fa2a246",
   "metadata": {},
   "outputs": [
    {
     "data": {
      "text/plain": [
       "array([ 2,  4,  6, 20, 40, 60])"
      ]
     },
     "execution_count": 284,
     "metadata": {},
     "output_type": "execute_result"
    }
   ],
   "source": [
    "a * b"
   ]
  },
  {
   "cell_type": "code",
   "execution_count": 285,
   "id": "e6a0f3fd",
   "metadata": {},
   "outputs": [
    {
     "data": {
      "text/plain": [
       "array([ 3,  4,  5, 12, 22, 32])"
      ]
     },
     "execution_count": 285,
     "metadata": {},
     "output_type": "execute_result"
    }
   ],
   "source": [
    "a + b"
   ]
  },
  {
   "cell_type": "code",
   "execution_count": 286,
   "id": "151986d0",
   "metadata": {},
   "outputs": [],
   "source": [
    "a = np.arange(1, 10).reshape(3,3)\n",
    "b = np.array([4, 5, 6])"
   ]
  },
  {
   "cell_type": "code",
   "execution_count": 287,
   "id": "b8758164",
   "metadata": {},
   "outputs": [
    {
     "data": {
      "text/plain": [
       "array([[1, 2, 3],\n",
       "       [4, 5, 6],\n",
       "       [7, 8, 9]])"
      ]
     },
     "execution_count": 287,
     "metadata": {},
     "output_type": "execute_result"
    }
   ],
   "source": [
    "a"
   ]
  },
  {
   "cell_type": "code",
   "execution_count": 288,
   "id": "260f4da2",
   "metadata": {},
   "outputs": [
    {
     "data": {
      "text/plain": [
       "array([4, 5, 6])"
      ]
     },
     "execution_count": 288,
     "metadata": {},
     "output_type": "execute_result"
    }
   ],
   "source": [
    "b # ---> np.array([[4, 5, 6], [4, 5, 6], [4, 5, 6]])"
   ]
  },
  {
   "cell_type": "code",
   "execution_count": 289,
   "id": "7082474e",
   "metadata": {},
   "outputs": [
    {
     "data": {
      "text/plain": [
       "array([[ 5,  7,  9],\n",
       "       [ 8, 10, 12],\n",
       "       [11, 13, 15]])"
      ]
     },
     "execution_count": 289,
     "metadata": {},
     "output_type": "execute_result"
    }
   ],
   "source": [
    "a + b"
   ]
  },
  {
   "cell_type": "code",
   "execution_count": 290,
   "id": "31f2030a",
   "metadata": {},
   "outputs": [],
   "source": [
    "a = np.arange(6).reshape(3, 1, 2)\n",
    "b = np.ones(4).reshape(2, 2) # ---> b (1), 2, 2 ---> a 3, (2), 2 AND b (3), 2, 2"
   ]
  },
  {
   "cell_type": "markdown",
   "id": "7ebc22de",
   "metadata": {},
   "source": [
    "Если массивы имеют разное число осей (размерностей), то к массиву с меньшим их числом добавляются новые так, чтобы размерности совпадали. (Причем, добавление всегда происходит с оси axis0).\n",
    "Оси с одним элементом расширяются (по числу элементов) так, чтобы соответствующие размерности двух массивов совпадали."
   ]
  },
  {
   "cell_type": "code",
   "execution_count": 291,
   "id": "1c560bef",
   "metadata": {},
   "outputs": [
    {
     "data": {
      "text/plain": [
       "array([[[0, 1]],\n",
       "\n",
       "       [[2, 3]],\n",
       "\n",
       "       [[4, 5]]])"
      ]
     },
     "execution_count": 291,
     "metadata": {},
     "output_type": "execute_result"
    }
   ],
   "source": [
    "a"
   ]
  },
  {
   "cell_type": "code",
   "execution_count": 292,
   "id": "2f90890c",
   "metadata": {},
   "outputs": [
    {
     "data": {
      "text/plain": [
       "array([[1., 1.],\n",
       "       [1., 1.]])"
      ]
     },
     "execution_count": 292,
     "metadata": {},
     "output_type": "execute_result"
    }
   ],
   "source": [
    "b"
   ]
  },
  {
   "cell_type": "code",
   "execution_count": 293,
   "id": "1cea1a80",
   "metadata": {},
   "outputs": [
    {
     "data": {
      "text/plain": [
       "array([[[0., 1.],\n",
       "        [0., 1.]],\n",
       "\n",
       "       [[2., 3.],\n",
       "        [2., 3.]],\n",
       "\n",
       "       [[4., 5.],\n",
       "        [4., 5.]]])"
      ]
     },
     "execution_count": 293,
     "metadata": {},
     "output_type": "execute_result"
    }
   ],
   "source": [
    "a * b"
   ]
  },
  {
   "cell_type": "code",
   "execution_count": 294,
   "id": "19d47023",
   "metadata": {},
   "outputs": [],
   "source": [
    "a = np.array([1, 2, 3])\n",
    "b = np.array([4, 5])\n",
    "c = np.array([7, 8, 9, 10])"
   ]
  },
  {
   "cell_type": "code",
   "execution_count": 295,
   "id": "171f1b86",
   "metadata": {},
   "outputs": [],
   "source": [
    "# a * b + c ошибка, размеры не согласованы"
   ]
  },
  {
   "cell_type": "code",
   "execution_count": 296,
   "id": "1b8b3bd4",
   "metadata": {},
   "outputs": [],
   "source": [
    "# a: 1 x 1 x 3\n",
    "# b: 1 x 2 x 1\n",
    "# c: 4 x 1 x 1"
   ]
  },
  {
   "cell_type": "code",
   "execution_count": 297,
   "id": "4762f169",
   "metadata": {},
   "outputs": [],
   "source": [
    "a.shape = 1, 1, -1\n",
    "b.shape = 1, -1, 1\n",
    "c.shape = -1, 1, 1 # ИЛИ с помощью функции ix_"
   ]
  },
  {
   "cell_type": "code",
   "execution_count": 298,
   "id": "013e2653",
   "metadata": {},
   "outputs": [
    {
     "data": {
      "text/plain": [
       "array([[[11, 15, 19],\n",
       "        [12, 17, 22]],\n",
       "\n",
       "       [[12, 16, 20],\n",
       "        [13, 18, 23]],\n",
       "\n",
       "       [[13, 17, 21],\n",
       "        [14, 19, 24]],\n",
       "\n",
       "       [[14, 18, 22],\n",
       "        [15, 20, 25]]])"
      ]
     },
     "execution_count": 298,
     "metadata": {},
     "output_type": "execute_result"
    }
   ],
   "source": [
    "a * b + c # массив 4x2x3"
   ]
  },
  {
   "cell_type": "code",
   "execution_count": 299,
   "id": "2f33ada0",
   "metadata": {},
   "outputs": [],
   "source": [
    "a = np.array([1, 2, 3])\n",
    "b = np.array([4, 5])\n",
    "c = np.array([7, 8, 9, 10])\n",
    "an, bn, cn = np.ix_(a, b, c)"
   ]
  },
  {
   "cell_type": "code",
   "execution_count": 300,
   "id": "b3724afd",
   "metadata": {},
   "outputs": [
    {
     "data": {
      "text/plain": [
       "array([[[11, 12, 13, 14],\n",
       "        [12, 13, 14, 15]],\n",
       "\n",
       "       [[15, 16, 17, 18],\n",
       "        [17, 18, 19, 20]],\n",
       "\n",
       "       [[19, 20, 21, 22],\n",
       "        [22, 23, 24, 25]]])"
      ]
     },
     "execution_count": 300,
     "metadata": {},
     "output_type": "execute_result"
    }
   ],
   "source": [
    "an * bn + cn # массив 3x2x4"
   ]
  },
  {
   "cell_type": "markdown",
   "id": "71088eca",
   "metadata": {},
   "source": [
    "# RANDOM"
   ]
  },
  {
   "cell_type": "code",
   "execution_count": 303,
   "id": "5c3aa4bf",
   "metadata": {},
   "outputs": [
    {
     "data": {
      "text/plain": [
       "array([ 5.28365598, 78.76702156, 52.58438573, 19.68316069, 59.5203941 ,\n",
       "       54.30834853, 45.14912254, 51.15790811, 66.8190442 , 11.83560211])"
      ]
     },
     "execution_count": 303,
     "metadata": {},
     "output_type": "execute_result"
    }
   ],
   "source": [
    "np.random.uniform(low=0, high=100, size=10) # равномерное распределение"
   ]
  },
  {
   "cell_type": "code",
   "execution_count": 305,
   "id": "6b307107",
   "metadata": {},
   "outputs": [
    {
     "data": {
      "text/plain": [
       "array([101.09459182,  90.15336808,  99.41984301, 123.50273208,\n",
       "        90.88093645, 106.65795222, 100.10498996, 101.54846407,\n",
       "        97.47408219,  95.39640766])"
      ]
     },
     "execution_count": 305,
     "metadata": {},
     "output_type": "execute_result"
    }
   ],
   "source": [
    "np.random.normal(loc=100, scale=10, size=10) # loc - мат.ожидание, scale - ст.откл., size = размер массива"
   ]
  },
  {
   "cell_type": "code",
   "execution_count": 317,
   "id": "b44f3460",
   "metadata": {},
   "outputs": [
    {
     "data": {
      "text/plain": [
       "100.10009372059477"
      ]
     },
     "execution_count": 317,
     "metadata": {},
     "output_type": "execute_result"
    }
   ],
   "source": [
    "np.mean(np.random.normal(loc=100, scale=10, size=10000)) # среднее по выборке будет ~равно мат.ожиданию"
   ]
  },
  {
   "cell_type": "markdown",
   "id": "d9dc9eb0",
   "metadata": {},
   "source": [
    "# MATRIX"
   ]
  },
  {
   "cell_type": "code",
   "execution_count": 4,
   "id": "230b469c",
   "metadata": {},
   "outputs": [
    {
     "data": {
      "text/plain": [
       "array([[ 30,  36,  42],\n",
       "       [ 66,  81,  96],\n",
       "       [102, 126, 150]])"
      ]
     },
     "execution_count": 4,
     "metadata": {},
     "output_type": "execute_result"
    }
   ],
   "source": [
    "a = np.arange(1,10).reshape(3, 3)\n",
    "b = np.arange(1,10).reshape(3, 3)\n",
    "a @ b # аналог np.matmul(a, b) МАТРИЧНОЕ УМНОЖЕНИЕ"
   ]
  },
  {
   "cell_type": "code",
   "execution_count": 5,
   "id": "b6da0ed1",
   "metadata": {},
   "outputs": [
    {
     "data": {
      "text/plain": [
       "array([[ 30,  36,  42],\n",
       "       [ 66,  81,  96],\n",
       "       [102, 126, 150]])"
      ]
     },
     "execution_count": 5,
     "metadata": {},
     "output_type": "execute_result"
    }
   ],
   "source": [
    "a = np.arange(1,10).reshape(3, 3)\n",
    "b = np.arange(1,10).reshape(3, 3)\n",
    "np.dot(a, b) # МАТРИЧНОЕ УМНОЖЕНИЕ"
   ]
  },
  {
   "cell_type": "code",
   "execution_count": 6,
   "id": "9dd3c718",
   "metadata": {},
   "outputs": [
    {
     "data": {
      "text/plain": [
       "array([[ 1,  4,  9],\n",
       "       [16, 25, 36],\n",
       "       [49, 64, 81]])"
      ]
     },
     "execution_count": 6,
     "metadata": {},
     "output_type": "execute_result"
    }
   ],
   "source": [
    "a = np.arange(1,10).reshape(3, 3)\n",
    "b = np.arange(1,10).reshape(3, 3)\n",
    "a * b # ПОЭЛЕМЕНТНОЕ УМНОЖЕНИЕ"
   ]
  },
  {
   "cell_type": "markdown",
   "id": "6eb4ff21",
   "metadata": {},
   "source": [
    "# numpy funcs"
   ]
  },
  {
   "cell_type": "markdown",
   "id": "a2fadbf6",
   "metadata": {},
   "source": [
    "### np.random.normal"
   ]
  },
  {
   "cell_type": "code",
   "execution_count": 38,
   "id": "cce5db56",
   "metadata": {},
   "outputs": [
    {
     "data": {
      "text/plain": [
       "array([ 0.76914677, -0.50253146, -1.31341514,  0.01768454,  0.31498056,\n",
       "       -1.2565297 ,  0.76389818, -0.43421321, -0.59717881,  0.11961654])"
      ]
     },
     "execution_count": 38,
     "metadata": {},
     "output_type": "execute_result"
    }
   ],
   "source": [
    "np.random.normal(size=10)"
   ]
  },
  {
   "cell_type": "code",
   "execution_count": 35,
   "id": "181411b5",
   "metadata": {},
   "outputs": [
    {
     "data": {
      "image/png": "[encoded data removed]",
      "text/plain": [
       "<Figure size 640x480 with 1 Axes>"
      ]
     },
     "metadata": {},
     "output_type": "display_data"
    }
   ],
   "source": [
    "import matplotlib.pyplot as plt\n",
    "\n",
    "mu, sigma = 0, 1 # mean and standard deviation\n",
    "s = np.random.normal(loc=mu, scale=sigma, size=5000)\n",
    "count, bins, ignored = plt.hist(s, 20, density=True)\n",
    "\n",
    "plt.plot(bins, 1/(sigma * np.sqrt(2 * np.pi)) *\n",
    "               np.exp( - (bins - mu)**2 / (2 * sigma**2) ),\n",
    "         linewidth=2, color='r')\n",
    "\n",
    "plt.show()"
   ]
  },
  {
   "cell_type": "markdown",
   "id": "07039552",
   "metadata": {},
   "source": [
    "### np.random.uniform"
   ]
  },
  {
   "cell_type": "code",
   "execution_count": 55,
   "id": "bf4fc31a",
   "metadata": {},
   "outputs": [
    {
     "data": {
      "text/plain": [
       "array([ 3.79269477, -3.82573742,  3.96808636,  3.60157827,  4.11947877,\n",
       "        2.25593297, -1.62777625, -0.90051993, -1.08309298, -3.62669123])"
      ]
     },
     "execution_count": 55,
     "metadata": {},
     "output_type": "execute_result"
    }
   ],
   "source": [
    "np.random.uniform(low=-5,high=5,size=10)"
   ]
  },
  {
   "cell_type": "code",
   "execution_count": 53,
   "id": "61753166",
   "metadata": {},
   "outputs": [
    {
     "data": {
      "image/png": "[encoded data removed]",
      "text/plain": [
       "<Figure size 640x480 with 1 Axes>"
      ]
     },
     "metadata": {},
     "output_type": "display_data"
    }
   ],
   "source": [
    "import matplotlib.pyplot as plt\n",
    "\n",
    "s = np.random.uniform(-1,0,1000)\n",
    "count, bins, ignored = plt.hist(s, 15, density=True)\n",
    "plt.plot(bins, np.ones_like(bins), linewidth=2, color='r')\n",
    "plt.show()"
   ]
  },
  {
   "cell_type": "markdown",
   "id": "d79d4d57",
   "metadata": {},
   "source": [
    "### np.meshgrid"
   ]
  },
  {
   "cell_type": "code",
   "execution_count": 78,
   "id": "88d9a2ef",
   "metadata": {},
   "outputs": [
    {
     "data": {
      "text/plain": [
       "[array([[1, 2, 3],\n",
       "        [1, 2, 3],\n",
       "        [1, 2, 3]]),\n",
       " array([[4, 4, 4],\n",
       "        [5, 5, 5],\n",
       "        [6, 6, 6]])]"
      ]
     },
     "execution_count": 78,
     "metadata": {},
     "output_type": "execute_result"
    }
   ],
   "source": [
    "np.meshgrid([1,2,3], [4,5,6])\n",
    "#  [1, 2, 3]   [4, 4, 4]         \n",
    "#  [1, 2, 3] ; [5, 5, 5]  ---> points: (1,4), (2,4), (3,4), (1,5), (2,5), (3,5), (1,6), (2,6), (3,6)\n",
    "#  [1, 2, 3]   [6, 6, 6]"
   ]
  },
  {
   "cell_type": "code",
   "execution_count": 88,
   "id": "bb4737be",
   "metadata": {},
   "outputs": [],
   "source": [
    "x = np.array([1,2,3]) # координаты x\n",
    "y = np.array([4,5,6,7,8]) # координаты y\n",
    "xv, yv = np.meshgrid(x, y)"
   ]
  },
  {
   "cell_type": "code",
   "execution_count": 89,
   "id": "78af9dfd",
   "metadata": {},
   "outputs": [
    {
     "data": {
      "text/plain": [
       "array([[1, 2, 3],\n",
       "       [1, 2, 3],\n",
       "       [1, 2, 3],\n",
       "       [1, 2, 3],\n",
       "       [1, 2, 3]])"
      ]
     },
     "execution_count": 89,
     "metadata": {},
     "output_type": "execute_result"
    }
   ],
   "source": [
    "xv"
   ]
  },
  {
   "cell_type": "code",
   "execution_count": 90,
   "id": "621abe2d",
   "metadata": {},
   "outputs": [
    {
     "data": {
      "text/plain": [
       "array([[4, 4, 4],\n",
       "       [5, 5, 5],\n",
       "       [6, 6, 6],\n",
       "       [7, 7, 7],\n",
       "       [8, 8, 8]])"
      ]
     },
     "execution_count": 90,
     "metadata": {},
     "output_type": "execute_result"
    }
   ],
   "source": [
    "yv"
   ]
  },
  {
   "cell_type": "code",
   "execution_count": 91,
   "id": "b0b8d1b8",
   "metadata": {
    "scrolled": true
   },
   "outputs": [
    {
     "data": {
      "image/png": "[encoded data removed]",
      "text/plain": [
       "<Figure size 640x480 with 1 Axes>"
      ]
     },
     "metadata": {},
     "output_type": "display_data"
    }
   ],
   "source": [
    "import matplotlib.pyplot as plt\n",
    "plt.plot(xv, yv, marker='o', color='k', linestyle='none')\n",
    "plt.show()"
   ]
  },
  {
   "cell_type": "markdown",
   "id": "d049da2c",
   "metadata": {},
   "source": [
    "### np.vectorize"
   ]
  },
  {
   "cell_type": "code",
   "execution_count": 3,
   "id": "88aae734",
   "metadata": {},
   "outputs": [],
   "source": [
    "x1  = np.array([1,2,3,4,5])"
   ]
  },
  {
   "cell_type": "code",
   "execution_count": 4,
   "id": "f174a6de",
   "metadata": {},
   "outputs": [
    {
     "data": {
      "text/plain": [
       "array([101, 104, 109, 116, 125])"
      ]
     },
     "execution_count": 4,
     "metadata": {},
     "output_type": "execute_result"
    }
   ],
   "source": [
    "x2 = np.vectorize(lambda x: x**2 + 100)(x1)\n",
    "x2"
   ]
  },
  {
   "cell_type": "code",
   "execution_count": 5,
   "id": "744ea9e3",
   "metadata": {},
   "outputs": [
    {
     "data": {
      "text/plain": [
       "array([101, 104, 109, 116, 125])"
      ]
     },
     "execution_count": 5,
     "metadata": {},
     "output_type": "execute_result"
    }
   ],
   "source": [
    "x2 = np.array(list(map(lambda x: x**2 + 100, x1)))\n",
    "x2"
   ]
  },
  {
   "cell_type": "code",
   "execution_count": 7,
   "id": "ab9d2666",
   "metadata": {},
   "outputs": [
    {
     "data": {
      "text/plain": [
       "array([101, 104, 109, 116, 125])"
      ]
     },
     "execution_count": 7,
     "metadata": {},
     "output_type": "execute_result"
    }
   ],
   "source": [
    "x2 = np.array([x**2 + 100 for x in x1])\n",
    "x2"
   ]
  }
 ],
 "metadata": {
  "kernelspec": {
   "display_name": "Python 3 (ipykernel)",
   "language": "python",
   "name": "python3"
  },
  "language_info": {
   "codemirror_mode": {
    "name": "ipython",
    "version": 3
   },
   "file_extension": ".py",
   "mimetype": "text/x-python",
   "name": "python",
   "nbconvert_exporter": "python",
   "pygments_lexer": "ipython3",
   "version": "3.9.13"
  }
 },
 "nbformat": 4,
 "nbformat_minor": 5
}
