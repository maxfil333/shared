{
 "cells": [
  {
   "cell_type": "code",
   "execution_count": 4,
   "metadata": {
    "id": "AbQhFQgLsOnF"
   },
   "outputs": [
    {
     "name": "stdout",
     "output_type": "stream",
     "text": [
      "Requirement already satisfied: transformers in c:\\users\\admin\\anaconda3\\envs\\py311\\lib\\site-packages (4.34.0)\n",
      "Collecting datasets\n",
      "  Obtaining dependency information for datasets from https://files.pythonhosted.org/packages/7c/55/b3432f43d6d7fee999bb23a547820d74c48ec540f5f7842e41aa5d8d5f3a/datasets-2.14.6-py3-none-any.whl.metadata\n",
      "  Downloading datasets-2.14.6-py3-none-any.whl.metadata (19 kB)\n",
      "Requirement already satisfied: filelock in c:\\users\\admin\\anaconda3\\envs\\py311\\lib\\site-packages (from transformers) (3.9.0)\n",
      "Requirement already satisfied: huggingface-hub<1.0,>=0.16.4 in c:\\users\\admin\\anaconda3\\envs\\py311\\lib\\site-packages (from transformers) (0.16.4)\n",
      "Requirement already satisfied: numpy>=1.17 in c:\\users\\admin\\anaconda3\\envs\\py311\\lib\\site-packages (from transformers) (1.24.1)\n",
      "Requirement already satisfied: packaging>=20.0 in c:\\users\\admin\\anaconda3\\envs\\py311\\lib\\site-packages (from transformers) (23.1)\n",
      "Requirement already satisfied: pyyaml>=5.1 in c:\\users\\admin\\anaconda3\\envs\\py311\\lib\\site-packages (from transformers) (6.0.1)\n",
      "Requirement already satisfied: regex!=2019.12.17 in c:\\users\\admin\\anaconda3\\envs\\py311\\lib\\site-packages (from transformers) (2023.8.8)\n",
      "Requirement already satisfied: requests in c:\\users\\admin\\anaconda3\\envs\\py311\\lib\\site-packages (from transformers) (2.28.1)\n",
      "Requirement already satisfied: tokenizers<0.15,>=0.14 in c:\\users\\admin\\anaconda3\\envs\\py311\\lib\\site-packages (from transformers) (0.14.0)\n",
      "Requirement already satisfied: safetensors>=0.3.1 in c:\\users\\admin\\anaconda3\\envs\\py311\\lib\\site-packages (from transformers) (0.3.3)\n",
      "Requirement already satisfied: tqdm>=4.27 in c:\\users\\admin\\anaconda3\\envs\\py311\\lib\\site-packages (from transformers) (4.66.1)\n",
      "Collecting pyarrow>=8.0.0 (from datasets)\n",
      "  Obtaining dependency information for pyarrow>=8.0.0 from https://files.pythonhosted.org/packages/8c/7b/dc6a9ec76880a3230b888dbd89471f6813701e522827225055dd633b733b/pyarrow-14.0.0-cp311-cp311-win_amd64.whl.metadata\n",
      "  Downloading pyarrow-14.0.0-cp311-cp311-win_amd64.whl.metadata (3.1 kB)\n",
      "Collecting dill<0.3.8,>=0.3.0 (from datasets)\n",
      "  Obtaining dependency information for dill<0.3.8,>=0.3.0 from https://files.pythonhosted.org/packages/f5/3a/74a29b11cf2cdfcd6ba89c0cecd70b37cd1ba7b77978ce611eb7a146a832/dill-0.3.7-py3-none-any.whl.metadata\n",
      "  Using cached dill-0.3.7-py3-none-any.whl.metadata (9.9 kB)\n",
      "Requirement already satisfied: pandas in c:\\users\\admin\\anaconda3\\envs\\py311\\lib\\site-packages (from datasets) (2.1.0)\n",
      "Collecting xxhash (from datasets)\n",
      "  Obtaining dependency information for xxhash from https://files.pythonhosted.org/packages/b7/3a/74a609706ef4430fe6d041a3b8d209882c15440b695e373fe26d48c6f35c/xxhash-3.4.1-cp311-cp311-win_amd64.whl.metadata\n",
      "  Using cached xxhash-3.4.1-cp311-cp311-win_amd64.whl.metadata (12 kB)\n",
      "Collecting multiprocess (from datasets)\n",
      "  Obtaining dependency information for multiprocess from https://files.pythonhosted.org/packages/e7/41/96ac938770ba6e7d5ae1d8c9cafebac54b413549042c6260f0d0a6ec6622/multiprocess-0.70.15-py311-none-any.whl.metadata\n",
      "  Using cached multiprocess-0.70.15-py311-none-any.whl.metadata (7.2 kB)\n",
      "Requirement already satisfied: fsspec[http]<=2023.10.0,>=2023.1.0 in c:\\users\\admin\\anaconda3\\envs\\py311\\lib\\site-packages (from datasets) (2023.9.2)\n",
      "Collecting aiohttp (from datasets)\n",
      "  Obtaining dependency information for aiohttp from https://files.pythonhosted.org/packages/2e/9f/9c37b01fc6a37c92f139a4cd937a92f03ebbd75379cfd55e85ca1e571643/aiohttp-3.8.6-cp311-cp311-win_amd64.whl.metadata\n",
      "  Using cached aiohttp-3.8.6-cp311-cp311-win_amd64.whl.metadata (7.9 kB)\n",
      "Requirement already satisfied: attrs>=17.3.0 in c:\\users\\admin\\anaconda3\\envs\\py311\\lib\\site-packages (from aiohttp->datasets) (22.1.0)\n",
      "Requirement already satisfied: charset-normalizer<4.0,>=2.0 in c:\\users\\admin\\anaconda3\\envs\\py311\\lib\\site-packages (from aiohttp->datasets) (2.1.1)\n",
      "Collecting multidict<7.0,>=4.5 (from aiohttp->datasets)\n",
      "  Using cached multidict-6.0.4-cp311-cp311-win_amd64.whl (28 kB)\n",
      "Collecting async-timeout<5.0,>=4.0.0a3 (from aiohttp->datasets)\n",
      "  Obtaining dependency information for async-timeout<5.0,>=4.0.0a3 from https://files.pythonhosted.org/packages/a7/fa/e01228c2938de91d47b307831c62ab9e4001e747789d0b05baf779a6488c/async_timeout-4.0.3-py3-none-any.whl.metadata\n",
      "  Using cached async_timeout-4.0.3-py3-none-any.whl.metadata (4.2 kB)\n",
      "Collecting yarl<2.0,>=1.0 (from aiohttp->datasets)\n",
      "  Using cached yarl-1.9.2-cp311-cp311-win_amd64.whl (60 kB)\n",
      "Collecting frozenlist>=1.1.1 (from aiohttp->datasets)\n",
      "  Obtaining dependency information for frozenlist>=1.1.1 from https://files.pythonhosted.org/packages/39/16/72d9ccd30815d0b37218348f053be37bc3d14288ac192a794a39990ac28e/frozenlist-1.4.0-cp311-cp311-win_amd64.whl.metadata\n",
      "  Using cached frozenlist-1.4.0-cp311-cp311-win_amd64.whl.metadata (5.3 kB)\n",
      "Collecting aiosignal>=1.1.2 (from aiohttp->datasets)\n",
      "  Using cached aiosignal-1.3.1-py3-none-any.whl (7.6 kB)\n",
      "Requirement already satisfied: typing-extensions>=3.7.4.3 in c:\\users\\admin\\anaconda3\\envs\\py311\\lib\\site-packages (from huggingface-hub<1.0,>=0.16.4->transformers) (4.7.1)\n",
      "Requirement already satisfied: idna<4,>=2.5 in c:\\users\\admin\\anaconda3\\envs\\py311\\lib\\site-packages (from requests->transformers) (3.4)\n",
      "Requirement already satisfied: urllib3<1.27,>=1.21.1 in c:\\users\\admin\\anaconda3\\envs\\py311\\lib\\site-packages (from requests->transformers) (1.26.13)\n",
      "Requirement already satisfied: certifi>=2017.4.17 in c:\\users\\admin\\anaconda3\\envs\\py311\\lib\\site-packages (from requests->transformers) (2022.12.7)\n",
      "Requirement already satisfied: colorama in c:\\users\\admin\\anaconda3\\envs\\py311\\lib\\site-packages (from tqdm>=4.27->transformers) (0.4.6)\n",
      "Requirement already satisfied: python-dateutil>=2.8.2 in c:\\users\\admin\\anaconda3\\envs\\py311\\lib\\site-packages (from pandas->datasets) (2.8.2)\n",
      "Requirement already satisfied: pytz>=2020.1 in c:\\users\\admin\\anaconda3\\envs\\py311\\lib\\site-packages (from pandas->datasets) (2023.3.post1)\n",
      "Requirement already satisfied: tzdata>=2022.1 in c:\\users\\admin\\anaconda3\\envs\\py311\\lib\\site-packages (from pandas->datasets) (2023.3)\n",
      "Requirement already satisfied: six>=1.5 in c:\\users\\admin\\anaconda3\\envs\\py311\\lib\\site-packages (from python-dateutil>=2.8.2->pandas->datasets) (1.16.0)\n",
      "Downloading datasets-2.14.6-py3-none-any.whl (493 kB)\n",
      "   ---------------------------------------- 0.0/493.7 kB ? eta -:--:--\n",
      "   -- ------------------------------------- 30.7/493.7 kB 1.4 MB/s eta 0:00:01\n",
      "   ----------- ---------------------------- 143.4/493.7 kB 2.1 MB/s eta 0:00:01\n",
      "   ----------------------------- ---------- 368.6/493.7 kB 3.9 MB/s eta 0:00:01\n",
      "   ---------------------------------------- 493.7/493.7 kB 3.9 MB/s eta 0:00:00\n",
      "Using cached dill-0.3.7-py3-none-any.whl (115 kB)\n",
      "Using cached aiohttp-3.8.6-cp311-cp311-win_amd64.whl (322 kB)\n",
      "Downloading pyarrow-14.0.0-cp311-cp311-win_amd64.whl (24.6 MB)\n",
      "   ---------------------------------------- 0.0/24.6 MB ? eta -:--:--\n",
      "    --------------------------------------- 0.4/24.6 MB 12.5 MB/s eta 0:00:02\n",
      "    --------------------------------------- 0.4/24.6 MB 12.5 MB/s eta 0:00:02\n",
      "    --------------------------------------- 0.4/24.6 MB 12.5 MB/s eta 0:00:02\n",
      "   - -------------------------------------- 0.9/24.6 MB 6.2 MB/s eta 0:00:04\n",
      "   --- ------------------------------------ 2.1/24.6 MB 12.0 MB/s eta 0:00:02\n",
      "   --- ------------------------------------ 2.4/24.6 MB 11.8 MB/s eta 0:00:02\n",
      "   ---- ----------------------------------- 2.6/24.6 MB 11.7 MB/s eta 0:00:02\n",
      "   ----- ---------------------------------- 3.3/24.6 MB 11.6 MB/s eta 0:00:02\n",
      "   ------ --------------------------------- 3.7/24.6 MB 11.8 MB/s eta 0:00:02\n",
      "   ------ --------------------------------- 4.1/24.6 MB 11.4 MB/s eta 0:00:02\n",
      "   ------- -------------------------------- 4.5/24.6 MB 11.6 MB/s eta 0:00:02\n",
      "   -------- ------------------------------- 5.0/24.6 MB 11.7 MB/s eta 0:00:02\n",
      "   -------- ------------------------------- 5.4/24.6 MB 11.9 MB/s eta 0:00:02\n",
      "   --------- ------------------------------ 5.8/24.6 MB 11.6 MB/s eta 0:00:02\n",
      "   ---------- ----------------------------- 6.3/24.6 MB 11.7 MB/s eta 0:00:02\n",
      "   ---------- ----------------------------- 6.7/24.6 MB 11.8 MB/s eta 0:00:02\n",
      "   ----------- ---------------------------- 7.1/24.6 MB 11.6 MB/s eta 0:00:02\n",
      "   ------------ --------------------------- 7.5/24.6 MB 11.7 MB/s eta 0:00:02\n",
      "   ------------ --------------------------- 7.9/24.6 MB 11.8 MB/s eta 0:00:02\n",
      "   ------------- -------------------------- 8.4/24.6 MB 11.9 MB/s eta 0:00:02\n",
      "   -------------- ------------------------- 8.8/24.6 MB 11.7 MB/s eta 0:00:02\n",
      "   --------------- ------------------------ 9.2/24.6 MB 11.8 MB/s eta 0:00:02\n",
      "   --------------- ------------------------ 9.7/24.6 MB 11.9 MB/s eta 0:00:02\n",
      "   ---------------- ----------------------- 10.1/24.6 MB 11.7 MB/s eta 0:00:02\n",
      "   ----------------- ---------------------- 10.5/24.6 MB 11.7 MB/s eta 0:00:02\n",
      "   ----------------- ---------------------- 10.9/24.6 MB 13.1 MB/s eta 0:00:02\n",
      "   ------------------ --------------------- 11.4/24.6 MB 12.4 MB/s eta 0:00:02\n",
      "   ------------------- -------------------- 11.8/24.6 MB 11.9 MB/s eta 0:00:02\n",
      "   ------------------- -------------------- 12.2/24.6 MB 11.7 MB/s eta 0:00:02\n",
      "   -------------------- ------------------- 12.6/24.6 MB 11.7 MB/s eta 0:00:02\n",
      "   --------------------- ------------------ 13.1/24.6 MB 12.4 MB/s eta 0:00:01\n",
      "   --------------------- ------------------ 13.5/24.6 MB 11.9 MB/s eta 0:00:01\n",
      "   ---------------------- ----------------- 13.9/24.6 MB 11.9 MB/s eta 0:00:01\n",
      "   ----------------------- ---------------- 14.3/24.6 MB 11.9 MB/s eta 0:00:01\n",
      "   ------------------------ --------------- 14.8/24.6 MB 11.9 MB/s eta 0:00:01\n",
      "   ------------------------ --------------- 15.2/24.6 MB 11.9 MB/s eta 0:00:01\n",
      "   ------------------------- -------------- 15.6/24.6 MB 11.7 MB/s eta 0:00:01\n",
      "   -------------------------- ------------- 16.1/24.6 MB 11.9 MB/s eta 0:00:01\n",
      "   -------------------------- ------------- 16.5/24.6 MB 11.9 MB/s eta 0:00:01\n",
      "   --------------------------- ------------ 16.9/24.6 MB 11.7 MB/s eta 0:00:01\n",
      "   ---------------------------- ----------- 17.3/24.6 MB 11.7 MB/s eta 0:00:01\n",
      "   ---------------------------- ----------- 17.7/24.6 MB 11.9 MB/s eta 0:00:01\n",
      "   ----------------------------- ---------- 18.2/24.6 MB 11.9 MB/s eta 0:00:01\n",
      "   ------------------------------ --------- 18.6/24.6 MB 11.7 MB/s eta 0:00:01\n",
      "   ------------------------------ --------- 19.0/24.6 MB 11.9 MB/s eta 0:00:01\n",
      "   ------------------------------- -------- 19.5/24.6 MB 11.9 MB/s eta 0:00:01\n",
      "   -------------------------------- ------- 19.9/24.6 MB 11.7 MB/s eta 0:00:01\n",
      "   --------------------------------- ------ 20.3/24.6 MB 11.9 MB/s eta 0:00:01\n",
      "   --------------------------------- ------ 20.7/24.6 MB 11.9 MB/s eta 0:00:01\n",
      "   ---------------------------------- ----- 21.2/24.6 MB 11.7 MB/s eta 0:00:01\n",
      "   ----------------------------------- ---- 21.6/24.6 MB 11.9 MB/s eta 0:00:01\n",
      "   ----------------------------------- ---- 22.0/24.6 MB 11.9 MB/s eta 0:00:01\n",
      "   ------------------------------------ --- 22.4/24.6 MB 11.9 MB/s eta 0:00:01\n",
      "   ------------------------------------- -- 22.9/24.6 MB 11.9 MB/s eta 0:00:01\n",
      "   ------------------------------------- -- 23.3/24.6 MB 11.9 MB/s eta 0:00:01\n",
      "   -------------------------------------- - 23.7/24.6 MB 11.9 MB/s eta 0:00:01\n",
      "   ---------------------------------------  24.1/24.6 MB 11.7 MB/s eta 0:00:01\n",
      "   ---------------------------------------  24.6/24.6 MB 11.9 MB/s eta 0:00:01\n",
      "   ---------------------------------------- 24.6/24.6 MB 11.1 MB/s eta 0:00:00\n",
      "Using cached multiprocess-0.70.15-py311-none-any.whl (135 kB)\n",
      "Using cached xxhash-3.4.1-cp311-cp311-win_amd64.whl (29 kB)\n",
      "Using cached async_timeout-4.0.3-py3-none-any.whl (5.7 kB)\n",
      "Using cached frozenlist-1.4.0-cp311-cp311-win_amd64.whl (44 kB)\n",
      "Installing collected packages: xxhash, pyarrow, multidict, frozenlist, dill, async-timeout, yarl, multiprocess, aiosignal, aiohttp, datasets\n",
      "Successfully installed aiohttp-3.8.6 aiosignal-1.3.1 async-timeout-4.0.3 datasets-2.14.6 dill-0.3.7 frozenlist-1.4.0 multidict-6.0.4 multiprocess-0.70.15 pyarrow-14.0.0 xxhash-3.4.1 yarl-1.9.2\n"
     ]
    }
   ],
   "source": [
    "# Transformers installation\n",
    "! pip install transformers datasets\n",
    "# To install from source instead of the last release, comment the command above and uncomment the following one.\n",
    "# ! pip install git+https://github.com/huggingface/transformers.git"
   ]
  },
  {
   "cell_type": "markdown",
   "metadata": {
    "id": "eEfIdH_0sOnI"
   },
   "source": [
    "# Perplexity of fixed-length models"
   ]
  },
  {
   "cell_type": "markdown",
   "metadata": {
    "id": "MM_5KEhFsOnK"
   },
   "source": [
    "Perplexity (PPL) is one of the most common metrics for evaluating language models. Before diving in, we should note\n",
    "that the metric applies specifically to classical language models (sometimes called autoregressive or causal language\n",
    "models) and is not well defined for masked language models like BERT (see [summary of the models](https://huggingface.co/docs/transformers/main/en/model_summary)).\n",
    "\n",
    "Perplexity is defined as the exponentiated average negative log-likelihood of a sequence. If we have a tokenized\n",
    "sequence $X = (x_0, x_1, \\dots, x_t)$, then the perplexity of $X$ is,\n",
    "\n",
    "$$\\text{PPL}(X) = \\exp \\left\\{ {-\\frac{1}{t}\\sum_i^t \\log p_\\theta (x_i|x_{<i}) } \\right\\}$$\n",
    "\n",
    "where $\\log p_\\theta (x_i|x_{<i})$ is the log-likelihood of the ith token conditioned on the preceding tokens $x_{<i}$ according to our model. Intuitively, it can be thought of as an evaluation of the model's ability to predict uniformly among the set of specified tokens in a corpus. Importantly, this means that the tokenization procedure has a direct impact on a model's perplexity which should always be taken into consideration when comparing different models.\n",
    "\n",
    "This is also equivalent to the exponentiation of the cross-entropy between the data and model predictions. For more\n",
    "intuition about perplexity and its relationship to Bits Per Character (BPC) and data compression, check out this\n",
    "[fantastic blog post on The Gradient](https://thegradient.pub/understanding-evaluation-metrics-for-language-models/)."
   ]
  },
  {
   "cell_type": "markdown",
   "metadata": {
    "id": "6q18vWOwsOnK"
   },
   "source": [
    "## Calculating PPL with fixed-length models"
   ]
  },
  {
   "cell_type": "markdown",
   "metadata": {
    "id": "CDXYUlExsOnL"
   },
   "source": [
    "If we weren't limited by a model's context size, we would evaluate the model's perplexity by autoregressively\n",
    "factorizing a sequence and conditioning on the entire preceding subsequence at each step, as shown below.\n",
    "\n",
    "<img width=\"600\" alt=\"Full decomposition of a sequence with unlimited context length\" src=\"https://huggingface.co/datasets/huggingface/documentation-images/resolve/main/ppl_full.gif\"/>\n",
    "\n",
    "When working with approximate models, however, we typically have a constraint on the number of tokens the model can\n",
    "process. The largest version of [GPT-2](https://huggingface.co/docs/transformers/main/en/model_doc/gpt2), for example, has a fixed length of 1024 tokens, so we\n",
    "cannot calculate $p_\\theta(x_t|x_{<t})$ directly when $t$ is greater than 1024.\n",
    "\n",
    "Instead, the sequence is typically broken into subsequences equal to the model's maximum input size. If a model's max\n",
    "input size is $k$, we then approximate the likelihood of a token $x_t$ by conditioning only on the\n",
    "$k-1$ tokens that precede it rather than the entire context. When evaluating the model's perplexity of a\n",
    "sequence, a tempting but suboptimal approach is to break the sequence into disjoint chunks and add up the decomposed\n",
    "log-likelihoods of each segment independently.\n",
    "\n",
    "<img width=\"600\" alt=\"Suboptimal PPL not taking advantage of full available context\" src=\"https://huggingface.co/datasets/huggingface/documentation-images/resolve/main/ppl_chunked.gif\"/>\n",
    "\n",
    "This is quick to compute since the perplexity of each segment can be computed in one forward pass, but serves as a poor\n",
    "approximation of the fully-factorized perplexity and will typically yield a higher (worse) PPL because the model will\n",
    "have less context at most of the prediction steps.\n",
    "\n",
    "Instead, the PPL of fixed-length models should be evaluated with a sliding-window strategy. This involves repeatedly\n",
    "sliding the context window so that the model has more context when making each prediction.\n",
    "\n",
    "<img width=\"600\" alt=\"Sliding window PPL taking advantage of all available context\" src=\"https://huggingface.co/datasets/huggingface/documentation-images/resolve/main/ppl_sliding.gif\"/>\n",
    "\n",
    "This is a closer approximation to the true decomposition of the sequence probability and will typically yield a more\n",
    "favorable score. The downside is that it requires a separate forward pass for each token in the corpus. A good\n",
    "practical compromise is to employ a strided sliding window, moving the context by larger strides rather than sliding by\n",
    "1 token a time. This allows computation to proceed much faster while still giving the model a large context to make\n",
    "predictions at each step."
   ]
  },
  {
   "cell_type": "markdown",
   "metadata": {
    "id": "ItbCuZ2XsOnL"
   },
   "source": [
    "## Example: Calculating perplexity with GPT-2 in 🤗 Transformers"
   ]
  },
  {
   "cell_type": "markdown",
   "metadata": {
    "id": "Vds4tQHAsOnM"
   },
   "source": [
    "Let's demonstrate this process with GPT-2."
   ]
  },
  {
   "cell_type": "code",
   "execution_count": 5,
   "metadata": {
    "id": "1bPFA50QsOnM"
   },
   "outputs": [],
   "source": [
    "from transformers import GPT2LMHeadModel, GPT2TokenizerFast\n",
    "\n",
    "device = \"cuda\"\n",
    "model_id = \"gpt2\"\n",
    "model = GPT2LMHeadModel.from_pretrained(model_id).to(device)\n",
    "tokenizer = GPT2TokenizerFast.from_pretrained(model_id)"
   ]
  },
  {
   "cell_type": "markdown",
   "metadata": {
    "id": "-Gc5q3e_sOnN"
   },
   "source": [
    "We'll load in the WikiText-2 dataset and evaluate the perplexity using a few different sliding-window strategies. Since\n",
    "this dataset is small and we're just doing one forward pass over the set, we can just load and encode the entire\n",
    "dataset in memory."
   ]
  },
  {
   "cell_type": "code",
   "execution_count": 6,
   "metadata": {
    "id": "DHrwMMv-sOnN"
   },
   "outputs": [
    {
     "data": {
      "application/vnd.jupyter.widget-view+json": {
       "model_id": "3a8937665ef14b66838f5cd20312290d",
       "version_major": 2,
       "version_minor": 0
      },
      "text/plain": [
       "Downloading builder script:   0%|          | 0.00/8.48k [00:00<?, ?B/s]"
      ]
     },
     "metadata": {},
     "output_type": "display_data"
    },
    {
     "data": {
      "application/vnd.jupyter.widget-view+json": {
       "model_id": "7df1a54bec5d4fb39cfbb373d5c65801",
       "version_major": 2,
       "version_minor": 0
      },
      "text/plain": [
       "Downloading metadata:   0%|          | 0.00/6.84k [00:00<?, ?B/s]"
      ]
     },
     "metadata": {},
     "output_type": "display_data"
    },
    {
     "data": {
      "application/vnd.jupyter.widget-view+json": {
       "model_id": "bc13144c323247f3b2be1c6fa799f57a",
       "version_major": 2,
       "version_minor": 0
      },
      "text/plain": [
       "Downloading readme:   0%|          | 0.00/9.62k [00:00<?, ?B/s]"
      ]
     },
     "metadata": {},
     "output_type": "display_data"
    },
    {
     "data": {
      "application/vnd.jupyter.widget-view+json": {
       "model_id": "76a8634b465b43b5b1fda7a8d1cbe1a5",
       "version_major": 2,
       "version_minor": 0
      },
      "text/plain": [
       "Downloading data:   0%|          | 0.00/4.72M [00:00<?, ?B/s]"
      ]
     },
     "metadata": {},
     "output_type": "display_data"
    },
    {
     "data": {
      "application/vnd.jupyter.widget-view+json": {
       "model_id": "19876cea4f74456ba468e4850a5d36b5",
       "version_major": 2,
       "version_minor": 0
      },
      "text/plain": [
       "Generating test split:   0%|          | 0/4358 [00:00<?, ? examples/s]"
      ]
     },
     "metadata": {},
     "output_type": "display_data"
    },
    {
     "data": {
      "application/vnd.jupyter.widget-view+json": {
       "model_id": "7c25bf206116410e8e54b1ed6b08787a",
       "version_major": 2,
       "version_minor": 0
      },
      "text/plain": [
       "Generating train split:   0%|          | 0/36718 [00:00<?, ? examples/s]"
      ]
     },
     "metadata": {},
     "output_type": "display_data"
    },
    {
     "data": {
      "application/vnd.jupyter.widget-view+json": {
       "model_id": "c6204528901842c7b154a49302867687",
       "version_major": 2,
       "version_minor": 0
      },
      "text/plain": [
       "Generating validation split:   0%|          | 0/3760 [00:00<?, ? examples/s]"
      ]
     },
     "metadata": {},
     "output_type": "display_data"
    },
    {
     "name": "stderr",
     "output_type": "stream",
     "text": [
      "Token indices sequence length is longer than the specified maximum sequence length for this model (287644 > 1024). Running this sequence through the model will result in indexing errors\n"
     ]
    }
   ],
   "source": [
    "from datasets import load_dataset\n",
    "\n",
    "test = load_dataset(\"wikitext\", \"wikitext-2-raw-v1\", split=\"test\")\n",
    "encodings = tokenizer(\"\\n\\n\".join(test[\"text\"]), return_tensors=\"pt\")"
   ]
  },
  {
   "cell_type": "markdown",
   "metadata": {
    "id": "r-dz1xJRsOnN"
   },
   "source": [
    "With 🤗 Transformers, we can simply pass the `input_ids` as the `labels` to our model, and the average negative\n",
    "log-likelihood for each token is returned as the loss. With our sliding window approach, however, there is overlap in\n",
    "the tokens we pass to the model at each iteration. We don't want the log-likelihood for the tokens we're just treating\n",
    "as context to be included in our loss, so we can set these targets to `-100` so that they are ignored. The following\n",
    "is an example of how we could do this with a stride of `512`. This means that the model will have at least 512 tokens\n",
    "for context when calculating the conditional likelihood of any one token (provided there are 512 preceding tokens\n",
    "available to condition on)."
   ]
  },
  {
   "cell_type": "code",
   "execution_count": 11,
   "metadata": {},
   "outputs": [
    {
     "data": {
      "text/plain": [
       "'JX percentublic'"
      ]
     },
     "execution_count": 11,
     "metadata": {},
     "output_type": "execute_result"
    }
   ],
   "source": [
    "tokenizer.decode([41, 55, 1411, 841])"
   ]
  },
  {
   "cell_type": "code",
   "execution_count": 17,
   "metadata": {
    "id": "mA7hdLiisOnO"
   },
   "outputs": [
    {
     "name": "stderr",
     "output_type": "stream",
     "text": [
      "\r",
      "  0%|                                                                                          | 0/562 [00:00<?, ?it/s]"
     ]
    },
    {
     "name": "stdout",
     "output_type": "stream",
     "text": [
      "===========================================================\n",
      "1024\n",
      "1024\n",
      "tensor([[  628,   796,  5199,  ...,   290, 43823, 24265]], device='cuda:0')\n",
      "tensor([[  628,   796,  5199,  ...,   290, 43823, 24265]], device='cuda:0')\n"
     ]
    },
    {
     "name": "stderr",
     "output_type": "stream",
     "text": [
      "  1%|▍                                                                                 | 3/562 [00:00<01:24,  6.64it/s]"
     ]
    },
    {
     "name": "stdout",
     "output_type": "stream",
     "text": [
      "===========================================================\n",
      "1536\n",
      "512\n",
      "tensor([[  679,  4120,   287,  ..., 25930,   393,   347]], device='cuda:0')\n",
      "tensor([[ -100,  -100,  -100,  ..., 25930,   393,   347]], device='cuda:0')\n",
      "===========================================================\n",
      "2048\n",
      "512\n",
      "tensor([[7924,  416,  440,  ...,  272,  764,  679]], device='cuda:0')\n",
      "tensor([[-100, -100, -100,  ...,  272,  764,  679]], device='cuda:0')\n",
      "===========================================================\n",
      "2560\n",
      "512\n",
      "tensor([[3885,  417, 7626,  ...,  923,  286,  281]], device='cuda:0')\n",
      "tensor([[-100, -100, -100,  ...,  923,  286,  281]], device='cuda:0')\n"
     ]
    },
    {
     "name": "stderr",
     "output_type": "stream",
     "text": [
      "\r",
      "  1%|▋                                                                                 | 5/562 [00:00<01:01,  9.05it/s]"
     ]
    },
    {
     "name": "stdout",
     "output_type": "stream",
     "text": [
      "===========================================================\n",
      "3072\n",
      "512\n",
      "tensor([[4054,  837,  284,  ...,  262, 3931,  286]], device='cuda:0')\n",
      "tensor([[-100, -100, -100,  ...,  262, 3931,  286]], device='cuda:0')\n",
      "===========================================================\n",
      "3584\n",
      "512\n",
      "tensor([[ 1743,  3451,   764,  ...,   339,  4855, 10343]], device='cuda:0')\n",
      "tensor([[ -100,  -100,  -100,  ...,   339,  4855, 10343]], device='cuda:0')\n",
      "===========================================================\n",
      "4096\n",
      "512\n",
      "tensor([[  767,  3365,   339,  ...,    84, 28599,   764]], device='cuda:0')\n",
      "tensor([[ -100,  -100,  -100,  ...,    84, 28599,   764]], device='cuda:0')\n"
     ]
    },
    {
     "name": "stderr",
     "output_type": "stream",
     "text": [
      "  1%|█▏                                                                                | 8/562 [00:00<01:06,  8.38it/s]"
     ]
    },
    {
     "name": "stdout",
     "output_type": "stream",
     "text": [
      "===========================================================\n",
      "4608\n",
      "512\n",
      "tensor([[13333, 18786,   290,  ..., 33264,   284,   262]], device='cuda:0')\n",
      "tensor([[ -100,  -100,  -100,  ..., 33264,   284,   262]], device='cuda:0')\n",
      "===========================================================\n",
      "5120\n",
      "512\n",
      "tensor([[1881,  286,  262,  ..., 2630,  257, 3704]], device='cuda:0')\n",
      "tensor([[-100, -100, -100,  ..., 2630,  257, 3704]], device='cuda:0')\n"
     ]
    },
    {
     "name": "stderr",
     "output_type": "stream",
     "text": [
      "\n"
     ]
    }
   ],
   "source": [
    "import torch\n",
    "from tqdm import tqdm\n",
    "\n",
    "max_length = model.config.n_positions\n",
    "stride = 512\n",
    "seq_len = encodings.input_ids.size(1)\n",
    "\n",
    "index = 1\n",
    "nlls = []\n",
    "prev_end_loc = 0\n",
    "for begin_loc in tqdm(range(0, seq_len, stride)):\n",
    "    print('===========================================================')\n",
    "    end_loc = min(begin_loc + max_length, seq_len)\n",
    "    print(end_loc)\n",
    "    trg_len = end_loc - prev_end_loc  # may be different from stride on last loop\n",
    "    print(trg_len)\n",
    "    input_ids = encodings.input_ids[:, begin_loc:end_loc].to(device)\n",
    "    print(input_ids)\n",
    "    target_ids = input_ids.clone() \n",
    "    target_ids[:, :-trg_len] = -100\n",
    "    print(target_ids)\n",
    "\n",
    "    with torch.no_grad():\n",
    "        outputs = model(input_ids, labels=target_ids)\n",
    "\n",
    "        # loss is calculated using CrossEntropyLoss which averages over valid labels\n",
    "        # N.B. the model only calculates loss over trg_len - 1 labels, because it internally shifts the labels\n",
    "        # to the left by 1.\n",
    "        neg_log_likelihood = outputs.loss\n",
    "\n",
    "    nlls.append(neg_log_likelihood)\n",
    "\n",
    "    prev_end_loc = end_loc\n",
    "    if end_loc == seq_len:\n",
    "        break\n",
    "    index += 1\n",
    "    if index ==10: break\n",
    "ppl = torch.exp(torch.stack(nlls).mean())"
   ]
  },
  {
   "cell_type": "code",
   "execution_count": 8,
   "metadata": {},
   "outputs": [
    {
     "data": {
      "text/plain": [
       "tensor(25.1880, device='cuda:0')"
      ]
     },
     "execution_count": 8,
     "metadata": {},
     "output_type": "execute_result"
    }
   ],
   "source": [
    "ppl"
   ]
  },
  {
   "cell_type": "markdown",
   "metadata": {
    "id": "2mWsjcPCsOnQ"
   },
   "source": [
    "Running this with the stride length equal to the max input length is equivalent to the suboptimal, non-sliding-window\n",
    "strategy we discussed above. The smaller the stride, the more context the model will have in making each prediction,\n",
    "and the better the reported perplexity will typically be.\n",
    "\n",
    "When we run the above with `stride = 1024`, i.e. no overlap, the resulting PPL is `19.44`, which is about the same\n",
    "as the `19.93` reported in the GPT-2 paper. By using `stride = 512` and thereby employing our striding window\n",
    "strategy, this jumps down to `16.45`. This is not only a more favorable score, but is calculated in a way that is\n",
    "closer to the true autoregressive decomposition of a sequence likelihood."
   ]
  }
 ],
 "metadata": {
  "colab": {
   "provenance": []
  },
  "kernelspec": {
   "display_name": "Python 3 (ipykernel)",
   "language": "python",
   "name": "python3"
  },
  "language_info": {
   "codemirror_mode": {
    "name": "ipython",
    "version": 3
   },
   "file_extension": ".py",
   "mimetype": "text/x-python",
   "name": "python",
   "nbconvert_exporter": "python",
   "pygments_lexer": "ipython3",
   "version": "3.11.5"
  }
 },
 "nbformat": 4,
 "nbformat_minor": 1
}
