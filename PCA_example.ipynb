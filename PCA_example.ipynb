{
 "cells": [
  {
   "cell_type": "code",
   "execution_count": 47,
   "id": "fe6b4118",
   "metadata": {},
   "outputs": [],
   "source": [
    "import matplotlib.pyplot as plt\n",
    "import numpy as np"
   ]
  },
  {
   "cell_type": "markdown",
   "id": "94358848",
   "metadata": {},
   "source": [
    "Есть два признака сильно коррелирующих с друг другом"
   ]
  },
  {
   "cell_type": "code",
   "execution_count": 48,
   "id": "9462fd5f",
   "metadata": {},
   "outputs": [
    {
     "name": "stdout",
     "output_type": "stream",
     "text": [
      "[[ 1.          2.          3.          4.          5.          6.\n",
      "   7.          8.          9.         10.        ]\n",
      " [ 1.53350618  3.18133377  9.98594472  4.77473711  7.83209415 14.59924998\n",
      "  12.84259391 14.12112065 17.25520771 20.41160542]]\n"
     ]
    }
   ],
   "source": [
    "x = np.arange(1,11)\n",
    "y = 2 * x + np.random.randn(10)*2\n",
    "X = np.vstack((x,y))\n",
    "print(X)"
   ]
  },
  {
   "cell_type": "code",
   "execution_count": 49,
   "id": "8d0e141f",
   "metadata": {},
   "outputs": [
    {
     "data": {
      "image/png": "[encoded data removed]",
      "text/plain": [
       "<Figure size 300x300 with 1 Axes>"
      ]
     },
     "metadata": {},
     "output_type": "display_data"
    }
   ],
   "source": [
    "fig = plt.figure(figsize=(3,3))\n",
    "ax = fig.add_subplot()\n",
    "ax.scatter(x, y, s=10)\n",
    "ax.set_xlim(-5,25)\n",
    "ax.set_ylim(-5,25)\n",
    "ax.grid()"
   ]
  },
  {
   "cell_type": "markdown",
   "id": "85f5faf1",
   "metadata": {},
   "source": [
    "Среднее делаем равным 0"
   ]
  },
  {
   "cell_type": "code",
   "execution_count": 50,
   "id": "7c17d555",
   "metadata": {},
   "outputs": [
    {
     "name": "stdout",
     "output_type": "stream",
     "text": [
      "(array([-4.5, -3.5, -2.5, -1.5, -0.5,  0.5,  1.5,  2.5,  3.5,  4.5]), array([-9.12023318, -7.47240559, -0.66779464, -5.87900225, -2.82164521,\n",
      "        3.94551062,  2.18885455,  3.46738129,  6.60146835,  9.75786606]))\n",
      "Mean vector:  (5.5, 10.653739358778676)\n"
     ]
    }
   ],
   "source": [
    "Xcentered = (X[0] - x.mean(), X[1] - y.mean())\n",
    "m = (x.mean(), y.mean())\n",
    "print(Xcentered)\n",
    "print(\"Mean vector: \", m)"
   ]
  },
  {
   "cell_type": "code",
   "execution_count": 51,
   "id": "68f9f4a9",
   "metadata": {},
   "outputs": [
    {
     "data": {
      "image/png": "[encoded data removed]",
      "text/plain": [
       "<Figure size 300x300 with 1 Axes>"
      ]
     },
     "metadata": {},
     "output_type": "display_data"
    }
   ],
   "source": [
    "fig = plt.figure(figsize=(3,3))\n",
    "ax = fig.add_subplot()\n",
    "ax.scatter(Xcentered[0], Xcentered[1], s=10)\n",
    "ax.set_xlim(-15,15)\n",
    "ax.set_ylim(-15,15)\n",
    "ax.grid()"
   ]
  },
  {
   "cell_type": "code",
   "execution_count": null,
   "id": "ed6937a6",
   "metadata": {},
   "outputs": [],
   "source": []
  }
 ],
 "metadata": {
  "kernelspec": {
   "display_name": "Python 3 (ipykernel)",
   "language": "python",
   "name": "python3"
  },
  "language_info": {
   "codemirror_mode": {
    "name": "ipython",
    "version": 3
   },
   "file_extension": ".py",
   "mimetype": "text/x-python",
   "name": "python",
   "nbconvert_exporter": "python",
   "pygments_lexer": "ipython3",
   "version": "3.9.13"
  }
 },
 "nbformat": 4,
 "nbformat_minor": 5
}
