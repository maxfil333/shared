{
 "cells": [
  {
   "cell_type": "code",
   "execution_count": 1,
   "id": "1d6ab07b-f7f1-4b5d-9412-9dc9b46403dd",
   "metadata": {},
   "outputs": [],
   "source": [
    "import cv2\n",
    "from PIL import Image\n",
    "import numpy as np\n",
    "from matplotlib import pyplot as plt"
   ]
  },
  {
   "cell_type": "code",
   "execution_count": 2,
   "id": "bb94fa8e-d41d-4f7f-a61f-454c6930511e",
   "metadata": {},
   "outputs": [],
   "source": [
    "img_path = r'stuf/Moeraki-Boulders-New-Zealand.jpg'"
   ]
  },
  {
   "cell_type": "code",
   "execution_count": 3,
   "id": "03ae78ed-09eb-4b64-9433-fd58d09d3d29",
   "metadata": {},
   "outputs": [],
   "source": [
    "# load image in cv2\n",
    "cv_img = cv2.imread(img_path) # > numpy.ndarray\n",
    "\n",
    "# load image in pillow\n",
    "pil_img = Image.open(img_path) # > PIL.JpegImagePlugin.JpegImageFile"
   ]
  },
  {
   "cell_type": "code",
   "execution_count": 4,
   "id": "b71b16dd-faa7-4160-9d62-7de65b6bccf9",
   "metadata": {},
   "outputs": [],
   "source": [
    "Image.fromarray(cv_img) # открытие через PIL изображения cv2 будет инвертировано т.к. в cv2 оно хранится в формате BGR\n",
    "Image.fromarray(cv_img[:, :, (2,1,0)]) # открытие через PIL изображения cv2, предварительно преобразовав в RGB\n",
    "Image.fromarray(cv_img[:, :, ::-1]) # открытие через PIL изображения cv2, предварительно преобразовав в RGB\n",
    "Image.fromarray(cv2.cvtColor(cv_img, cv2.COLOR_BGR2RGB)); # открытие через PIL изображения cv2, предварительно преобразовав в RGB"
   ]
  },
  {
   "cell_type": "code",
   "execution_count": 5,
   "id": "2327771d-b7b8-4706-8221-4886b1194d68",
   "metadata": {},
   "outputs": [],
   "source": [
    "cv2.imshow(\"MY IMAGE\", cv_img) # отобразится нормально\n",
    "cv2.waitKey(0)\n",
    "cv2.destroyAllWindows()"
   ]
  },
  {
   "cell_type": "code",
   "execution_count": 6,
   "id": "19484c2c-9120-4cab-83a2-b10ac3fd0ebc",
   "metadata": {},
   "outputs": [],
   "source": [
    "cv2.imshow(\"MY IMAGE\", np.array(pil_img)) # отобразится инвентированно, нужно преобразовать в BGR: np.array(pil_img)[:,:,::-1]\n",
    "cv2.waitKey(0)\n",
    "cv2.destroyAllWindows()"
   ]
  }
 ],
 "metadata": {
  "kernelspec": {
   "display_name": "Python 3 (ipykernel)",
   "language": "python",
   "name": "python3"
  },
  "language_info": {
   "codemirror_mode": {
    "name": "ipython",
    "version": 3
   },
   "file_extension": ".py",
   "mimetype": "text/x-python",
   "name": "python",
   "nbconvert_exporter": "python",
   "pygments_lexer": "ipython3",
   "version": "3.11.7"
  }
 },
 "nbformat": 4,
 "nbformat_minor": 5
}
