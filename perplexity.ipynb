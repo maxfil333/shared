{
 "cells": [
  {
   "cell_type": "code",
   "execution_count": 1,
   "id": "35d187f0",
   "metadata": {},
   "outputs": [],
   "source": [
    "import math\n",
    "from math import log"
   ]
  },
  {
   "cell_type": "code",
   "execution_count": 2,
   "id": "e143e8b7",
   "metadata": {},
   "outputs": [
    {
     "data": {
      "text/plain": [
       "4.710530701645918"
      ]
     },
     "execution_count": 2,
     "metadata": {},
     "output_type": "execute_result"
    }
   ],
   "source": [
    "-log(0.2) + -log(0.3) + -log(0.15) "
   ]
  },
  {
   "cell_type": "code",
   "execution_count": 3,
   "id": "753fe030",
   "metadata": {},
   "outputs": [
    {
     "data": {
      "text/plain": [
       "0.2779297810091027"
      ]
     },
     "execution_count": 3,
     "metadata": {},
     "output_type": "execute_result"
    }
   ],
   "source": [
    "-log(0.99) + -log(0.9) + -log(0.85) "
   ]
  },
  {
   "cell_type": "code",
   "execution_count": 4,
   "id": "0f8e13fd",
   "metadata": {},
   "outputs": [
    {
     "data": {
      "text/plain": [
       "4.807498567691361"
      ]
     },
     "execution_count": 4,
     "metadata": {},
     "output_type": "execute_result"
    }
   ],
   "source": [
    "math.exp((-log(0.2) + -log(0.3) + -log(0.15)) / 3 ) "
   ]
  },
  {
   "cell_type": "code",
   "execution_count": 5,
   "id": "30ad2805",
   "metadata": {},
   "outputs": [
    {
     "data": {
      "text/plain": [
       "1.097070296962729"
      ]
     },
     "execution_count": 5,
     "metadata": {},
     "output_type": "execute_result"
    }
   ],
   "source": [
    "math.exp((-log(0.99) + -log(0.9) + -log(0.85)) / 3 ) "
   ]
  },
  {
   "cell_type": "code",
   "execution_count": 6,
   "id": "481e0d0c",
   "metadata": {},
   "outputs": [
    {
     "data": {
      "text/plain": [
       "4.806648193775178"
      ]
     },
     "execution_count": 6,
     "metadata": {},
     "output_type": "execute_result"
    }
   ],
   "source": [
    "math.exp(4.71/3)"
   ]
  },
  {
   "cell_type": "markdown",
   "id": "edd80352",
   "metadata": {},
   "source": [
    "### example torch "
   ]
  },
  {
   "cell_type": "code",
   "execution_count": 7,
   "id": "43b4409d",
   "metadata": {},
   "outputs": [
    {
     "name": "stderr",
     "output_type": "stream",
     "text": [
      "C:\\Users\\Admin\\anaconda3\\envs\\py311\\Lib\\site-packages\\torchaudio\\backend\\utils.py:74: UserWarning: No audio backend is available.\n",
      "  warnings.warn(\"No audio backend is available.\")\n"
     ]
    }
   ],
   "source": [
    "import torch\n",
    "from torcheval.metrics.text import Perplexity"
   ]
  },
  {
   "cell_type": "code",
   "execution_count": 8,
   "id": "0bb5f7ab",
   "metadata": {},
   "outputs": [
    {
     "data": {
      "text/plain": [
       "tensor(3.5257, dtype=torch.float64)"
      ]
     },
     "execution_count": 8,
     "metadata": {},
     "output_type": "execute_result"
    }
   ],
   "source": [
    "metric = Perplexity()\n",
    "input = torch.tensor([[[0.3659, 0.7025, 0.3104]], [[0.0097, 0.6577, 0.1947]],[[0.5659, 0.0025, 0.0104]], [[0.9097, 0.0577, 0.7947]]])\n",
    "target = torch.tensor([[2],  [1], [2],  [1]])\n",
    "metric.update(input, target)\n",
    "metric.compute()"
   ]
  },
  {
   "cell_type": "markdown",
   "id": "f284eb81",
   "metadata": {},
   "source": [
    "### example math "
   ]
  },
  {
   "cell_type": "code",
   "execution_count": 9,
   "id": "446f4583",
   "metadata": {},
   "outputs": [
    {
     "data": {
      "text/plain": [
       "4"
      ]
     },
     "execution_count": 9,
     "metadata": {},
     "output_type": "execute_result"
    }
   ],
   "source": [
    "input = torch.tensor([[[0.3659, 0.7025, 0.3104]], \n",
    "                      [[0.0097, 0.6577, 0.1947]],\n",
    "                      [[0.5659, 0.0025, 0.0104]], \n",
    "                      [[0.9097, 0.0577, 0.7947]]])\n",
    "\n",
    "length = len(input)\n",
    "length"
   ]
  },
  {
   "cell_type": "code",
   "execution_count": 20,
   "id": "13e4c0a5",
   "metadata": {},
   "outputs": [
    {
     "data": {
      "text/plain": [
       "tensor([[[0.2988, 0.4184, 0.2827]],\n",
       "\n",
       "        [[0.2430, 0.4646, 0.2924]],\n",
       "\n",
       "        [[0.4666, 0.2656, 0.2677]],\n",
       "\n",
       "        [[0.4314, 0.1840, 0.3846]]])"
      ]
     },
     "execution_count": 20,
     "metadata": {},
     "output_type": "execute_result"
    }
   ],
   "source": [
    "soft_inputs = torch.nn.functional.softmax(input, dim=2)\n",
    "soft_inputs"
   ]
  },
  {
   "cell_type": "code",
   "execution_count": 21,
   "id": "5873c59a",
   "metadata": {},
   "outputs": [
    {
     "data": {
      "text/plain": [
       "[0.2827131152153015,\n",
       " 0.46457964181900024,\n",
       " 0.26774170994758606,\n",
       " 0.18402691185474396]"
      ]
     },
     "execution_count": 21,
     "metadata": {},
     "output_type": "execute_result"
    }
   ],
   "source": [
    "new_input = []\n",
    "for i, indx in enumerate(target):\n",
    "    indx = indx.item()\n",
    "    new_input.append(soft_inputs[i][0][indx].item())\n",
    "    \n",
    "new_input"
   ]
  },
  {
   "cell_type": "code",
   "execution_count": 22,
   "id": "473a579c",
   "metadata": {},
   "outputs": [],
   "source": [
    "result = []\n",
    "for i in new_input:\n",
    "    result.append(-log(i))"
   ]
  },
  {
   "cell_type": "code",
   "execution_count": 23,
   "id": "12ce884b",
   "metadata": {},
   "outputs": [
    {
     "data": {
      "text/plain": [
       "[1.2633226226621967, 0.7666222783338342, 1.3177325320473865, 1.692673271987984]"
      ]
     },
     "execution_count": 23,
     "metadata": {},
     "output_type": "execute_result"
    }
   ],
   "source": [
    "result"
   ]
  },
  {
   "cell_type": "code",
   "execution_count": 24,
   "id": "759c7e1e",
   "metadata": {},
   "outputs": [
    {
     "data": {
      "text/plain": [
       "3.5257305966793155"
      ]
     },
     "execution_count": 24,
     "metadata": {},
     "output_type": "execute_result"
    }
   ],
   "source": [
    "math.exp(sum(result) / 4)"
   ]
  },
  {
   "cell_type": "markdown",
   "id": "c0f9d812",
   "metadata": {},
   "source": [
    "### с кросс-энтропией"
   ]
  },
  {
   "cell_type": "code",
   "execution_count": 19,
   "id": "535954c0",
   "metadata": {},
   "outputs": [
    {
     "name": "stdout",
     "output_type": "stream",
     "text": [
      "Перплексия: 3.525730848312378\n"
     ]
    }
   ],
   "source": [
    "import torch\n",
    "import torch.nn.functional as F\n",
    "\n",
    "input_data = torch.tensor([[[0.3659, 0.7025, 0.3104]],\n",
    "                           [[0.0097, 0.6577, 0.1947]],\n",
    "                           [[0.5659, 0.0025, 0.0104]],\n",
    "                           [[0.9097, 0.0577, 0.7947]]])\n",
    "\n",
    "target = torch.tensor([[2], [1], [2], [1]])\n",
    "\n",
    "# Применяем softmax к логитам для получения вероятностей\n",
    "probs = F.softmax(input_data, dim=2)\n",
    "\n",
    "# Вычисляем перекрестную энтропию (cross-entropy)\n",
    "loss = F.cross_entropy(input_data.view(-1, input_data.size(-1)), target.view(-1), reduction='mean')\n",
    "\n",
    "# Пересчитываем перекрестную энтропию в перплексию\n",
    "perplexity = torch.exp(loss)\n",
    "\n",
    "print(f'Перплексия: {perplexity.item()}')"
   ]
  }
 ],
 "metadata": {
  "kernelspec": {
   "display_name": "Python 3 (ipykernel)",
   "language": "python",
   "name": "python3"
  },
  "language_info": {
   "codemirror_mode": {
    "name": "ipython",
    "version": 3
   },
   "file_extension": ".py",
   "mimetype": "text/x-python",
   "name": "python",
   "nbconvert_exporter": "python",
   "pygments_lexer": "ipython3",
   "version": "3.11.5"
  }
 },
 "nbformat": 4,
 "nbformat_minor": 5
}
